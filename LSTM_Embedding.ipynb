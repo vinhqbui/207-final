{
  "nbformat": 4,
  "nbformat_minor": 0,
  "metadata": {
    "colab": {
      "provenance": []
    },
    "kernelspec": {
      "name": "python3",
      "display_name": "Python 3"
    },
    "language_info": {
      "name": "python"
    },
    "accelerator": "TPU"
  },
  "cells": [
    {
      "cell_type": "code",
      "source": [
        "!pip install --quiet optuna"
      ],
      "metadata": {
        "id": "pY0Mm1rdl28-"
      },
      "execution_count": null,
      "outputs": []
    },
    {
      "cell_type": "code",
      "execution_count": null,
      "metadata": {
        "id": "LpuK8yHdya8j"
      },
      "outputs": [],
      "source": [
        "import pandas as pd\n",
        "from sklearn.model_selection import train_test_split\n",
        "from sklearn.preprocessing import MinMaxScaler\n",
        "from tensorflow.keras.preprocessing.text import Tokenizer\n",
        "from tensorflow.keras.preprocessing.sequence import pad_sequences\n",
        "from tensorflow.keras.models import Model\n",
        "from tensorflow.keras.layers import Input, LSTM, Embedding, Dense, Concatenate\n",
        "from tensorflow.keras.optimizers import Adam, Adagrad\n",
        "\n",
        "import optuna\n",
        "from optuna import Trial"
      ]
    },
    {
      "cell_type": "code",
      "source": [
        "data = pd.read_csv('apple_processed_data.csv')\n",
        "\n",
        "# Assuming df is your DataFrame\n",
        "lag = 5\n",
        "addition = list()\n",
        "data['ema'] = data['close'].ewm(span=lag).mean()\n",
        "addition.append('ema')\n",
        "for i in range(1, lag+1):\n",
        "  temp = 'lag_' + str(i)\n",
        "  data[temp] = data['close'].shift(i)\n",
        "  addition.append(temp)\n",
        "data = data.iloc[lag:]\n",
        "\n",
        "addition.extend(['close', 'open', 'lowest', 'highest', 'total_vol', 'mean_vol', 'std_vol'])\n",
        "numerical_features = data[addition]\n",
        "target = data['is_up']"
      ],
      "metadata": {
        "id": "4b58bo_Hy2-2"
      },
      "execution_count": null,
      "outputs": []
    },
    {
      "cell_type": "code",
      "source": [
        "scaler = MinMaxScaler()\n",
        "scaled_numerical_features = scaler.fit_transform(numerical_features)\n"
      ],
      "metadata": {
        "id": "Of1ppLZnzNga"
      },
      "execution_count": null,
      "outputs": []
    },
    {
      "cell_type": "code",
      "source": [
        "input_dim = 10000\n",
        "\n",
        "tokenizer = Tokenizer(num_words=input_dim, oov_token='<OOV>')\n",
        "tokenizer.fit_on_texts(data['news'])\n",
        "sequences = tokenizer.texts_to_sequences(data['news'])\n",
        "padded_sequences = pad_sequences(sequences, maxlen=200)"
      ],
      "metadata": {
        "id": "rLChVeMVza5W"
      },
      "execution_count": null,
      "outputs": []
    },
    {
      "cell_type": "code",
      "source": [
        "# Create train and test splits\n",
        "X_train_num, X_test_num, X_train_news, X_test_news, y_train, y_test = train_test_split(\n",
        "    scaled_numerical_features, padded_sequences, target, test_size=0.2, random_state=42)"
      ],
      "metadata": {
        "id": "4-Y1Y6uUzpZJ"
      },
      "execution_count": null,
      "outputs": []
    },
    {
      "cell_type": "markdown",
      "source": [
        "## Setup model and optuna"
      ],
      "metadata": {
        "id": "vVERgxadmM_u"
      }
    },
    {
      "cell_type": "code",
      "source": [
        "def build_model(units):\n",
        "  numerical_input = Input(shape=(X_train_num.shape[1],), name='num_input')\n",
        "  numerical_output = Dense(units, activation='relu')(numerical_input)\n",
        "\n",
        "  news_input = Input(shape = (X_train_news.shape[1], ), name='news_input')\n",
        "  embedding = Embedding(input_dim = input_dim, output_dim = units, input_length = X_train_news.shape[1])(news_input)\n",
        "  lstm_out = LSTM(units)(embedding)\n",
        "  concat = Concatenate()([numerical_output, lstm_out])\n",
        "  output = Dense(1, activation = 'sigmoid')(concat)\n",
        "\n",
        "  model = Model(\n",
        "      inputs = [numerical_input, news_input],\n",
        "      outputs = output\n",
        "  )\n",
        "  model.compile(optimizer=Adagrad(), loss='binary_crossentropy', metrics=['accuracy'])\n",
        "  return model"
      ],
      "metadata": {
        "id": "Tz7HoNIHKESm"
      },
      "execution_count": null,
      "outputs": []
    },
    {
      "cell_type": "code",
      "source": [
        "# Define Model\n",
        "def objective(trial: Trial):\n",
        "  units = trial.suggest_int('units', low=8, high=64)\n",
        "\n",
        "  numerical_input = Input(shape=(X_train_num.shape[1],), name='num_input')\n",
        "  numerical_output = Dense(units, activation='relu')(numerical_input)\n",
        "\n",
        "  news_input = Input(shape = (X_train_news.shape[1], ), name='news_input')\n",
        "  embedding = Embedding(input_dim = input_dim, output_dim = units, input_length = X_train_news.shape[1])(news_input)\n",
        "  lstm_out = LSTM(units)(embedding)\n",
        "  concat = Concatenate()([numerical_output, lstm_out])\n",
        "  output = Dense(1, activation = 'sigmoid')(concat)\n",
        "\n",
        "  model = Model(\n",
        "      inputs = [numerical_input, news_input],\n",
        "      outputs = output\n",
        "  )\n",
        "  model.compile(optimizer=Adagrad(), loss='binary_crossentropy', metrics=['accuracy'])\n",
        "  history = model.fit([X_train_num, X_train_news], y_train, batch_size=16, epochs=6, validation_split=0.2)\n",
        "  loss, accuracy = model.evaluate([X_test_num, X_test_news], y_test)\n",
        "  return accuracy\n"
      ],
      "metadata": {
        "id": "zudpBFoFzqXx"
      },
      "execution_count": null,
      "outputs": []
    },
    {
      "cell_type": "code",
      "source": [
        "study = optuna.create_study(direction='maximize')\n",
        "study.optimize(objective, n_trials=100)\n",
        "\n",
        "trial = study.best_trial\n",
        "\n",
        "print(\"Accuracy: {}\".format(trial.value))\n",
        "print(\"Best hyperparameters: {}\".format(trial.params))"
      ],
      "metadata": {
        "colab": {
          "base_uri": "https://localhost:8080/"
        },
        "id": "65liN2wT0C1h",
        "outputId": "49d8496f-e4a3-4526-e2fe-f24532777d60"
      },
      "execution_count": null,
      "outputs": [
        {
          "metadata": {
            "tags": null
          },
          "name": "stderr",
          "output_type": "stream",
          "text": [
            "[I 2024-03-23 23:20:47,329] A new study created in memory with name: no-name-c7b6ffc8-99bb-4bb2-8571-84f29b39ab40\n"
          ]
        },
        {
          "metadata": {
            "tags": null
          },
          "name": "stdout",
          "output_type": "stream",
          "text": [
            "Epoch 1/6\n",
            "89/89 [==============================] - 21s 178ms/step - loss: 0.6930 - accuracy: 0.4856 - val_loss: 0.6932 - val_accuracy: 0.4873\n",
            "Epoch 2/6\n",
            "89/89 [==============================] - 11s 125ms/step - loss: 0.6928 - accuracy: 0.5300 - val_loss: 0.6927 - val_accuracy: 0.5239\n",
            "Epoch 3/6\n",
            "89/89 [==============================] - 11s 121ms/step - loss: 0.6926 - accuracy: 0.5285 - val_loss: 0.6924 - val_accuracy: 0.5521\n",
            "Epoch 4/6\n",
            "89/89 [==============================] - 11s 129ms/step - loss: 0.6925 - accuracy: 0.5229 - val_loss: 0.6922 - val_accuracy: 0.5324\n",
            "Epoch 5/6\n",
            "89/89 [==============================] - 12s 130ms/step - loss: 0.6925 - accuracy: 0.5236 - val_loss: 0.6920 - val_accuracy: 0.5408\n",
            "Epoch 6/6\n",
            "89/89 [==============================] - 12s 131ms/step - loss: 0.6924 - accuracy: 0.5208 - val_loss: 0.6919 - val_accuracy: 0.5408\n",
            "14/14 [==============================] - 0s 29ms/step - loss: 0.6919 - accuracy: 0.5248\n"
          ]
        },
        {
          "metadata": {
            "tags": null
          },
          "name": "stderr",
          "output_type": "stream",
          "text": [
            "[I 2024-03-23 23:22:14,586] Trial 0 finished with value: 0.5247747898101807 and parameters: {'units': 56}. Best is trial 0 with value: 0.5247747898101807.\n"
          ]
        },
        {
          "metadata": {
            "tags": null
          },
          "name": "stdout",
          "output_type": "stream",
          "text": [
            "Epoch 1/6\n",
            "89/89 [==============================] - 13s 120ms/step - loss: 0.6950 - accuracy: 0.5208 - val_loss: 0.6892 - val_accuracy: 0.5408\n",
            "Epoch 2/6\n",
            "89/89 [==============================] - 10s 108ms/step - loss: 0.6944 - accuracy: 0.5222 - val_loss: 0.6893 - val_accuracy: 0.5408\n",
            "Epoch 3/6\n",
            "89/89 [==============================] - 9s 97ms/step - loss: 0.6941 - accuracy: 0.5215 - val_loss: 0.6895 - val_accuracy: 0.5408\n",
            "Epoch 4/6\n",
            "89/89 [==============================] - 10s 108ms/step - loss: 0.6938 - accuracy: 0.5208 - val_loss: 0.6896 - val_accuracy: 0.5408\n",
            "Epoch 5/6\n",
            "89/89 [==============================] - 10s 107ms/step - loss: 0.6937 - accuracy: 0.5222 - val_loss: 0.6898 - val_accuracy: 0.5437\n",
            "Epoch 6/6\n",
            "89/89 [==============================] - 9s 104ms/step - loss: 0.6935 - accuracy: 0.5215 - val_loss: 0.6899 - val_accuracy: 0.5437\n",
            "14/14 [==============================] - 0s 25ms/step - loss: 0.6934 - accuracy: 0.5203\n"
          ]
        },
        {
          "metadata": {
            "tags": null
          },
          "name": "stderr",
          "output_type": "stream",
          "text": [
            "[I 2024-03-23 23:23:15,216] Trial 1 finished with value: 0.5202702879905701 and parameters: {'units': 30}. Best is trial 0 with value: 0.5247747898101807.\n"
          ]
        },
        {
          "metadata": {
            "tags": null
          },
          "name": "stdout",
          "output_type": "stream",
          "text": [
            "Epoch 1/6\n",
            "89/89 [==============================] - 13s 115ms/step - loss: 0.6944 - accuracy: 0.4813 - val_loss: 0.6956 - val_accuracy: 0.4563\n",
            "Epoch 2/6\n",
            "89/89 [==============================] - 8s 91ms/step - loss: 0.6939 - accuracy: 0.4863 - val_loss: 0.6948 - val_accuracy: 0.4507\n",
            "Epoch 3/6\n",
            "89/89 [==============================] - 9s 102ms/step - loss: 0.6936 - accuracy: 0.4905 - val_loss: 0.6942 - val_accuracy: 0.4648\n",
            "Epoch 4/6\n",
            "89/89 [==============================] - 9s 105ms/step - loss: 0.6935 - accuracy: 0.4947 - val_loss: 0.6938 - val_accuracy: 0.4704\n",
            "Epoch 5/6\n",
            "89/89 [==============================] - 8s 94ms/step - loss: 0.6933 - accuracy: 0.4968 - val_loss: 0.6935 - val_accuracy: 0.5070\n",
            "Epoch 6/6\n",
            "89/89 [==============================] - 9s 102ms/step - loss: 0.6932 - accuracy: 0.5067 - val_loss: 0.6932 - val_accuracy: 0.5239\n",
            "14/14 [==============================] - 0s 24ms/step - loss: 0.6927 - accuracy: 0.5248\n"
          ]
        },
        {
          "metadata": {
            "tags": null
          },
          "name": "stderr",
          "output_type": "stream",
          "text": [
            "[I 2024-03-23 23:24:13,068] Trial 2 finished with value: 0.5247747898101807 and parameters: {'units': 28}. Best is trial 0 with value: 0.5247747898101807.\n"
          ]
        },
        {
          "metadata": {
            "tags": null
          },
          "name": "stdout",
          "output_type": "stream",
          "text": [
            "Epoch 1/6\n",
            "89/89 [==============================] - 13s 116ms/step - loss: 0.6931 - accuracy: 0.5159 - val_loss: 0.6925 - val_accuracy: 0.5155\n",
            "Epoch 2/6\n",
            "89/89 [==============================] - 10s 109ms/step - loss: 0.6929 - accuracy: 0.5208 - val_loss: 0.6922 - val_accuracy: 0.5324\n",
            "Epoch 3/6\n",
            "89/89 [==============================] - 10s 110ms/step - loss: 0.6928 - accuracy: 0.5215 - val_loss: 0.6919 - val_accuracy: 0.5408\n",
            "Epoch 4/6\n",
            "89/89 [==============================] - 9s 102ms/step - loss: 0.6928 - accuracy: 0.5215 - val_loss: 0.6918 - val_accuracy: 0.5408\n",
            "Epoch 5/6\n",
            "89/89 [==============================] - 9s 105ms/step - loss: 0.6927 - accuracy: 0.5215 - val_loss: 0.6916 - val_accuracy: 0.5408\n",
            "Epoch 6/6\n",
            "89/89 [==============================] - 10s 110ms/step - loss: 0.6926 - accuracy: 0.5215 - val_loss: 0.6915 - val_accuracy: 0.5408\n",
            "14/14 [==============================] - 0s 23ms/step - loss: 0.6923 - accuracy: 0.5270\n"
          ]
        },
        {
          "metadata": {
            "tags": null
          },
          "name": "stderr",
          "output_type": "stream",
          "text": [
            "[I 2024-03-23 23:25:14,553] Trial 3 finished with value: 0.5270270109176636 and parameters: {'units': 36}. Best is trial 3 with value: 0.5270270109176636.\n"
          ]
        },
        {
          "metadata": {
            "tags": null
          },
          "name": "stdout",
          "output_type": "stream",
          "text": [
            "Epoch 1/6\n",
            "89/89 [==============================] - 12s 109ms/step - loss: 0.7030 - accuracy: 0.5152 - val_loss: 0.6920 - val_accuracy: 0.5521\n",
            "Epoch 2/6\n",
            "89/89 [==============================] - 9s 105ms/step - loss: 0.7009 - accuracy: 0.5130 - val_loss: 0.6912 - val_accuracy: 0.5465\n",
            "Epoch 3/6\n",
            "89/89 [==============================] - 8s 93ms/step - loss: 0.6995 - accuracy: 0.5053 - val_loss: 0.6908 - val_accuracy: 0.5296\n",
            "Epoch 4/6\n",
            "89/89 [==============================] - 9s 103ms/step - loss: 0.6986 - accuracy: 0.4982 - val_loss: 0.6906 - val_accuracy: 0.5437\n",
            "Epoch 5/6\n",
            "89/89 [==============================] - 9s 104ms/step - loss: 0.6979 - accuracy: 0.5011 - val_loss: 0.6905 - val_accuracy: 0.5380\n",
            "Epoch 6/6\n",
            "89/89 [==============================] - 8s 95ms/step - loss: 0.6974 - accuracy: 0.4961 - val_loss: 0.6904 - val_accuracy: 0.5465\n",
            "14/14 [==============================] - 0s 30ms/step - loss: 0.6966 - accuracy: 0.5135\n"
          ]
        },
        {
          "metadata": {
            "tags": null
          },
          "name": "stderr",
          "output_type": "stream",
          "text": [
            "[I 2024-03-23 23:26:11,778] Trial 4 finished with value: 0.5135135054588318 and parameters: {'units': 22}. Best is trial 3 with value: 0.5270270109176636.\n"
          ]
        },
        {
          "metadata": {
            "tags": null
          },
          "name": "stdout",
          "output_type": "stream",
          "text": [
            "Epoch 1/6\n",
            "89/89 [==============================] - 14s 137ms/step - loss: 0.6934 - accuracy: 0.4996 - val_loss: 0.6929 - val_accuracy: 0.5408\n",
            "Epoch 2/6\n",
            "89/89 [==============================] - 12s 132ms/step - loss: 0.6932 - accuracy: 0.5123 - val_loss: 0.6926 - val_accuracy: 0.5239\n",
            "Epoch 3/6\n",
            "89/89 [==============================] - 12s 134ms/step - loss: 0.6930 - accuracy: 0.5081 - val_loss: 0.6924 - val_accuracy: 0.5239\n",
            "Epoch 4/6\n",
            "89/89 [==============================] - 12s 132ms/step - loss: 0.6929 - accuracy: 0.5250 - val_loss: 0.6922 - val_accuracy: 0.5465\n",
            "Epoch 5/6\n",
            "89/89 [==============================] - 11s 123ms/step - loss: 0.6928 - accuracy: 0.5250 - val_loss: 0.6921 - val_accuracy: 0.5408\n",
            "Epoch 6/6\n",
            "89/89 [==============================] - 11s 129ms/step - loss: 0.6928 - accuracy: 0.5264 - val_loss: 0.6920 - val_accuracy: 0.5465\n",
            "14/14 [==============================] - 1s 47ms/step - loss: 0.6926 - accuracy: 0.5225\n"
          ]
        },
        {
          "metadata": {
            "tags": null
          },
          "name": "stderr",
          "output_type": "stream",
          "text": [
            "[I 2024-03-23 23:27:37,079] Trial 5 finished with value: 0.522522509098053 and parameters: {'units': 56}. Best is trial 3 with value: 0.5270270109176636.\n"
          ]
        },
        {
          "metadata": {
            "tags": null
          },
          "name": "stdout",
          "output_type": "stream",
          "text": [
            "Epoch 1/6\n",
            "89/89 [==============================] - 12s 96ms/step - loss: 0.6989 - accuracy: 0.5194 - val_loss: 0.6898 - val_accuracy: 0.5324\n",
            "Epoch 2/6\n",
            "89/89 [==============================] - 9s 98ms/step - loss: 0.6976 - accuracy: 0.5130 - val_loss: 0.6895 - val_accuracy: 0.5352\n",
            "Epoch 3/6\n",
            "89/89 [==============================] - 9s 102ms/step - loss: 0.6967 - accuracy: 0.5053 - val_loss: 0.6894 - val_accuracy: 0.5437\n",
            "Epoch 4/6\n",
            "89/89 [==============================] - 8s 91ms/step - loss: 0.6961 - accuracy: 0.5032 - val_loss: 0.6894 - val_accuracy: 0.5437\n",
            "Epoch 5/6\n",
            "89/89 [==============================] - 9s 96ms/step - loss: 0.6957 - accuracy: 0.5025 - val_loss: 0.6894 - val_accuracy: 0.5465\n",
            "Epoch 6/6\n",
            "89/89 [==============================] - 9s 98ms/step - loss: 0.6953 - accuracy: 0.5004 - val_loss: 0.6894 - val_accuracy: 0.5437\n",
            "14/14 [==============================] - 0s 32ms/step - loss: 0.6949 - accuracy: 0.5180\n"
          ]
        },
        {
          "metadata": {
            "tags": null
          },
          "name": "stderr",
          "output_type": "stream",
          "text": [
            "[I 2024-03-23 23:29:03,394] Trial 6 finished with value: 0.5180180072784424 and parameters: {'units': 22}. Best is trial 3 with value: 0.5270270109176636.\n"
          ]
        },
        {
          "metadata": {
            "tags": null
          },
          "name": "stdout",
          "output_type": "stream",
          "text": [
            "Epoch 1/6\n",
            "89/89 [==============================] - 10s 88ms/step - loss: 0.6931 - accuracy: 0.5215 - val_loss: 0.6895 - val_accuracy: 0.5380\n",
            "Epoch 2/6\n",
            "89/89 [==============================] - 8s 90ms/step - loss: 0.6929 - accuracy: 0.5215 - val_loss: 0.6897 - val_accuracy: 0.5380\n",
            "Epoch 3/6\n",
            "89/89 [==============================] - 8s 90ms/step - loss: 0.6928 - accuracy: 0.5208 - val_loss: 0.6898 - val_accuracy: 0.5380\n",
            "Epoch 4/6\n",
            "89/89 [==============================] - 7s 79ms/step - loss: 0.6928 - accuracy: 0.5208 - val_loss: 0.6899 - val_accuracy: 0.5380\n",
            "Epoch 5/6\n",
            "89/89 [==============================] - 8s 95ms/step - loss: 0.6927 - accuracy: 0.5208 - val_loss: 0.6900 - val_accuracy: 0.5380\n",
            "Epoch 6/6\n",
            "89/89 [==============================] - 7s 78ms/step - loss: 0.6927 - accuracy: 0.5208 - val_loss: 0.6901 - val_accuracy: 0.5380\n",
            "14/14 [==============================] - 0s 25ms/step - loss: 0.6936 - accuracy: 0.5225\n"
          ]
        },
        {
          "metadata": {
            "tags": null
          },
          "name": "stderr",
          "output_type": "stream",
          "text": [
            "[I 2024-03-23 23:30:28,645] Trial 7 finished with value: 0.522522509098053 and parameters: {'units': 10}. Best is trial 3 with value: 0.5270270109176636.\n"
          ]
        },
        {
          "metadata": {
            "tags": null
          },
          "name": "stdout",
          "output_type": "stream",
          "text": [
            "Epoch 1/6\n",
            "89/89 [==============================] - 11s 100ms/step - loss: 0.6963 - accuracy: 0.5004 - val_loss: 0.7011 - val_accuracy: 0.4704\n",
            "Epoch 2/6\n",
            "89/89 [==============================] - 9s 95ms/step - loss: 0.6952 - accuracy: 0.5004 - val_loss: 0.6994 - val_accuracy: 0.4789\n",
            "Epoch 3/6\n",
            "89/89 [==============================] - 9s 101ms/step - loss: 0.6945 - accuracy: 0.4933 - val_loss: 0.6983 - val_accuracy: 0.4873\n",
            "Epoch 4/6\n",
            "89/89 [==============================] - 9s 100ms/step - loss: 0.6940 - accuracy: 0.4989 - val_loss: 0.6973 - val_accuracy: 0.4930\n",
            "Epoch 5/6\n",
            "89/89 [==============================] - 8s 92ms/step - loss: 0.6937 - accuracy: 0.5039 - val_loss: 0.6966 - val_accuracy: 0.4930\n",
            "Epoch 6/6\n",
            "89/89 [==============================] - 9s 100ms/step - loss: 0.6934 - accuracy: 0.5074 - val_loss: 0.6960 - val_accuracy: 0.4845\n",
            "14/14 [==============================] - 0s 32ms/step - loss: 0.6932 - accuracy: 0.5135\n"
          ]
        },
        {
          "metadata": {
            "tags": null
          },
          "name": "stderr",
          "output_type": "stream",
          "text": [
            "[I 2024-03-23 23:31:53,628] Trial 8 finished with value: 0.5135135054588318 and parameters: {'units': 21}. Best is trial 3 with value: 0.5270270109176636.\n"
          ]
        },
        {
          "metadata": {
            "tags": null
          },
          "name": "stdout",
          "output_type": "stream",
          "text": [
            "Epoch 1/6\n",
            "89/89 [==============================] - 14s 126ms/step - loss: 0.6945 - accuracy: 0.4834 - val_loss: 0.6967 - val_accuracy: 0.4648\n",
            "Epoch 2/6\n",
            "89/89 [==============================] - 10s 110ms/step - loss: 0.6936 - accuracy: 0.4996 - val_loss: 0.6951 - val_accuracy: 0.4676\n",
            "Epoch 3/6\n",
            "89/89 [==============================] - 10s 117ms/step - loss: 0.6931 - accuracy: 0.5046 - val_loss: 0.6942 - val_accuracy: 0.4845\n",
            "Epoch 4/6\n",
            "89/89 [==============================] - 11s 120ms/step - loss: 0.6927 - accuracy: 0.5215 - val_loss: 0.6936 - val_accuracy: 0.4817\n",
            "Epoch 5/6\n",
            "89/89 [==============================] - 10s 117ms/step - loss: 0.6926 - accuracy: 0.5257 - val_loss: 0.6931 - val_accuracy: 0.4901\n",
            "Epoch 6/6\n",
            "89/89 [==============================] - 11s 119ms/step - loss: 0.6924 - accuracy: 0.5243 - val_loss: 0.6927 - val_accuracy: 0.5183\n",
            "14/14 [==============================] - 0s 26ms/step - loss: 0.6920 - accuracy: 0.5338\n"
          ]
        },
        {
          "metadata": {
            "tags": null
          },
          "name": "stderr",
          "output_type": "stream",
          "text": [
            "[I 2024-03-23 23:33:00,566] Trial 9 finished with value: 0.5337837934494019 and parameters: {'units': 44}. Best is trial 9 with value: 0.5337837934494019.\n"
          ]
        },
        {
          "metadata": {
            "tags": null
          },
          "name": "stdout",
          "output_type": "stream",
          "text": [
            "Epoch 1/6\n",
            "89/89 [==============================] - 14s 126ms/step - loss: 0.7024 - accuracy: 0.5215 - val_loss: 0.6899 - val_accuracy: 0.5437\n",
            "Epoch 2/6\n",
            "89/89 [==============================] - 11s 121ms/step - loss: 0.6990 - accuracy: 0.5208 - val_loss: 0.6888 - val_accuracy: 0.5437\n",
            "Epoch 3/6\n",
            "89/89 [==============================] - 11s 119ms/step - loss: 0.6973 - accuracy: 0.5201 - val_loss: 0.6885 - val_accuracy: 0.5493\n",
            "Epoch 4/6\n",
            "89/89 [==============================] - 10s 111ms/step - loss: 0.6961 - accuracy: 0.5180 - val_loss: 0.6883 - val_accuracy: 0.5549\n",
            "Epoch 5/6\n",
            "89/89 [==============================] - 11s 119ms/step - loss: 0.6954 - accuracy: 0.5180 - val_loss: 0.6884 - val_accuracy: 0.5634\n",
            "Epoch 6/6\n",
            "89/89 [==============================] - 11s 122ms/step - loss: 0.6949 - accuracy: 0.5173 - val_loss: 0.6885 - val_accuracy: 0.5577\n",
            "14/14 [==============================] - 0s 27ms/step - loss: 0.6942 - accuracy: 0.5293\n"
          ]
        },
        {
          "metadata": {
            "tags": null
          },
          "name": "stderr",
          "output_type": "stream",
          "text": [
            "[I 2024-03-23 23:34:08,687] Trial 10 finished with value: 0.5292792916297913 and parameters: {'units': 46}. Best is trial 9 with value: 0.5337837934494019.\n"
          ]
        },
        {
          "metadata": {
            "tags": null
          },
          "name": "stdout",
          "output_type": "stream",
          "text": [
            "Epoch 1/6\n",
            "89/89 [==============================] - 14s 128ms/step - loss: 0.6980 - accuracy: 0.4778 - val_loss: 0.7027 - val_accuracy: 0.4535\n",
            "Epoch 2/6\n",
            "89/89 [==============================] - 11s 123ms/step - loss: 0.6959 - accuracy: 0.4743 - val_loss: 0.6999 - val_accuracy: 0.4507\n",
            "Epoch 3/6\n",
            "89/89 [==============================] - 11s 122ms/step - loss: 0.6947 - accuracy: 0.4820 - val_loss: 0.6980 - val_accuracy: 0.4761\n",
            "Epoch 4/6\n",
            "89/89 [==============================] - 11s 121ms/step - loss: 0.6940 - accuracy: 0.5032 - val_loss: 0.6968 - val_accuracy: 0.4873\n",
            "Epoch 5/6\n",
            "89/89 [==============================] - 11s 123ms/step - loss: 0.6936 - accuracy: 0.5074 - val_loss: 0.6958 - val_accuracy: 0.4704\n",
            "Epoch 6/6\n",
            "89/89 [==============================] - 11s 123ms/step - loss: 0.6932 - accuracy: 0.5123 - val_loss: 0.6952 - val_accuracy: 0.4817\n",
            "14/14 [==============================] - 0s 29ms/step - loss: 0.6929 - accuracy: 0.5270\n"
          ]
        },
        {
          "metadata": {
            "tags": null
          },
          "name": "stderr",
          "output_type": "stream",
          "text": [
            "[I 2024-03-23 23:35:17,628] Trial 11 finished with value: 0.5270270109176636 and parameters: {'units': 46}. Best is trial 9 with value: 0.5337837934494019.\n"
          ]
        },
        {
          "metadata": {
            "tags": null
          },
          "name": "stdout",
          "output_type": "stream",
          "text": [
            "Epoch 1/6\n",
            "89/89 [==============================] - 14s 130ms/step - loss: 0.6929 - accuracy: 0.5215 - val_loss: 0.6893 - val_accuracy: 0.5437\n",
            "Epoch 2/6\n",
            "89/89 [==============================] - 11s 129ms/step - loss: 0.6928 - accuracy: 0.5215 - val_loss: 0.6894 - val_accuracy: 0.5437\n",
            "Epoch 3/6\n",
            "89/89 [==============================] - 11s 123ms/step - loss: 0.6927 - accuracy: 0.5215 - val_loss: 0.6896 - val_accuracy: 0.5437\n",
            "Epoch 4/6\n",
            "89/89 [==============================] - 10s 116ms/step - loss: 0.6926 - accuracy: 0.5215 - val_loss: 0.6897 - val_accuracy: 0.5437\n",
            "Epoch 5/6\n",
            "89/89 [==============================] - 11s 124ms/step - loss: 0.6926 - accuracy: 0.5215 - val_loss: 0.6897 - val_accuracy: 0.5437\n",
            "Epoch 6/6\n",
            "89/89 [==============================] - 11s 125ms/step - loss: 0.6926 - accuracy: 0.5215 - val_loss: 0.6898 - val_accuracy: 0.5437\n",
            "14/14 [==============================] - 1s 46ms/step - loss: 0.6922 - accuracy: 0.5270\n"
          ]
        },
        {
          "metadata": {
            "tags": null
          },
          "name": "stderr",
          "output_type": "stream",
          "text": [
            "[I 2024-03-23 23:36:42,760] Trial 12 finished with value: 0.5270270109176636 and parameters: {'units': 47}. Best is trial 9 with value: 0.5337837934494019.\n"
          ]
        },
        {
          "metadata": {
            "tags": null
          },
          "name": "stdout",
          "output_type": "stream",
          "text": [
            "Epoch 1/6\n",
            "89/89 [==============================] - 14s 127ms/step - loss: 0.6995 - accuracy: 0.4870 - val_loss: 0.7064 - val_accuracy: 0.4535\n",
            "Epoch 2/6\n",
            "89/89 [==============================] - 10s 113ms/step - loss: 0.6974 - accuracy: 0.5039 - val_loss: 0.7036 - val_accuracy: 0.4592\n",
            "Epoch 3/6\n",
            "89/89 [==============================] - 11s 120ms/step - loss: 0.6961 - accuracy: 0.4947 - val_loss: 0.7015 - val_accuracy: 0.4789\n",
            "Epoch 4/6\n",
            "89/89 [==============================] - 11s 121ms/step - loss: 0.6952 - accuracy: 0.4982 - val_loss: 0.7001 - val_accuracy: 0.4958\n",
            "Epoch 5/6\n",
            "89/89 [==============================] - 11s 123ms/step - loss: 0.6946 - accuracy: 0.5011 - val_loss: 0.6989 - val_accuracy: 0.4901\n",
            "Epoch 6/6\n",
            "89/89 [==============================] - 11s 123ms/step - loss: 0.6941 - accuracy: 0.5053 - val_loss: 0.6980 - val_accuracy: 0.4873\n",
            "14/14 [==============================] - 0s 28ms/step - loss: 0.6941 - accuracy: 0.5090\n"
          ]
        },
        {
          "metadata": {
            "tags": null
          },
          "name": "stderr",
          "output_type": "stream",
          "text": [
            "[I 2024-03-23 23:38:08,005] Trial 13 finished with value: 0.5090090036392212 and parameters: {'units': 46}. Best is trial 9 with value: 0.5337837934494019.\n"
          ]
        },
        {
          "metadata": {
            "tags": null
          },
          "name": "stdout",
          "output_type": "stream",
          "text": [
            "Epoch 1/6\n",
            "89/89 [==============================] - 14s 123ms/step - loss: 0.6946 - accuracy: 0.5187 - val_loss: 0.6892 - val_accuracy: 0.5493\n",
            "Epoch 2/6\n",
            "89/89 [==============================] - 10s 109ms/step - loss: 0.6941 - accuracy: 0.5187 - val_loss: 0.6895 - val_accuracy: 0.5493\n",
            "Epoch 3/6\n",
            "89/89 [==============================] - 10s 118ms/step - loss: 0.6938 - accuracy: 0.5201 - val_loss: 0.6896 - val_accuracy: 0.5493\n",
            "Epoch 4/6\n",
            "89/89 [==============================] - 11s 119ms/step - loss: 0.6936 - accuracy: 0.5208 - val_loss: 0.6898 - val_accuracy: 0.5521\n",
            "Epoch 5/6\n",
            "89/89 [==============================] - 11s 118ms/step - loss: 0.6934 - accuracy: 0.5208 - val_loss: 0.6899 - val_accuracy: 0.5493\n",
            "Epoch 6/6\n",
            "89/89 [==============================] - 11s 120ms/step - loss: 0.6933 - accuracy: 0.5180 - val_loss: 0.6900 - val_accuracy: 0.5493\n",
            "14/14 [==============================] - 0s 25ms/step - loss: 0.6932 - accuracy: 0.5203\n"
          ]
        },
        {
          "metadata": {
            "tags": null
          },
          "name": "stderr",
          "output_type": "stream",
          "text": [
            "[I 2024-03-23 23:39:34,210] Trial 14 finished with value: 0.5202702879905701 and parameters: {'units': 41}. Best is trial 9 with value: 0.5337837934494019.\n"
          ]
        },
        {
          "metadata": {
            "tags": null
          },
          "name": "stdout",
          "output_type": "stream",
          "text": [
            "Epoch 1/6\n",
            "89/89 [==============================] - 15s 140ms/step - loss: 0.6969 - accuracy: 0.5130 - val_loss: 0.6899 - val_accuracy: 0.5380\n",
            "Epoch 2/6\n",
            "89/89 [==============================] - 12s 136ms/step - loss: 0.6960 - accuracy: 0.5236 - val_loss: 0.6899 - val_accuracy: 0.5352\n",
            "Epoch 3/6\n",
            "89/89 [==============================] - 12s 139ms/step - loss: 0.6954 - accuracy: 0.5187 - val_loss: 0.6900 - val_accuracy: 0.5408\n",
            "Epoch 4/6\n",
            "89/89 [==============================] - 12s 137ms/step - loss: 0.6951 - accuracy: 0.5159 - val_loss: 0.6901 - val_accuracy: 0.5380\n",
            "Epoch 5/6\n",
            "89/89 [==============================] - 12s 135ms/step - loss: 0.6947 - accuracy: 0.5208 - val_loss: 0.6903 - val_accuracy: 0.5352\n",
            "Epoch 6/6\n",
            "89/89 [==============================] - 12s 134ms/step - loss: 0.6945 - accuracy: 0.5215 - val_loss: 0.6904 - val_accuracy: 0.5437\n",
            "14/14 [==============================] - 0s 34ms/step - loss: 0.6938 - accuracy: 0.5293\n"
          ]
        },
        {
          "metadata": {
            "tags": null
          },
          "name": "stderr",
          "output_type": "stream",
          "text": [
            "[I 2024-03-23 23:40:59,793] Trial 15 finished with value: 0.5292792916297913 and parameters: {'units': 63}. Best is trial 9 with value: 0.5337837934494019.\n"
          ]
        },
        {
          "metadata": {
            "tags": null
          },
          "name": "stdout",
          "output_type": "stream",
          "text": [
            "Epoch 1/6\n",
            "89/89 [==============================] - 15s 134ms/step - loss: 0.6938 - accuracy: 0.4919 - val_loss: 0.6920 - val_accuracy: 0.5324\n",
            "Epoch 2/6\n",
            "89/89 [==============================] - 11s 128ms/step - loss: 0.6936 - accuracy: 0.4940 - val_loss: 0.6917 - val_accuracy: 0.5352\n",
            "Epoch 3/6\n",
            "89/89 [==============================] - 12s 133ms/step - loss: 0.6935 - accuracy: 0.5004 - val_loss: 0.6916 - val_accuracy: 0.5155\n",
            "Epoch 4/6\n",
            "89/89 [==============================] - 12s 131ms/step - loss: 0.6934 - accuracy: 0.5067 - val_loss: 0.6914 - val_accuracy: 0.5324\n",
            "Epoch 5/6\n",
            "89/89 [==============================] - 12s 132ms/step - loss: 0.6933 - accuracy: 0.5137 - val_loss: 0.6913 - val_accuracy: 0.5465\n",
            "Epoch 6/6\n",
            "89/89 [==============================] - 12s 132ms/step - loss: 0.6933 - accuracy: 0.5236 - val_loss: 0.6913 - val_accuracy: 0.5493\n",
            "14/14 [==============================] - 0s 33ms/step - loss: 0.6926 - accuracy: 0.5270\n"
          ]
        },
        {
          "metadata": {
            "tags": null
          },
          "name": "stderr",
          "output_type": "stream",
          "text": [
            "[I 2024-03-23 23:42:25,145] Trial 16 finished with value: 0.5270270109176636 and parameters: {'units': 56}. Best is trial 9 with value: 0.5337837934494019.\n"
          ]
        },
        {
          "metadata": {
            "tags": null
          },
          "name": "stdout",
          "output_type": "stream",
          "text": [
            "Epoch 1/6\n",
            "89/89 [==============================] - 14s 120ms/step - loss: 0.7051 - accuracy: 0.4933 - val_loss: 0.7148 - val_accuracy: 0.4338\n",
            "Epoch 2/6\n",
            "89/89 [==============================] - 10s 114ms/step - loss: 0.7014 - accuracy: 0.4856 - val_loss: 0.7103 - val_accuracy: 0.4338\n",
            "Epoch 3/6\n",
            "89/89 [==============================] - 10s 115ms/step - loss: 0.6991 - accuracy: 0.5053 - val_loss: 0.7072 - val_accuracy: 0.4704\n",
            "Epoch 4/6\n",
            "89/89 [==============================] - 10s 110ms/step - loss: 0.6976 - accuracy: 0.4933 - val_loss: 0.7048 - val_accuracy: 0.4817\n",
            "Epoch 5/6\n",
            "89/89 [==============================] - 10s 109ms/step - loss: 0.6965 - accuracy: 0.4919 - val_loss: 0.7029 - val_accuracy: 0.4901\n",
            "Epoch 6/6\n",
            "89/89 [==============================] - 10s 115ms/step - loss: 0.6956 - accuracy: 0.4947 - val_loss: 0.7015 - val_accuracy: 0.4873\n",
            "14/14 [==============================] - 0s 24ms/step - loss: 0.6954 - accuracy: 0.5135\n"
          ]
        },
        {
          "metadata": {
            "tags": null
          },
          "name": "stderr",
          "output_type": "stream",
          "text": [
            "[I 2024-03-23 23:43:29,999] Trial 17 finished with value: 0.5135135054588318 and parameters: {'units': 39}. Best is trial 9 with value: 0.5337837934494019.\n"
          ]
        },
        {
          "metadata": {
            "tags": null
          },
          "name": "stdout",
          "output_type": "stream",
          "text": [
            "Epoch 1/6\n",
            "89/89 [==============================] - 14s 128ms/step - loss: 0.6967 - accuracy: 0.5215 - val_loss: 0.6887 - val_accuracy: 0.5437\n",
            "Epoch 2/6\n",
            "89/89 [==============================] - 11s 120ms/step - loss: 0.6956 - accuracy: 0.5215 - val_loss: 0.6887 - val_accuracy: 0.5437\n",
            "Epoch 3/6\n",
            "89/89 [==============================] - 11s 120ms/step - loss: 0.6949 - accuracy: 0.5236 - val_loss: 0.6889 - val_accuracy: 0.5465\n",
            "Epoch 4/6\n",
            "89/89 [==============================] - 11s 120ms/step - loss: 0.6945 - accuracy: 0.5229 - val_loss: 0.6890 - val_accuracy: 0.5437\n",
            "Epoch 5/6\n",
            "89/89 [==============================] - 11s 121ms/step - loss: 0.6942 - accuracy: 0.5229 - val_loss: 0.6892 - val_accuracy: 0.5437\n",
            "Epoch 6/6\n",
            "89/89 [==============================] - 10s 110ms/step - loss: 0.6940 - accuracy: 0.5215 - val_loss: 0.6893 - val_accuracy: 0.5408\n",
            "14/14 [==============================] - 1s 43ms/step - loss: 0.6937 - accuracy: 0.5270\n"
          ]
        },
        {
          "metadata": {
            "tags": null
          },
          "name": "stderr",
          "output_type": "stream",
          "text": [
            "[I 2024-03-23 23:44:37,448] Trial 18 finished with value: 0.5270270109176636 and parameters: {'units': 48}. Best is trial 9 with value: 0.5337837934494019.\n"
          ]
        },
        {
          "metadata": {
            "tags": null
          },
          "name": "stdout",
          "output_type": "stream",
          "text": [
            "Epoch 1/6\n",
            "89/89 [==============================] - 14s 135ms/step - loss: 0.6949 - accuracy: 0.5180 - val_loss: 0.6899 - val_accuracy: 0.5380\n",
            "Epoch 2/6\n",
            "89/89 [==============================] - 11s 125ms/step - loss: 0.6944 - accuracy: 0.5201 - val_loss: 0.6901 - val_accuracy: 0.5380\n",
            "Epoch 3/6\n",
            "89/89 [==============================] - 11s 121ms/step - loss: 0.6942 - accuracy: 0.5152 - val_loss: 0.6903 - val_accuracy: 0.5352\n",
            "Epoch 4/6\n",
            "89/89 [==============================] - 11s 123ms/step - loss: 0.6939 - accuracy: 0.5187 - val_loss: 0.6905 - val_accuracy: 0.5352\n",
            "Epoch 5/6\n",
            "89/89 [==============================] - 11s 128ms/step - loss: 0.6938 - accuracy: 0.5215 - val_loss: 0.6906 - val_accuracy: 0.5380\n",
            "Epoch 6/6\n",
            "89/89 [==============================] - 11s 127ms/step - loss: 0.6937 - accuracy: 0.5215 - val_loss: 0.6907 - val_accuracy: 0.5380\n",
            "14/14 [==============================] - 0s 28ms/step - loss: 0.6932 - accuracy: 0.5248\n"
          ]
        },
        {
          "metadata": {
            "tags": null
          },
          "name": "stderr",
          "output_type": "stream",
          "text": [
            "[I 2024-03-23 23:45:48,880] Trial 19 finished with value: 0.5247747898101807 and parameters: {'units': 52}. Best is trial 9 with value: 0.5337837934494019.\n"
          ]
        },
        {
          "metadata": {
            "tags": null
          },
          "name": "stdout",
          "output_type": "stream",
          "text": [
            "Epoch 1/6\n",
            "89/89 [==============================] - 15s 142ms/step - loss: 0.6945 - accuracy: 0.5046 - val_loss: 0.6920 - val_accuracy: 0.5324\n",
            "Epoch 2/6\n",
            "89/89 [==============================] - 12s 137ms/step - loss: 0.6943 - accuracy: 0.4947 - val_loss: 0.6919 - val_accuracy: 0.5493\n",
            "Epoch 3/6\n",
            "89/89 [==============================] - 12s 137ms/step - loss: 0.6942 - accuracy: 0.4926 - val_loss: 0.6919 - val_accuracy: 0.5380\n",
            "Epoch 4/6\n",
            "89/89 [==============================] - 12s 137ms/step - loss: 0.6941 - accuracy: 0.4947 - val_loss: 0.6919 - val_accuracy: 0.5465\n",
            "Epoch 5/6\n",
            "89/89 [==============================] - 12s 137ms/step - loss: 0.6939 - accuracy: 0.4961 - val_loss: 0.6918 - val_accuracy: 0.5465\n",
            "Epoch 6/6\n",
            "89/89 [==============================] - 12s 137ms/step - loss: 0.6938 - accuracy: 0.5053 - val_loss: 0.6918 - val_accuracy: 0.5352\n",
            "14/14 [==============================] - 1s 35ms/step - loss: 0.6933 - accuracy: 0.5495\n"
          ]
        },
        {
          "metadata": {
            "tags": null
          },
          "name": "stderr",
          "output_type": "stream",
          "text": [
            "[I 2024-03-23 23:47:05,615] Trial 20 finished with value: 0.5495495200157166 and parameters: {'units': 63}. Best is trial 20 with value: 0.5495495200157166.\n"
          ]
        },
        {
          "metadata": {
            "tags": null
          },
          "name": "stdout",
          "output_type": "stream",
          "text": [
            "Epoch 1/6\n",
            "89/89 [==============================] - 16s 143ms/step - loss: 0.6944 - accuracy: 0.5144 - val_loss: 0.6896 - val_accuracy: 0.5465\n",
            "Epoch 2/6\n",
            "89/89 [==============================] - 11s 128ms/step - loss: 0.6942 - accuracy: 0.5144 - val_loss: 0.6897 - val_accuracy: 0.5437\n",
            "Epoch 3/6\n",
            "89/89 [==============================] - 12s 132ms/step - loss: 0.6940 - accuracy: 0.5159 - val_loss: 0.6898 - val_accuracy: 0.5437\n",
            "Epoch 4/6\n",
            "89/89 [==============================] - 12s 133ms/step - loss: 0.6939 - accuracy: 0.5180 - val_loss: 0.6899 - val_accuracy: 0.5437\n",
            "Epoch 5/6\n",
            "89/89 [==============================] - 12s 134ms/step - loss: 0.6937 - accuracy: 0.5187 - val_loss: 0.6899 - val_accuracy: 0.5465\n",
            "Epoch 6/6\n",
            "89/89 [==============================] - 12s 134ms/step - loss: 0.6937 - accuracy: 0.5194 - val_loss: 0.6900 - val_accuracy: 0.5465\n",
            "14/14 [==============================] - 1s 35ms/step - loss: 0.6929 - accuracy: 0.5270\n"
          ]
        },
        {
          "metadata": {
            "tags": null
          },
          "name": "stderr",
          "output_type": "stream",
          "text": [
            "[I 2024-03-23 23:48:31,632] Trial 21 finished with value: 0.5270270109176636 and parameters: {'units': 64}. Best is trial 20 with value: 0.5495495200157166.\n"
          ]
        },
        {
          "metadata": {
            "tags": null
          },
          "name": "stdout",
          "output_type": "stream",
          "text": [
            "Epoch 1/6\n",
            "89/89 [==============================] - 13s 125ms/step - loss: 0.6931 - accuracy: 0.5123 - val_loss: 0.6920 - val_accuracy: 0.5465\n",
            "Epoch 2/6\n",
            "89/89 [==============================] - 11s 119ms/step - loss: 0.6929 - accuracy: 0.5166 - val_loss: 0.6918 - val_accuracy: 0.5408\n",
            "Epoch 3/6\n",
            "89/89 [==============================] - 11s 119ms/step - loss: 0.6929 - accuracy: 0.5166 - val_loss: 0.6916 - val_accuracy: 0.5437\n",
            "Epoch 4/6\n",
            "89/89 [==============================] - 11s 118ms/step - loss: 0.6928 - accuracy: 0.5173 - val_loss: 0.6915 - val_accuracy: 0.5437\n",
            "Epoch 5/6\n",
            "89/89 [==============================] - 9s 106ms/step - loss: 0.6927 - accuracy: 0.5180 - val_loss: 0.6914 - val_accuracy: 0.5437\n",
            "Epoch 6/6\n",
            "89/89 [==============================] - 10s 117ms/step - loss: 0.6927 - accuracy: 0.5173 - val_loss: 0.6913 - val_accuracy: 0.5465\n",
            "14/14 [==============================] - 0s 26ms/step - loss: 0.6926 - accuracy: 0.5270\n"
          ]
        },
        {
          "metadata": {
            "tags": null
          },
          "name": "stderr",
          "output_type": "stream",
          "text": [
            "[I 2024-03-23 23:49:56,742] Trial 22 finished with value: 0.5270270109176636 and parameters: {'units': 42}. Best is trial 20 with value: 0.5495495200157166.\n"
          ]
        },
        {
          "metadata": {
            "tags": null
          },
          "name": "stdout",
          "output_type": "stream",
          "text": [
            "Epoch 1/6\n",
            "89/89 [==============================] - 15s 140ms/step - loss: 0.6960 - accuracy: 0.4813 - val_loss: 0.6994 - val_accuracy: 0.4535\n",
            "Epoch 2/6\n",
            "89/89 [==============================] - 12s 133ms/step - loss: 0.6949 - accuracy: 0.4891 - val_loss: 0.6975 - val_accuracy: 0.4817\n",
            "Epoch 3/6\n",
            "89/89 [==============================] - 12s 134ms/step - loss: 0.6942 - accuracy: 0.4989 - val_loss: 0.6963 - val_accuracy: 0.4845\n",
            "Epoch 4/6\n",
            "89/89 [==============================] - 12s 133ms/step - loss: 0.6937 - accuracy: 0.5032 - val_loss: 0.6955 - val_accuracy: 0.4817\n",
            "Epoch 5/6\n",
            "89/89 [==============================] - 12s 133ms/step - loss: 0.6934 - accuracy: 0.5144 - val_loss: 0.6948 - val_accuracy: 0.4620\n",
            "Epoch 6/6\n",
            "89/89 [==============================] - 12s 134ms/step - loss: 0.6932 - accuracy: 0.5264 - val_loss: 0.6943 - val_accuracy: 0.4535\n",
            "14/14 [==============================] - 0s 32ms/step - loss: 0.6927 - accuracy: 0.5315\n"
          ]
        },
        {
          "metadata": {
            "tags": null
          },
          "name": "stderr",
          "output_type": "stream",
          "text": [
            "[I 2024-03-23 23:51:21,769] Trial 23 finished with value: 0.5315315127372742 and parameters: {'units': 59}. Best is trial 20 with value: 0.5495495200157166.\n"
          ]
        },
        {
          "metadata": {
            "tags": null
          },
          "name": "stdout",
          "output_type": "stream",
          "text": [
            "Epoch 1/6\n",
            "89/89 [==============================] - 14s 138ms/step - loss: 0.6984 - accuracy: 0.4841 - val_loss: 0.7047 - val_accuracy: 0.4535\n",
            "Epoch 2/6\n",
            "89/89 [==============================] - 12s 132ms/step - loss: 0.6963 - accuracy: 0.4961 - val_loss: 0.7019 - val_accuracy: 0.4535\n",
            "Epoch 3/6\n",
            "89/89 [==============================] - 12s 131ms/step - loss: 0.6951 - accuracy: 0.4891 - val_loss: 0.7000 - val_accuracy: 0.4789\n",
            "Epoch 4/6\n",
            "89/89 [==============================] - 12s 132ms/step - loss: 0.6943 - accuracy: 0.4975 - val_loss: 0.6985 - val_accuracy: 0.4761\n",
            "Epoch 5/6\n",
            "89/89 [==============================] - 12s 135ms/step - loss: 0.6937 - accuracy: 0.5081 - val_loss: 0.6974 - val_accuracy: 0.4789\n",
            "Epoch 6/6\n",
            "89/89 [==============================] - 12s 131ms/step - loss: 0.6933 - accuracy: 0.5081 - val_loss: 0.6965 - val_accuracy: 0.4789\n",
            "14/14 [==============================] - 1s 39ms/step - loss: 0.6932 - accuracy: 0.5203\n"
          ]
        },
        {
          "metadata": {
            "tags": null
          },
          "name": "stderr",
          "output_type": "stream",
          "text": [
            "[I 2024-03-23 23:52:36,302] Trial 24 finished with value: 0.5202702879905701 and parameters: {'units': 60}. Best is trial 20 with value: 0.5495495200157166.\n"
          ]
        },
        {
          "metadata": {
            "tags": null
          },
          "name": "stdout",
          "output_type": "stream",
          "text": [
            "Epoch 1/6\n",
            "89/89 [==============================] - 15s 135ms/step - loss: 0.6963 - accuracy: 0.5215 - val_loss: 0.6882 - val_accuracy: 0.5437\n",
            "Epoch 2/6\n",
            "89/89 [==============================] - 11s 128ms/step - loss: 0.6951 - accuracy: 0.5215 - val_loss: 0.6882 - val_accuracy: 0.5437\n",
            "Epoch 3/6\n",
            "89/89 [==============================] - 11s 126ms/step - loss: 0.6945 - accuracy: 0.5215 - val_loss: 0.6884 - val_accuracy: 0.5437\n",
            "Epoch 4/6\n",
            "89/89 [==============================] - 11s 128ms/step - loss: 0.6941 - accuracy: 0.5215 - val_loss: 0.6885 - val_accuracy: 0.5437\n",
            "Epoch 5/6\n",
            "89/89 [==============================] - 11s 122ms/step - loss: 0.6938 - accuracy: 0.5215 - val_loss: 0.6887 - val_accuracy: 0.5437\n",
            "Epoch 6/6\n",
            "89/89 [==============================] - 11s 127ms/step - loss: 0.6936 - accuracy: 0.5222 - val_loss: 0.6889 - val_accuracy: 0.5437\n",
            "14/14 [==============================] - 1s 45ms/step - loss: 0.6934 - accuracy: 0.5270\n"
          ]
        },
        {
          "metadata": {
            "tags": null
          },
          "name": "stderr",
          "output_type": "stream",
          "text": [
            "[I 2024-03-23 23:54:02,365] Trial 25 finished with value: 0.5270270109176636 and parameters: {'units': 52}. Best is trial 20 with value: 0.5495495200157166.\n"
          ]
        },
        {
          "metadata": {
            "tags": null
          },
          "name": "stdout",
          "output_type": "stream",
          "text": [
            "Epoch 1/6\n",
            "89/89 [==============================] - 15s 138ms/step - loss: 0.6935 - accuracy: 0.5187 - val_loss: 0.6901 - val_accuracy: 0.5437\n",
            "Epoch 2/6\n",
            "89/89 [==============================] - 12s 132ms/step - loss: 0.6934 - accuracy: 0.5201 - val_loss: 0.6902 - val_accuracy: 0.5437\n",
            "Epoch 3/6\n",
            "89/89 [==============================] - 12s 139ms/step - loss: 0.6933 - accuracy: 0.5201 - val_loss: 0.6903 - val_accuracy: 0.5437\n",
            "Epoch 4/6\n",
            "89/89 [==============================] - 12s 135ms/step - loss: 0.6932 - accuracy: 0.5215 - val_loss: 0.6903 - val_accuracy: 0.5437\n",
            "Epoch 5/6\n",
            "89/89 [==============================] - 11s 126ms/step - loss: 0.6931 - accuracy: 0.5215 - val_loss: 0.6904 - val_accuracy: 0.5437\n",
            "Epoch 6/6\n",
            "89/89 [==============================] - 11s 126ms/step - loss: 0.6931 - accuracy: 0.5215 - val_loss: 0.6904 - val_accuracy: 0.5437\n",
            "14/14 [==============================] - 1s 35ms/step - loss: 0.6927 - accuracy: 0.5270\n"
          ]
        },
        {
          "metadata": {
            "tags": null
          },
          "name": "stderr",
          "output_type": "stream",
          "text": [
            "[I 2024-03-23 23:55:27,465] Trial 26 finished with value: 0.5270270109176636 and parameters: {'units': 60}. Best is trial 20 with value: 0.5495495200157166.\n"
          ]
        },
        {
          "metadata": {
            "tags": null
          },
          "name": "stdout",
          "output_type": "stream",
          "text": [
            "Epoch 1/6\n",
            "89/89 [==============================] - 14s 133ms/step - loss: 0.6929 - accuracy: 0.5166 - val_loss: 0.6918 - val_accuracy: 0.5465\n",
            "Epoch 2/6\n",
            "89/89 [==============================] - 11s 129ms/step - loss: 0.6928 - accuracy: 0.5173 - val_loss: 0.6916 - val_accuracy: 0.5465\n",
            "Epoch 3/6\n",
            "89/89 [==============================] - 11s 128ms/step - loss: 0.6927 - accuracy: 0.5152 - val_loss: 0.6915 - val_accuracy: 0.5465\n",
            "Epoch 4/6\n",
            "89/89 [==============================] - 11s 121ms/step - loss: 0.6927 - accuracy: 0.5180 - val_loss: 0.6914 - val_accuracy: 0.5465\n",
            "Epoch 5/6\n",
            "89/89 [==============================] - 12s 129ms/step - loss: 0.6926 - accuracy: 0.5208 - val_loss: 0.6913 - val_accuracy: 0.5465\n",
            "Epoch 6/6\n",
            "89/89 [==============================] - 11s 127ms/step - loss: 0.6926 - accuracy: 0.5194 - val_loss: 0.6913 - val_accuracy: 0.5465\n",
            "14/14 [==============================] - 0s 29ms/step - loss: 0.6926 - accuracy: 0.5248\n"
          ]
        },
        {
          "metadata": {
            "tags": null
          },
          "name": "stderr",
          "output_type": "stream",
          "text": [
            "[I 2024-03-23 23:56:52,843] Trial 27 finished with value: 0.5247747898101807 and parameters: {'units': 52}. Best is trial 20 with value: 0.5495495200157166.\n"
          ]
        },
        {
          "metadata": {
            "tags": null
          },
          "name": "stdout",
          "output_type": "stream",
          "text": [
            "Epoch 1/6\n",
            "89/89 [==============================] - 15s 139ms/step - loss: 0.6952 - accuracy: 0.5215 - val_loss: 0.6889 - val_accuracy: 0.5437\n",
            "Epoch 2/6\n",
            "89/89 [==============================] - 12s 139ms/step - loss: 0.6946 - accuracy: 0.5215 - val_loss: 0.6890 - val_accuracy: 0.5437\n",
            "Epoch 3/6\n",
            "89/89 [==============================] - 12s 137ms/step - loss: 0.6943 - accuracy: 0.5222 - val_loss: 0.6891 - val_accuracy: 0.5408\n",
            "Epoch 4/6\n",
            "89/89 [==============================] - 12s 135ms/step - loss: 0.6940 - accuracy: 0.5215 - val_loss: 0.6893 - val_accuracy: 0.5437\n",
            "Epoch 5/6\n",
            "89/89 [==============================] - 12s 134ms/step - loss: 0.6938 - accuracy: 0.5215 - val_loss: 0.6894 - val_accuracy: 0.5465\n",
            "Epoch 6/6\n",
            "89/89 [==============================] - 12s 130ms/step - loss: 0.6937 - accuracy: 0.5222 - val_loss: 0.6896 - val_accuracy: 0.5437\n",
            "14/14 [==============================] - 1s 52ms/step - loss: 0.6933 - accuracy: 0.5270\n"
          ]
        },
        {
          "metadata": {
            "tags": null
          },
          "name": "stderr",
          "output_type": "stream",
          "text": [
            "[I 2024-03-23 23:58:10,004] Trial 28 finished with value: 0.5270270109176636 and parameters: {'units': 61}. Best is trial 20 with value: 0.5495495200157166.\n"
          ]
        },
        {
          "metadata": {
            "tags": null
          },
          "name": "stdout",
          "output_type": "stream",
          "text": [
            "Epoch 1/6\n",
            "89/89 [==============================] - 16s 141ms/step - loss: 0.7102 - accuracy: 0.4820 - val_loss: 0.7206 - val_accuracy: 0.4423\n",
            "Epoch 2/6\n",
            "89/89 [==============================] - 12s 134ms/step - loss: 0.7034 - accuracy: 0.4989 - val_loss: 0.7126 - val_accuracy: 0.4648\n",
            "Epoch 3/6\n",
            "89/89 [==============================] - 12s 135ms/step - loss: 0.6997 - accuracy: 0.4982 - val_loss: 0.7075 - val_accuracy: 0.4845\n",
            "Epoch 4/6\n",
            "89/89 [==============================] - 12s 135ms/step - loss: 0.6973 - accuracy: 0.5039 - val_loss: 0.7041 - val_accuracy: 0.4901\n",
            "Epoch 5/6\n",
            "89/89 [==============================] - 12s 139ms/step - loss: 0.6958 - accuracy: 0.5011 - val_loss: 0.7014 - val_accuracy: 0.4873\n",
            "Epoch 6/6\n",
            "89/89 [==============================] - 12s 139ms/step - loss: 0.6947 - accuracy: 0.5018 - val_loss: 0.6996 - val_accuracy: 0.4845\n",
            "14/14 [==============================] - 0s 31ms/step - loss: 0.6948 - accuracy: 0.5135\n"
          ]
        },
        {
          "metadata": {
            "tags": null
          },
          "name": "stderr",
          "output_type": "stream",
          "text": [
            "[I 2024-03-23 23:59:35,954] Trial 29 finished with value: 0.5135135054588318 and parameters: {'units': 57}. Best is trial 20 with value: 0.5495495200157166.\n"
          ]
        },
        {
          "metadata": {
            "tags": null
          },
          "name": "stdout",
          "output_type": "stream",
          "text": [
            "Epoch 1/6\n",
            "89/89 [==============================] - 12s 102ms/step - loss: 0.6962 - accuracy: 0.5025 - val_loss: 0.6897 - val_accuracy: 0.5380\n",
            "Epoch 2/6\n",
            "89/89 [==============================] - 9s 106ms/step - loss: 0.6955 - accuracy: 0.5046 - val_loss: 0.6897 - val_accuracy: 0.5408\n",
            "Epoch 3/6\n",
            "89/89 [==============================] - 10s 110ms/step - loss: 0.6951 - accuracy: 0.5116 - val_loss: 0.6898 - val_accuracy: 0.5437\n",
            "Epoch 4/6\n",
            "89/89 [==============================] - 9s 104ms/step - loss: 0.6948 - accuracy: 0.5130 - val_loss: 0.6899 - val_accuracy: 0.5437\n",
            "Epoch 5/6\n",
            "89/89 [==============================] - 8s 94ms/step - loss: 0.6945 - accuracy: 0.5109 - val_loss: 0.6900 - val_accuracy: 0.5437\n",
            "Epoch 6/6\n",
            "89/89 [==============================] - 9s 104ms/step - loss: 0.6944 - accuracy: 0.5102 - val_loss: 0.6901 - val_accuracy: 0.5465\n",
            "14/14 [==============================] - 0s 22ms/step - loss: 0.6938 - accuracy: 0.5248\n"
          ]
        },
        {
          "metadata": {
            "tags": null
          },
          "name": "stderr",
          "output_type": "stream",
          "text": [
            "[I 2024-03-24 00:01:01,739] Trial 30 finished with value: 0.5247747898101807 and parameters: {'units': 32}. Best is trial 20 with value: 0.5495495200157166.\n"
          ]
        },
        {
          "metadata": {
            "tags": null
          },
          "name": "stdout",
          "output_type": "stream",
          "text": [
            "Epoch 1/6\n",
            "89/89 [==============================] - 15s 132ms/step - loss: 0.6937 - accuracy: 0.5067 - val_loss: 0.6916 - val_accuracy: 0.5380\n",
            "Epoch 2/6\n",
            "89/89 [==============================] - 11s 121ms/step - loss: 0.6936 - accuracy: 0.5053 - val_loss: 0.6915 - val_accuracy: 0.5408\n",
            "Epoch 3/6\n",
            "89/89 [==============================] - 11s 128ms/step - loss: 0.6935 - accuracy: 0.5102 - val_loss: 0.6914 - val_accuracy: 0.5324\n",
            "Epoch 4/6\n",
            "89/89 [==============================] - 12s 130ms/step - loss: 0.6934 - accuracy: 0.5137 - val_loss: 0.6914 - val_accuracy: 0.5380\n",
            "Epoch 5/6\n",
            "89/89 [==============================] - 11s 129ms/step - loss: 0.6933 - accuracy: 0.5137 - val_loss: 0.6914 - val_accuracy: 0.5296\n",
            "Epoch 6/6\n",
            "89/89 [==============================] - 11s 128ms/step - loss: 0.6933 - accuracy: 0.5180 - val_loss: 0.6913 - val_accuracy: 0.5239\n",
            "14/14 [==============================] - 0s 29ms/step - loss: 0.6929 - accuracy: 0.5000\n"
          ]
        },
        {
          "metadata": {
            "tags": null
          },
          "name": "stderr",
          "output_type": "stream",
          "text": [
            "[I 2024-03-24 00:02:27,319] Trial 31 finished with value: 0.5 and parameters: {'units': 50}. Best is trial 20 with value: 0.5495495200157166.\n"
          ]
        },
        {
          "metadata": {
            "tags": null
          },
          "name": "stdout",
          "output_type": "stream",
          "text": [
            "Epoch 1/6\n",
            "89/89 [==============================] - 13s 121ms/step - loss: 0.6937 - accuracy: 0.5130 - val_loss: 0.6901 - val_accuracy: 0.5408\n",
            "Epoch 2/6\n",
            "89/89 [==============================] - 10s 118ms/step - loss: 0.6935 - accuracy: 0.5123 - val_loss: 0.6902 - val_accuracy: 0.5380\n",
            "Epoch 3/6\n",
            "89/89 [==============================] - 11s 120ms/step - loss: 0.6934 - accuracy: 0.5166 - val_loss: 0.6903 - val_accuracy: 0.5408\n",
            "Epoch 4/6\n",
            "89/89 [==============================] - 11s 120ms/step - loss: 0.6933 - accuracy: 0.5201 - val_loss: 0.6903 - val_accuracy: 0.5408\n",
            "Epoch 5/6\n",
            "89/89 [==============================] - 11s 119ms/step - loss: 0.6933 - accuracy: 0.5208 - val_loss: 0.6904 - val_accuracy: 0.5408\n",
            "Epoch 6/6\n",
            "89/89 [==============================] - 10s 108ms/step - loss: 0.6932 - accuracy: 0.5208 - val_loss: 0.6904 - val_accuracy: 0.5408\n",
            "14/14 [==============================] - 1s 40ms/step - loss: 0.6927 - accuracy: 0.5270\n"
          ]
        },
        {
          "metadata": {
            "tags": null
          },
          "name": "stderr",
          "output_type": "stream",
          "text": [
            "[I 2024-03-24 00:03:33,723] Trial 32 finished with value: 0.5270270109176636 and parameters: {'units': 42}. Best is trial 20 with value: 0.5495495200157166.\n"
          ]
        },
        {
          "metadata": {
            "tags": null
          },
          "name": "stdout",
          "output_type": "stream",
          "text": [
            "Epoch 1/6\n",
            "89/89 [==============================] - 16s 140ms/step - loss: 0.6949 - accuracy: 0.5215 - val_loss: 0.6888 - val_accuracy: 0.5437\n",
            "Epoch 2/6\n",
            "89/89 [==============================] - 12s 132ms/step - loss: 0.6944 - accuracy: 0.5215 - val_loss: 0.6889 - val_accuracy: 0.5437\n",
            "Epoch 3/6\n",
            "89/89 [==============================] - 12s 138ms/step - loss: 0.6941 - accuracy: 0.5215 - val_loss: 0.6890 - val_accuracy: 0.5437\n",
            "Epoch 4/6\n",
            "89/89 [==============================] - 12s 135ms/step - loss: 0.6938 - accuracy: 0.5215 - val_loss: 0.6891 - val_accuracy: 0.5408\n",
            "Epoch 5/6\n",
            "89/89 [==============================] - 12s 135ms/step - loss: 0.6937 - accuracy: 0.5215 - val_loss: 0.6892 - val_accuracy: 0.5380\n",
            "Epoch 6/6\n",
            "89/89 [==============================] - 12s 135ms/step - loss: 0.6935 - accuracy: 0.5215 - val_loss: 0.6893 - val_accuracy: 0.5380\n",
            "14/14 [==============================] - 1s 35ms/step - loss: 0.6933 - accuracy: 0.5315\n"
          ]
        },
        {
          "metadata": {
            "tags": null
          },
          "name": "stderr",
          "output_type": "stream",
          "text": [
            "[I 2024-03-24 00:05:00,110] Trial 33 finished with value: 0.5315315127372742 and parameters: {'units': 58}. Best is trial 20 with value: 0.5495495200157166.\n"
          ]
        },
        {
          "metadata": {
            "tags": null
          },
          "name": "stdout",
          "output_type": "stream",
          "text": [
            "Epoch 1/6\n",
            "89/89 [==============================] - 16s 145ms/step - loss: 0.6940 - accuracy: 0.4757 - val_loss: 0.6948 - val_accuracy: 0.4563\n",
            "Epoch 2/6\n",
            "89/89 [==============================] - 12s 138ms/step - loss: 0.6935 - accuracy: 0.4919 - val_loss: 0.6940 - val_accuracy: 0.4732\n",
            "Epoch 3/6\n",
            "89/89 [==============================] - 12s 137ms/step - loss: 0.6932 - accuracy: 0.5004 - val_loss: 0.6934 - val_accuracy: 0.5014\n",
            "Epoch 4/6\n",
            "89/89 [==============================] - 12s 131ms/step - loss: 0.6930 - accuracy: 0.5046 - val_loss: 0.6929 - val_accuracy: 0.5296\n",
            "Epoch 5/6\n",
            "89/89 [==============================] - 12s 134ms/step - loss: 0.6929 - accuracy: 0.5243 - val_loss: 0.6926 - val_accuracy: 0.5493\n",
            "Epoch 6/6\n",
            "89/89 [==============================] - 12s 129ms/step - loss: 0.6928 - accuracy: 0.5215 - val_loss: 0.6924 - val_accuracy: 0.5296\n",
            "14/14 [==============================] - 0s 34ms/step - loss: 0.6925 - accuracy: 0.5270\n"
          ]
        },
        {
          "metadata": {
            "tags": null
          },
          "name": "stderr",
          "output_type": "stream",
          "text": [
            "[I 2024-03-24 00:06:25,903] Trial 34 finished with value: 0.5270270109176636 and parameters: {'units': 59}. Best is trial 20 with value: 0.5495495200157166.\n"
          ]
        },
        {
          "metadata": {
            "tags": null
          },
          "name": "stdout",
          "output_type": "stream",
          "text": [
            "Epoch 1/6\n",
            "89/89 [==============================] - 16s 145ms/step - loss: 0.6957 - accuracy: 0.5222 - val_loss: 0.6889 - val_accuracy: 0.5408\n",
            "Epoch 2/6\n",
            "89/89 [==============================] - 12s 133ms/step - loss: 0.6950 - accuracy: 0.5201 - val_loss: 0.6890 - val_accuracy: 0.5408\n",
            "Epoch 3/6\n",
            "89/89 [==============================] - 12s 137ms/step - loss: 0.6946 - accuracy: 0.5187 - val_loss: 0.6892 - val_accuracy: 0.5493\n",
            "Epoch 4/6\n",
            "89/89 [==============================] - 12s 137ms/step - loss: 0.6942 - accuracy: 0.5229 - val_loss: 0.6893 - val_accuracy: 0.5521\n",
            "Epoch 5/6\n",
            "89/89 [==============================] - 12s 131ms/step - loss: 0.6940 - accuracy: 0.5229 - val_loss: 0.6894 - val_accuracy: 0.5521\n",
            "Epoch 6/6\n",
            "89/89 [==============================] - 12s 132ms/step - loss: 0.6938 - accuracy: 0.5236 - val_loss: 0.6896 - val_accuracy: 0.5521\n",
            "14/14 [==============================] - 1s 34ms/step - loss: 0.6934 - accuracy: 0.5248\n"
          ]
        },
        {
          "metadata": {
            "tags": null
          },
          "name": "stderr",
          "output_type": "stream",
          "text": [
            "[I 2024-03-24 00:07:51,312] Trial 35 finished with value: 0.5247747898101807 and parameters: {'units': 64}. Best is trial 20 with value: 0.5495495200157166.\n"
          ]
        },
        {
          "metadata": {
            "tags": null
          },
          "name": "stdout",
          "output_type": "stream",
          "text": [
            "Epoch 1/6\n",
            "89/89 [==============================] - 15s 142ms/step - loss: 0.6993 - accuracy: 0.5166 - val_loss: 0.6897 - val_accuracy: 0.5577\n",
            "Epoch 2/6\n",
            "89/89 [==============================] - 11s 126ms/step - loss: 0.6977 - accuracy: 0.5180 - val_loss: 0.6893 - val_accuracy: 0.5690\n",
            "Epoch 3/6\n",
            "89/89 [==============================] - 12s 132ms/step - loss: 0.6968 - accuracy: 0.5194 - val_loss: 0.6892 - val_accuracy: 0.5606\n",
            "Epoch 4/6\n",
            "89/89 [==============================] - 12s 134ms/step - loss: 0.6961 - accuracy: 0.5173 - val_loss: 0.6892 - val_accuracy: 0.5634\n",
            "Epoch 5/6\n",
            "89/89 [==============================] - 12s 133ms/step - loss: 0.6956 - accuracy: 0.5102 - val_loss: 0.6892 - val_accuracy: 0.5634\n",
            "Epoch 6/6\n",
            "89/89 [==============================] - 12s 133ms/step - loss: 0.6953 - accuracy: 0.5130 - val_loss: 0.6892 - val_accuracy: 0.5662\n",
            "14/14 [==============================] - 0s 31ms/step - loss: 0.6946 - accuracy: 0.5090\n"
          ]
        },
        {
          "metadata": {
            "tags": null
          },
          "name": "stderr",
          "output_type": "stream",
          "text": [
            "[I 2024-03-24 00:09:06,298] Trial 36 finished with value: 0.5090090036392212 and parameters: {'units': 55}. Best is trial 20 with value: 0.5495495200157166.\n"
          ]
        },
        {
          "metadata": {
            "tags": null
          },
          "name": "stdout",
          "output_type": "stream",
          "text": [
            "Epoch 1/6\n",
            "89/89 [==============================] - 13s 109ms/step - loss: 0.6958 - accuracy: 0.4989 - val_loss: 0.6906 - val_accuracy: 0.5408\n",
            "Epoch 2/6\n",
            "89/89 [==============================] - 10s 108ms/step - loss: 0.6954 - accuracy: 0.5004 - val_loss: 0.6907 - val_accuracy: 0.5380\n",
            "Epoch 3/6\n",
            "89/89 [==============================] - 10s 110ms/step - loss: 0.6951 - accuracy: 0.5032 - val_loss: 0.6907 - val_accuracy: 0.5380\n",
            "Epoch 4/6\n",
            "89/89 [==============================] - 9s 105ms/step - loss: 0.6949 - accuracy: 0.5067 - val_loss: 0.6907 - val_accuracy: 0.5380\n",
            "Epoch 5/6\n",
            "89/89 [==============================] - 9s 101ms/step - loss: 0.6947 - accuracy: 0.5025 - val_loss: 0.6908 - val_accuracy: 0.5380\n",
            "Epoch 6/6\n",
            "89/89 [==============================] - 10s 111ms/step - loss: 0.6945 - accuracy: 0.4996 - val_loss: 0.6908 - val_accuracy: 0.5408\n",
            "14/14 [==============================] - 0s 23ms/step - loss: 0.6939 - accuracy: 0.5293\n"
          ]
        },
        {
          "metadata": {
            "tags": null
          },
          "name": "stderr",
          "output_type": "stream",
          "text": [
            "[I 2024-03-24 00:10:32,341] Trial 37 finished with value: 0.5292792916297913 and parameters: {'units': 33}. Best is trial 20 with value: 0.5495495200157166.\n"
          ]
        },
        {
          "metadata": {
            "tags": null
          },
          "name": "stdout",
          "output_type": "stream",
          "text": [
            "Epoch 1/6\n",
            "89/89 [==============================] - 15s 138ms/step - loss: 0.6942 - accuracy: 0.5053 - val_loss: 0.6953 - val_accuracy: 0.4958\n",
            "Epoch 2/6\n",
            "89/89 [==============================] - 12s 132ms/step - loss: 0.6937 - accuracy: 0.5081 - val_loss: 0.6943 - val_accuracy: 0.4845\n",
            "Epoch 3/6\n",
            "89/89 [==============================] - 12s 132ms/step - loss: 0.6934 - accuracy: 0.5201 - val_loss: 0.6937 - val_accuracy: 0.4901\n",
            "Epoch 4/6\n",
            "89/89 [==============================] - 12s 133ms/step - loss: 0.6932 - accuracy: 0.5187 - val_loss: 0.6931 - val_accuracy: 0.4930\n",
            "Epoch 5/6\n",
            "89/89 [==============================] - 12s 134ms/step - loss: 0.6930 - accuracy: 0.5173 - val_loss: 0.6927 - val_accuracy: 0.4958\n",
            "Epoch 6/6\n",
            "89/89 [==============================] - 12s 133ms/step - loss: 0.6929 - accuracy: 0.5187 - val_loss: 0.6925 - val_accuracy: 0.4930\n",
            "14/14 [==============================] - 0s 32ms/step - loss: 0.6923 - accuracy: 0.5158\n"
          ]
        },
        {
          "metadata": {
            "tags": null
          },
          "name": "stderr",
          "output_type": "stream",
          "text": [
            "[I 2024-03-24 00:11:46,885] Trial 38 finished with value: 0.5157657861709595 and parameters: {'units': 56}. Best is trial 20 with value: 0.5495495200157166.\n"
          ]
        },
        {
          "metadata": {
            "tags": null
          },
          "name": "stdout",
          "output_type": "stream",
          "text": [
            "Epoch 1/6\n",
            "89/89 [==============================] - 12s 114ms/step - loss: 0.6936 - accuracy: 0.5215 - val_loss: 0.6905 - val_accuracy: 0.5324\n",
            "Epoch 2/6\n",
            "89/89 [==============================] - 9s 106ms/step - loss: 0.6936 - accuracy: 0.5194 - val_loss: 0.6905 - val_accuracy: 0.5352\n",
            "Epoch 3/6\n",
            "89/89 [==============================] - 9s 96ms/step - loss: 0.6935 - accuracy: 0.5201 - val_loss: 0.6905 - val_accuracy: 0.5352\n",
            "Epoch 4/6\n",
            "89/89 [==============================] - 9s 106ms/step - loss: 0.6934 - accuracy: 0.5194 - val_loss: 0.6906 - val_accuracy: 0.5380\n",
            "Epoch 5/6\n",
            "89/89 [==============================] - 9s 106ms/step - loss: 0.6934 - accuracy: 0.5208 - val_loss: 0.6906 - val_accuracy: 0.5352\n",
            "Epoch 6/6\n",
            "89/89 [==============================] - 9s 106ms/step - loss: 0.6934 - accuracy: 0.5208 - val_loss: 0.6906 - val_accuracy: 0.5352\n",
            "14/14 [==============================] - 0s 23ms/step - loss: 0.6936 - accuracy: 0.5248\n"
          ]
        },
        {
          "metadata": {
            "tags": null
          },
          "name": "stderr",
          "output_type": "stream",
          "text": [
            "[I 2024-03-24 00:13:11,952] Trial 39 finished with value: 0.5247747898101807 and parameters: {'units': 25}. Best is trial 20 with value: 0.5495495200157166.\n"
          ]
        },
        {
          "metadata": {
            "tags": null
          },
          "name": "stdout",
          "output_type": "stream",
          "text": [
            "Epoch 1/6\n",
            "89/89 [==============================] - 13s 105ms/step - loss: 0.7102 - accuracy: 0.4912 - val_loss: 0.7232 - val_accuracy: 0.4394\n",
            "Epoch 2/6\n",
            "89/89 [==============================] - 8s 94ms/step - loss: 0.7054 - accuracy: 0.4912 - val_loss: 0.7172 - val_accuracy: 0.4535\n",
            "Epoch 3/6\n",
            "89/89 [==============================] - 8s 89ms/step - loss: 0.7023 - accuracy: 0.4968 - val_loss: 0.7131 - val_accuracy: 0.4732\n",
            "Epoch 4/6\n",
            "89/89 [==============================] - 9s 99ms/step - loss: 0.7002 - accuracy: 0.4954 - val_loss: 0.7101 - val_accuracy: 0.4761\n",
            "Epoch 5/6\n",
            "89/89 [==============================] - 8s 91ms/step - loss: 0.6987 - accuracy: 0.4926 - val_loss: 0.7077 - val_accuracy: 0.4901\n",
            "Epoch 6/6\n",
            "89/89 [==============================] - 8s 93ms/step - loss: 0.6976 - accuracy: 0.4975 - val_loss: 0.7058 - val_accuracy: 0.4873\n",
            "14/14 [==============================] - 0s 20ms/step - loss: 0.6979 - accuracy: 0.5068\n"
          ]
        },
        {
          "metadata": {
            "tags": null
          },
          "name": "stderr",
          "output_type": "stream",
          "text": [
            "[I 2024-03-24 00:14:06,858] Trial 40 finished with value: 0.5067567825317383 and parameters: {'units': 13}. Best is trial 20 with value: 0.5495495200157166.\n"
          ]
        },
        {
          "metadata": {
            "tags": null
          },
          "name": "stdout",
          "output_type": "stream",
          "text": [
            "Epoch 1/6\n",
            "89/89 [==============================] - 13s 115ms/step - loss: 0.6934 - accuracy: 0.5201 - val_loss: 0.6904 - val_accuracy: 0.5465\n",
            "Epoch 2/6\n",
            "89/89 [==============================] - 10s 110ms/step - loss: 0.6933 - accuracy: 0.5208 - val_loss: 0.6904 - val_accuracy: 0.5437\n",
            "Epoch 3/6\n",
            "89/89 [==============================] - 10s 114ms/step - loss: 0.6932 - accuracy: 0.5194 - val_loss: 0.6904 - val_accuracy: 0.5437\n",
            "Epoch 4/6\n",
            "89/89 [==============================] - 9s 106ms/step - loss: 0.6932 - accuracy: 0.5215 - val_loss: 0.6905 - val_accuracy: 0.5437\n",
            "Epoch 5/6\n",
            "89/89 [==============================] - 9s 103ms/step - loss: 0.6931 - accuracy: 0.5208 - val_loss: 0.6905 - val_accuracy: 0.5437\n",
            "Epoch 6/6\n",
            "89/89 [==============================] - 10s 111ms/step - loss: 0.6931 - accuracy: 0.5215 - val_loss: 0.6905 - val_accuracy: 0.5437\n",
            "14/14 [==============================] - 0s 23ms/step - loss: 0.6927 - accuracy: 0.5270\n"
          ]
        },
        {
          "metadata": {
            "tags": null
          },
          "name": "stderr",
          "output_type": "stream",
          "text": [
            "[I 2024-03-24 00:15:09,131] Trial 41 finished with value: 0.5270270109176636 and parameters: {'units': 36}. Best is trial 20 with value: 0.5495495200157166.\n"
          ]
        },
        {
          "metadata": {
            "tags": null
          },
          "name": "stdout",
          "output_type": "stream",
          "text": [
            "Epoch 1/6\n",
            "89/89 [==============================] - 14s 127ms/step - loss: 0.6937 - accuracy: 0.4743 - val_loss: 0.6927 - val_accuracy: 0.5352\n",
            "Epoch 2/6\n",
            "89/89 [==============================] - 11s 122ms/step - loss: 0.6935 - accuracy: 0.4919 - val_loss: 0.6923 - val_accuracy: 0.5324\n",
            "Epoch 3/6\n",
            "89/89 [==============================] - 11s 122ms/step - loss: 0.6934 - accuracy: 0.5081 - val_loss: 0.6921 - val_accuracy: 0.5296\n",
            "Epoch 4/6\n",
            "89/89 [==============================] - 11s 121ms/step - loss: 0.6933 - accuracy: 0.5081 - val_loss: 0.6919 - val_accuracy: 0.5352\n",
            "Epoch 5/6\n",
            "89/89 [==============================] - 11s 121ms/step - loss: 0.6932 - accuracy: 0.5088 - val_loss: 0.6918 - val_accuracy: 0.5380\n",
            "Epoch 6/6\n",
            "89/89 [==============================] - 10s 112ms/step - loss: 0.6931 - accuracy: 0.5074 - val_loss: 0.6917 - val_accuracy: 0.5437\n",
            "14/14 [==============================] - 1s 45ms/step - loss: 0.6923 - accuracy: 0.5338\n"
          ]
        },
        {
          "metadata": {
            "tags": null
          },
          "name": "stderr",
          "output_type": "stream",
          "text": [
            "[I 2024-03-24 00:16:17,608] Trial 42 finished with value: 0.5337837934494019 and parameters: {'units': 44}. Best is trial 20 with value: 0.5495495200157166.\n"
          ]
        },
        {
          "metadata": {
            "tags": null
          },
          "name": "stdout",
          "output_type": "stream",
          "text": [
            "Epoch 1/6\n",
            "89/89 [==============================] - 15s 143ms/step - loss: 0.6946 - accuracy: 0.5180 - val_loss: 0.6891 - val_accuracy: 0.5493\n",
            "Epoch 2/6\n",
            "89/89 [==============================] - 12s 135ms/step - loss: 0.6942 - accuracy: 0.5187 - val_loss: 0.6892 - val_accuracy: 0.5408\n",
            "Epoch 3/6\n",
            "89/89 [==============================] - 12s 135ms/step - loss: 0.6939 - accuracy: 0.5166 - val_loss: 0.6893 - val_accuracy: 0.5408\n",
            "Epoch 4/6\n",
            "89/89 [==============================] - 13s 144ms/step - loss: 0.6937 - accuracy: 0.5173 - val_loss: 0.6894 - val_accuracy: 0.5493\n",
            "Epoch 5/6\n",
            "89/89 [==============================] - 13s 141ms/step - loss: 0.6935 - accuracy: 0.5201 - val_loss: 0.6896 - val_accuracy: 0.5465\n",
            "Epoch 6/6\n",
            "89/89 [==============================] - 12s 138ms/step - loss: 0.6934 - accuracy: 0.5180 - val_loss: 0.6897 - val_accuracy: 0.5465\n",
            "14/14 [==============================] - 0s 33ms/step - loss: 0.6932 - accuracy: 0.5248\n"
          ]
        },
        {
          "metadata": {
            "tags": null
          },
          "name": "stderr",
          "output_type": "stream",
          "text": [
            "[I 2024-03-24 00:17:42,721] Trial 43 finished with value: 0.5247747898101807 and parameters: {'units': 58}. Best is trial 20 with value: 0.5495495200157166.\n"
          ]
        },
        {
          "metadata": {
            "tags": null
          },
          "name": "stdout",
          "output_type": "stream",
          "text": [
            "Epoch 1/6\n",
            "89/89 [==============================] - 17s 144ms/step - loss: 0.6939 - accuracy: 0.5004 - val_loss: 0.6904 - val_accuracy: 0.5352\n",
            "Epoch 2/6\n",
            "89/89 [==============================] - 11s 129ms/step - loss: 0.6937 - accuracy: 0.5032 - val_loss: 0.6905 - val_accuracy: 0.5296\n",
            "Epoch 3/6\n",
            "89/89 [==============================] - 11s 126ms/step - loss: 0.6936 - accuracy: 0.5081 - val_loss: 0.6905 - val_accuracy: 0.5324\n",
            "Epoch 4/6\n",
            "89/89 [==============================] - 12s 130ms/step - loss: 0.6934 - accuracy: 0.5067 - val_loss: 0.6906 - val_accuracy: 0.5352\n",
            "Epoch 5/6\n",
            "89/89 [==============================] - 12s 133ms/step - loss: 0.6934 - accuracy: 0.5088 - val_loss: 0.6907 - val_accuracy: 0.5268\n",
            "Epoch 6/6\n",
            "89/89 [==============================] - 12s 134ms/step - loss: 0.6932 - accuracy: 0.5144 - val_loss: 0.6907 - val_accuracy: 0.5239\n",
            "14/14 [==============================] - 0s 33ms/step - loss: 0.6931 - accuracy: 0.5270\n"
          ]
        },
        {
          "metadata": {
            "tags": null
          },
          "name": "stderr",
          "output_type": "stream",
          "text": [
            "[I 2024-03-24 00:19:09,403] Trial 44 finished with value: 0.5270270109176636 and parameters: {'units': 54}. Best is trial 20 with value: 0.5495495200157166.\n"
          ]
        },
        {
          "metadata": {
            "tags": null
          },
          "name": "stdout",
          "output_type": "stream",
          "text": [
            "Epoch 1/6\n",
            "89/89 [==============================] - 13s 120ms/step - loss: 0.6964 - accuracy: 0.5053 - val_loss: 0.6900 - val_accuracy: 0.5521\n",
            "Epoch 2/6\n",
            "89/89 [==============================] - 10s 118ms/step - loss: 0.6957 - accuracy: 0.4982 - val_loss: 0.6901 - val_accuracy: 0.5465\n",
            "Epoch 3/6\n",
            "89/89 [==============================] - 11s 121ms/step - loss: 0.6952 - accuracy: 0.4996 - val_loss: 0.6902 - val_accuracy: 0.5493\n",
            "Epoch 4/6\n",
            "89/89 [==============================] - 11s 121ms/step - loss: 0.6949 - accuracy: 0.4982 - val_loss: 0.6903 - val_accuracy: 0.5465\n",
            "Epoch 5/6\n",
            "89/89 [==============================] - 11s 121ms/step - loss: 0.6946 - accuracy: 0.5060 - val_loss: 0.6904 - val_accuracy: 0.5437\n",
            "Epoch 6/6\n",
            "89/89 [==============================] - 10s 118ms/step - loss: 0.6944 - accuracy: 0.5039 - val_loss: 0.6905 - val_accuracy: 0.5437\n",
            "14/14 [==============================] - 1s 44ms/step - loss: 0.6938 - accuracy: 0.5338\n"
          ]
        },
        {
          "metadata": {
            "tags": null
          },
          "name": "stderr",
          "output_type": "stream",
          "text": [
            "[I 2024-03-24 00:20:17,111] Trial 45 finished with value: 0.5337837934494019 and parameters: {'units': 44}. Best is trial 20 with value: 0.5495495200157166.\n"
          ]
        },
        {
          "metadata": {
            "tags": null
          },
          "name": "stdout",
          "output_type": "stream",
          "text": [
            "Epoch 1/6\n",
            "89/89 [==============================] - 13s 122ms/step - loss: 0.6973 - accuracy: 0.4912 - val_loss: 0.7018 - val_accuracy: 0.4423\n",
            "Epoch 2/6\n",
            "89/89 [==============================] - 9s 106ms/step - loss: 0.6955 - accuracy: 0.4848 - val_loss: 0.6992 - val_accuracy: 0.4704\n",
            "Epoch 3/6\n",
            "89/89 [==============================] - 10s 112ms/step - loss: 0.6944 - accuracy: 0.4926 - val_loss: 0.6975 - val_accuracy: 0.4930\n",
            "Epoch 4/6\n",
            "89/89 [==============================] - 10s 116ms/step - loss: 0.6937 - accuracy: 0.5046 - val_loss: 0.6963 - val_accuracy: 0.4845\n",
            "Epoch 5/6\n",
            "89/89 [==============================] - 10s 116ms/step - loss: 0.6933 - accuracy: 0.5102 - val_loss: 0.6953 - val_accuracy: 0.4958\n",
            "Epoch 6/6\n",
            "89/89 [==============================] - 10s 115ms/step - loss: 0.6930 - accuracy: 0.5102 - val_loss: 0.6947 - val_accuracy: 0.4901\n",
            "14/14 [==============================] - 0s 24ms/step - loss: 0.6924 - accuracy: 0.5135\n"
          ]
        },
        {
          "metadata": {
            "tags": null
          },
          "name": "stderr",
          "output_type": "stream",
          "text": [
            "[I 2024-03-24 00:21:21,375] Trial 46 finished with value: 0.5135135054588318 and parameters: {'units': 38}. Best is trial 20 with value: 0.5495495200157166.\n"
          ]
        },
        {
          "metadata": {
            "tags": null
          },
          "name": "stdout",
          "output_type": "stream",
          "text": [
            "Epoch 1/6\n",
            "89/89 [==============================] - 13s 126ms/step - loss: 0.6939 - accuracy: 0.4947 - val_loss: 0.6911 - val_accuracy: 0.5380\n",
            "Epoch 2/6\n",
            "89/89 [==============================] - 10s 118ms/step - loss: 0.6938 - accuracy: 0.4940 - val_loss: 0.6910 - val_accuracy: 0.5408\n",
            "Epoch 3/6\n",
            "89/89 [==============================] - 10s 111ms/step - loss: 0.6937 - accuracy: 0.5025 - val_loss: 0.6910 - val_accuracy: 0.5465\n",
            "Epoch 4/6\n",
            "89/89 [==============================] - 11s 121ms/step - loss: 0.6936 - accuracy: 0.5095 - val_loss: 0.6910 - val_accuracy: 0.5521\n",
            "Epoch 5/6\n",
            "89/89 [==============================] - 11s 122ms/step - loss: 0.6936 - accuracy: 0.5201 - val_loss: 0.6909 - val_accuracy: 0.5296\n",
            "Epoch 6/6\n",
            "89/89 [==============================] - 11s 122ms/step - loss: 0.6935 - accuracy: 0.5236 - val_loss: 0.6909 - val_accuracy: 0.5296\n",
            "14/14 [==============================] - 1s 42ms/step - loss: 0.6929 - accuracy: 0.5293\n"
          ]
        },
        {
          "metadata": {
            "tags": null
          },
          "name": "stderr",
          "output_type": "stream",
          "text": [
            "[I 2024-03-24 00:22:46,396] Trial 47 finished with value: 0.5292792916297913 and parameters: {'units': 43}. Best is trial 20 with value: 0.5495495200157166.\n"
          ]
        },
        {
          "metadata": {
            "tags": null
          },
          "name": "stdout",
          "output_type": "stream",
          "text": [
            "Epoch 1/6\n",
            "89/89 [==============================] - 15s 126ms/step - loss: 0.6940 - accuracy: 0.4912 - val_loss: 0.6962 - val_accuracy: 0.4620\n",
            "Epoch 2/6\n",
            "89/89 [==============================] - 11s 119ms/step - loss: 0.6934 - accuracy: 0.4940 - val_loss: 0.6951 - val_accuracy: 0.4620\n",
            "Epoch 3/6\n",
            "89/89 [==============================] - 10s 114ms/step - loss: 0.6930 - accuracy: 0.5039 - val_loss: 0.6944 - val_accuracy: 0.4817\n",
            "Epoch 4/6\n",
            "89/89 [==============================] - 11s 122ms/step - loss: 0.6928 - accuracy: 0.5166 - val_loss: 0.6939 - val_accuracy: 0.4845\n",
            "Epoch 5/6\n",
            "89/89 [==============================] - 11s 122ms/step - loss: 0.6927 - accuracy: 0.5180 - val_loss: 0.6935 - val_accuracy: 0.4845\n",
            "Epoch 6/6\n",
            "89/89 [==============================] - 11s 120ms/step - loss: 0.6925 - accuracy: 0.5271 - val_loss: 0.6932 - val_accuracy: 0.4901\n",
            "14/14 [==============================] - 0s 26ms/step - loss: 0.6926 - accuracy: 0.5068\n"
          ]
        },
        {
          "metadata": {
            "tags": null
          },
          "name": "stderr",
          "output_type": "stream",
          "text": [
            "[I 2024-03-24 00:23:55,292] Trial 48 finished with value: 0.5067567825317383 and parameters: {'units': 44}. Best is trial 20 with value: 0.5495495200157166.\n"
          ]
        },
        {
          "metadata": {
            "tags": null
          },
          "name": "stdout",
          "output_type": "stream",
          "text": [
            "Epoch 1/6\n",
            "89/89 [==============================] - 14s 134ms/step - loss: 0.6947 - accuracy: 0.4947 - val_loss: 0.6976 - val_accuracy: 0.4648\n",
            "Epoch 2/6\n",
            "89/89 [==============================] - 11s 128ms/step - loss: 0.6940 - accuracy: 0.4940 - val_loss: 0.6963 - val_accuracy: 0.4873\n",
            "Epoch 3/6\n",
            "89/89 [==============================] - 11s 129ms/step - loss: 0.6935 - accuracy: 0.4989 - val_loss: 0.6954 - val_accuracy: 0.4789\n",
            "Epoch 4/6\n",
            "89/89 [==============================] - 11s 128ms/step - loss: 0.6932 - accuracy: 0.5053 - val_loss: 0.6947 - val_accuracy: 0.4761\n",
            "Epoch 5/6\n",
            "89/89 [==============================] - 11s 129ms/step - loss: 0.6930 - accuracy: 0.5137 - val_loss: 0.6942 - val_accuracy: 0.4761\n",
            "Epoch 6/6\n",
            "89/89 [==============================] - 11s 128ms/step - loss: 0.6928 - accuracy: 0.5173 - val_loss: 0.6937 - val_accuracy: 0.4704\n",
            "14/14 [==============================] - 0s 29ms/step - loss: 0.6927 - accuracy: 0.5158\n"
          ]
        },
        {
          "metadata": {
            "tags": null
          },
          "name": "stderr",
          "output_type": "stream",
          "text": [
            "[I 2024-03-24 00:25:20,218] Trial 49 finished with value: 0.5157657861709595 and parameters: {'units': 49}. Best is trial 20 with value: 0.5495495200157166.\n"
          ]
        },
        {
          "metadata": {
            "tags": null
          },
          "name": "stdout",
          "output_type": "stream",
          "text": [
            "Epoch 1/6\n",
            "89/89 [==============================] - 13s 123ms/step - loss: 0.6948 - accuracy: 0.4926 - val_loss: 0.6972 - val_accuracy: 0.4451\n",
            "Epoch 2/6\n",
            "89/89 [==============================] - 11s 121ms/step - loss: 0.6941 - accuracy: 0.4961 - val_loss: 0.6959 - val_accuracy: 0.4761\n",
            "Epoch 3/6\n",
            "89/89 [==============================] - 9s 107ms/step - loss: 0.6936 - accuracy: 0.4961 - val_loss: 0.6951 - val_accuracy: 0.4761\n",
            "Epoch 4/6\n",
            "89/89 [==============================] - 10s 115ms/step - loss: 0.6933 - accuracy: 0.5004 - val_loss: 0.6946 - val_accuracy: 0.4817\n",
            "Epoch 5/6\n",
            "89/89 [==============================] - 10s 116ms/step - loss: 0.6931 - accuracy: 0.5053 - val_loss: 0.6941 - val_accuracy: 0.4789\n",
            "Epoch 6/6\n",
            "89/89 [==============================] - 10s 118ms/step - loss: 0.6930 - accuracy: 0.5095 - val_loss: 0.6936 - val_accuracy: 0.4789\n",
            "14/14 [==============================] - 0s 26ms/step - loss: 0.6929 - accuracy: 0.5090\n"
          ]
        },
        {
          "metadata": {
            "tags": null
          },
          "name": "stderr",
          "output_type": "stream",
          "text": [
            "[I 2024-03-24 00:26:25,919] Trial 50 finished with value: 0.5090090036392212 and parameters: {'units': 39}. Best is trial 20 with value: 0.5495495200157166.\n"
          ]
        },
        {
          "metadata": {
            "tags": null
          },
          "name": "stdout",
          "output_type": "stream",
          "text": [
            "Epoch 1/6\n",
            "89/89 [==============================] - 15s 145ms/step - loss: 0.6944 - accuracy: 0.4926 - val_loss: 0.6966 - val_accuracy: 0.4563\n",
            "Epoch 2/6\n",
            "89/89 [==============================] - 12s 137ms/step - loss: 0.6936 - accuracy: 0.4926 - val_loss: 0.6952 - val_accuracy: 0.4620\n",
            "Epoch 3/6\n",
            "89/89 [==============================] - 12s 135ms/step - loss: 0.6932 - accuracy: 0.4968 - val_loss: 0.6944 - val_accuracy: 0.4817\n",
            "Epoch 4/6\n",
            "89/89 [==============================] - 12s 137ms/step - loss: 0.6930 - accuracy: 0.5025 - val_loss: 0.6938 - val_accuracy: 0.4873\n",
            "Epoch 5/6\n",
            "89/89 [==============================] - 12s 138ms/step - loss: 0.6928 - accuracy: 0.5166 - val_loss: 0.6933 - val_accuracy: 0.4845\n",
            "Epoch 6/6\n",
            "89/89 [==============================] - 12s 138ms/step - loss: 0.6927 - accuracy: 0.5208 - val_loss: 0.6930 - val_accuracy: 0.5127\n",
            "14/14 [==============================] - 1s 36ms/step - loss: 0.6925 - accuracy: 0.5360\n"
          ]
        },
        {
          "metadata": {
            "tags": null
          },
          "name": "stderr",
          "output_type": "stream",
          "text": [
            "[I 2024-03-24 00:27:50,978] Trial 51 finished with value: 0.5360360145568848 and parameters: {'units': 62}. Best is trial 20 with value: 0.5495495200157166.\n"
          ]
        },
        {
          "metadata": {
            "tags": null
          },
          "name": "stdout",
          "output_type": "stream",
          "text": [
            "Epoch 1/6\n",
            "89/89 [==============================] - 16s 145ms/step - loss: 0.6947 - accuracy: 0.5208 - val_loss: 0.6891 - val_accuracy: 0.5465\n",
            "Epoch 2/6\n",
            "89/89 [==============================] - 12s 136ms/step - loss: 0.6943 - accuracy: 0.5208 - val_loss: 0.6892 - val_accuracy: 0.5380\n",
            "Epoch 3/6\n",
            "89/89 [==============================] - 12s 138ms/step - loss: 0.6940 - accuracy: 0.5187 - val_loss: 0.6894 - val_accuracy: 0.5380\n",
            "Epoch 4/6\n",
            "89/89 [==============================] - 12s 138ms/step - loss: 0.6937 - accuracy: 0.5180 - val_loss: 0.6895 - val_accuracy: 0.5380\n",
            "Epoch 5/6\n",
            "89/89 [==============================] - 12s 137ms/step - loss: 0.6936 - accuracy: 0.5208 - val_loss: 0.6897 - val_accuracy: 0.5380\n",
            "Epoch 6/6\n",
            "89/89 [==============================] - 12s 138ms/step - loss: 0.6934 - accuracy: 0.5194 - val_loss: 0.6898 - val_accuracy: 0.5380\n",
            "14/14 [==============================] - 1s 51ms/step - loss: 0.6928 - accuracy: 0.5248\n"
          ]
        },
        {
          "metadata": {
            "tags": null
          },
          "name": "stderr",
          "output_type": "stream",
          "text": [
            "[I 2024-03-24 00:29:17,760] Trial 52 finished with value: 0.5247747898101807 and parameters: {'units': 61}. Best is trial 20 with value: 0.5495495200157166.\n"
          ]
        },
        {
          "metadata": {
            "tags": null
          },
          "name": "stdout",
          "output_type": "stream",
          "text": [
            "Epoch 1/6\n",
            "89/89 [==============================] - 12s 112ms/step - loss: 0.7013 - accuracy: 0.4834 - val_loss: 0.7101 - val_accuracy: 0.4479\n",
            "Epoch 2/6\n",
            "89/89 [==============================] - 9s 96ms/step - loss: 0.6991 - accuracy: 0.4905 - val_loss: 0.7072 - val_accuracy: 0.4423\n",
            "Epoch 3/6\n",
            "89/89 [==============================] - 9s 106ms/step - loss: 0.6977 - accuracy: 0.4919 - val_loss: 0.7050 - val_accuracy: 0.4563\n",
            "Epoch 4/6\n",
            "89/89 [==============================] - 9s 103ms/step - loss: 0.6966 - accuracy: 0.4996 - val_loss: 0.7033 - val_accuracy: 0.4563\n",
            "Epoch 5/6\n",
            "89/89 [==============================] - 8s 93ms/step - loss: 0.6958 - accuracy: 0.4961 - val_loss: 0.7020 - val_accuracy: 0.4732\n",
            "Epoch 6/6\n",
            "89/89 [==============================] - 10s 107ms/step - loss: 0.6952 - accuracy: 0.5011 - val_loss: 0.7009 - val_accuracy: 0.4845\n",
            "14/14 [==============================] - 0s 34ms/step - loss: 0.6957 - accuracy: 0.4977\n"
          ]
        },
        {
          "metadata": {
            "tags": null
          },
          "name": "stderr",
          "output_type": "stream",
          "text": [
            "[I 2024-03-24 00:30:43,183] Trial 53 finished with value: 0.4977477490901947 and parameters: {'units': 28}. Best is trial 20 with value: 0.5495495200157166.\n"
          ]
        },
        {
          "metadata": {
            "tags": null
          },
          "name": "stdout",
          "output_type": "stream",
          "text": [
            "Epoch 1/6\n",
            "89/89 [==============================] - 13s 124ms/step - loss: 0.6930 - accuracy: 0.5194 - val_loss: 0.6923 - val_accuracy: 0.5014\n",
            "Epoch 2/6\n",
            "89/89 [==============================] - 9s 103ms/step - loss: 0.6929 - accuracy: 0.5166 - val_loss: 0.6921 - val_accuracy: 0.5211\n",
            "Epoch 3/6\n",
            "89/89 [==============================] - 10s 110ms/step - loss: 0.6929 - accuracy: 0.5187 - val_loss: 0.6919 - val_accuracy: 0.5380\n",
            "Epoch 4/6\n",
            "89/89 [==============================] - 10s 113ms/step - loss: 0.6928 - accuracy: 0.5173 - val_loss: 0.6918 - val_accuracy: 0.5437\n",
            "Epoch 5/6\n",
            "89/89 [==============================] - 10s 113ms/step - loss: 0.6928 - accuracy: 0.5194 - val_loss: 0.6917 - val_accuracy: 0.5465\n",
            "Epoch 6/6\n",
            "89/89 [==============================] - 10s 111ms/step - loss: 0.6928 - accuracy: 0.5201 - val_loss: 0.6916 - val_accuracy: 0.5465\n",
            "14/14 [==============================] - 1s 42ms/step - loss: 0.6925 - accuracy: 0.5270\n"
          ]
        },
        {
          "metadata": {
            "tags": null
          },
          "name": "stderr",
          "output_type": "stream",
          "text": [
            "[I 2024-03-24 00:31:46,683] Trial 54 finished with value: 0.5270270109176636 and parameters: {'units': 36}. Best is trial 20 with value: 0.5495495200157166.\n"
          ]
        },
        {
          "metadata": {
            "tags": null
          },
          "name": "stdout",
          "output_type": "stream",
          "text": [
            "Epoch 1/6\n",
            "89/89 [==============================] - 14s 132ms/step - loss: 0.6936 - accuracy: 0.5011 - val_loss: 0.6926 - val_accuracy: 0.5155\n",
            "Epoch 2/6\n",
            "89/89 [==============================] - 11s 128ms/step - loss: 0.6935 - accuracy: 0.4884 - val_loss: 0.6923 - val_accuracy: 0.5070\n",
            "Epoch 3/6\n",
            "89/89 [==============================] - 10s 113ms/step - loss: 0.6934 - accuracy: 0.4975 - val_loss: 0.6922 - val_accuracy: 0.5211\n",
            "Epoch 4/6\n",
            "89/89 [==============================] - 11s 122ms/step - loss: 0.6933 - accuracy: 0.5025 - val_loss: 0.6921 - val_accuracy: 0.5268\n",
            "Epoch 5/6\n",
            "89/89 [==============================] - 11s 123ms/step - loss: 0.6932 - accuracy: 0.5123 - val_loss: 0.6920 - val_accuracy: 0.5380\n",
            "Epoch 6/6\n",
            "89/89 [==============================] - 11s 124ms/step - loss: 0.6932 - accuracy: 0.5144 - val_loss: 0.6919 - val_accuracy: 0.5380\n",
            "14/14 [==============================] - 0s 28ms/step - loss: 0.6926 - accuracy: 0.5338\n"
          ]
        },
        {
          "metadata": {
            "tags": null
          },
          "name": "stderr",
          "output_type": "stream",
          "text": [
            "[I 2024-03-24 00:33:11,799] Trial 55 finished with value: 0.5337837934494019 and parameters: {'units': 45}. Best is trial 20 with value: 0.5495495200157166.\n"
          ]
        },
        {
          "metadata": {
            "tags": null
          },
          "name": "stdout",
          "output_type": "stream",
          "text": [
            "Epoch 1/6\n",
            "89/89 [==============================] - 14s 133ms/step - loss: 0.7107 - accuracy: 0.4947 - val_loss: 0.7219 - val_accuracy: 0.4451\n",
            "Epoch 2/6\n",
            "89/89 [==============================] - 11s 119ms/step - loss: 0.7041 - accuracy: 0.4912 - val_loss: 0.7142 - val_accuracy: 0.4535\n",
            "Epoch 3/6\n",
            "89/89 [==============================] - 11s 118ms/step - loss: 0.7003 - accuracy: 0.4961 - val_loss: 0.7090 - val_accuracy: 0.4817\n",
            "Epoch 4/6\n",
            "89/89 [==============================] - 11s 125ms/step - loss: 0.6979 - accuracy: 0.4940 - val_loss: 0.7055 - val_accuracy: 0.4901\n",
            "Epoch 5/6\n",
            "89/89 [==============================] - 11s 125ms/step - loss: 0.6963 - accuracy: 0.4975 - val_loss: 0.7030 - val_accuracy: 0.4817\n",
            "Epoch 6/6\n",
            "89/89 [==============================] - 11s 126ms/step - loss: 0.6952 - accuracy: 0.5032 - val_loss: 0.7011 - val_accuracy: 0.4845\n",
            "14/14 [==============================] - 0s 28ms/step - loss: 0.6947 - accuracy: 0.5090\n"
          ]
        },
        {
          "metadata": {
            "tags": null
          },
          "name": "stderr",
          "output_type": "stream",
          "text": [
            "[I 2024-03-24 00:34:38,396] Trial 56 finished with value: 0.5090090036392212 and parameters: {'units': 47}. Best is trial 20 with value: 0.5495495200157166.\n"
          ]
        },
        {
          "metadata": {
            "tags": null
          },
          "name": "stdout",
          "output_type": "stream",
          "text": [
            "Epoch 1/6\n",
            "89/89 [==============================] - 13s 119ms/step - loss: 0.6927 - accuracy: 0.5074 - val_loss: 0.6921 - val_accuracy: 0.5352\n",
            "Epoch 2/6\n",
            "89/89 [==============================] - 10s 108ms/step - loss: 0.6925 - accuracy: 0.5236 - val_loss: 0.6918 - val_accuracy: 0.5465\n",
            "Epoch 3/6\n",
            "89/89 [==============================] - 10s 115ms/step - loss: 0.6924 - accuracy: 0.5236 - val_loss: 0.6916 - val_accuracy: 0.5493\n",
            "Epoch 4/6\n",
            "89/89 [==============================] - 10s 115ms/step - loss: 0.6923 - accuracy: 0.5243 - val_loss: 0.6914 - val_accuracy: 0.5437\n",
            "Epoch 5/6\n",
            "89/89 [==============================] - 10s 115ms/step - loss: 0.6922 - accuracy: 0.5236 - val_loss: 0.6912 - val_accuracy: 0.5437\n",
            "Epoch 6/6\n",
            "89/89 [==============================] - 10s 113ms/step - loss: 0.6922 - accuracy: 0.5215 - val_loss: 0.6911 - val_accuracy: 0.5437\n",
            "14/14 [==============================] - 0s 26ms/step - loss: 0.6920 - accuracy: 0.5293\n"
          ]
        },
        {
          "metadata": {
            "tags": null
          },
          "name": "stderr",
          "output_type": "stream",
          "text": [
            "[I 2024-03-24 00:36:03,922] Trial 57 finished with value: 0.5292792916297913 and parameters: {'units': 40}. Best is trial 20 with value: 0.5495495200157166.\n"
          ]
        },
        {
          "metadata": {
            "tags": null
          },
          "name": "stdout",
          "output_type": "stream",
          "text": [
            "Epoch 1/6\n",
            "89/89 [==============================] - 14s 123ms/step - loss: 0.7012 - accuracy: 0.5215 - val_loss: 0.6902 - val_accuracy: 0.5408\n",
            "Epoch 2/6\n",
            "89/89 [==============================] - 11s 118ms/step - loss: 0.6985 - accuracy: 0.5180 - val_loss: 0.6895 - val_accuracy: 0.5352\n",
            "Epoch 3/6\n",
            "89/89 [==============================] - 11s 123ms/step - loss: 0.6971 - accuracy: 0.5152 - val_loss: 0.6892 - val_accuracy: 0.5296\n",
            "Epoch 4/6\n",
            "89/89 [==============================] - 11s 123ms/step - loss: 0.6961 - accuracy: 0.5130 - val_loss: 0.6891 - val_accuracy: 0.5634\n",
            "Epoch 5/6\n",
            "89/89 [==============================] - 11s 123ms/step - loss: 0.6954 - accuracy: 0.5116 - val_loss: 0.6892 - val_accuracy: 0.5606\n",
            "Epoch 6/6\n",
            "89/89 [==============================] - 11s 124ms/step - loss: 0.6950 - accuracy: 0.5123 - val_loss: 0.6893 - val_accuracy: 0.5437\n",
            "14/14 [==============================] - 0s 27ms/step - loss: 0.6947 - accuracy: 0.5180\n"
          ]
        },
        {
          "metadata": {
            "tags": null
          },
          "name": "stderr",
          "output_type": "stream",
          "text": [
            "[I 2024-03-24 00:37:29,690] Trial 58 finished with value: 0.5180180072784424 and parameters: {'units': 45}. Best is trial 20 with value: 0.5495495200157166.\n"
          ]
        },
        {
          "metadata": {
            "tags": null
          },
          "name": "stdout",
          "output_type": "stream",
          "text": [
            "Epoch 1/6\n",
            "89/89 [==============================] - 16s 133ms/step - loss: 0.6935 - accuracy: 0.4996 - val_loss: 0.6944 - val_accuracy: 0.4873\n",
            "Epoch 2/6\n",
            "89/89 [==============================] - 12s 131ms/step - loss: 0.6930 - accuracy: 0.5116 - val_loss: 0.6933 - val_accuracy: 0.4930\n",
            "Epoch 3/6\n",
            "89/89 [==============================] - 11s 122ms/step - loss: 0.6927 - accuracy: 0.5173 - val_loss: 0.6927 - val_accuracy: 0.4901\n",
            "Epoch 4/6\n",
            "89/89 [==============================] - 11s 129ms/step - loss: 0.6925 - accuracy: 0.5271 - val_loss: 0.6923 - val_accuracy: 0.5042\n",
            "Epoch 5/6\n",
            "89/89 [==============================] - 12s 130ms/step - loss: 0.6924 - accuracy: 0.5278 - val_loss: 0.6919 - val_accuracy: 0.5155\n",
            "Epoch 6/6\n",
            "89/89 [==============================] - 12s 131ms/step - loss: 0.6923 - accuracy: 0.5180 - val_loss: 0.6917 - val_accuracy: 0.5352\n",
            "14/14 [==============================] - 0s 30ms/step - loss: 0.6922 - accuracy: 0.5135\n"
          ]
        },
        {
          "metadata": {
            "tags": null
          },
          "name": "stderr",
          "output_type": "stream",
          "text": [
            "[I 2024-03-24 00:38:43,907] Trial 59 finished with value: 0.5135135054588318 and parameters: {'units': 50}. Best is trial 20 with value: 0.5495495200157166.\n"
          ]
        },
        {
          "metadata": {
            "tags": null
          },
          "name": "stdout",
          "output_type": "stream",
          "text": [
            "Epoch 1/6\n",
            "89/89 [==============================] - 15s 136ms/step - loss: 0.6925 - accuracy: 0.5215 - val_loss: 0.6910 - val_accuracy: 0.5437\n",
            "Epoch 2/6\n",
            "89/89 [==============================] - 12s 132ms/step - loss: 0.6925 - accuracy: 0.5215 - val_loss: 0.6910 - val_accuracy: 0.5437\n",
            "Epoch 3/6\n",
            "89/89 [==============================] - 12s 132ms/step - loss: 0.6925 - accuracy: 0.5215 - val_loss: 0.6910 - val_accuracy: 0.5437\n",
            "Epoch 4/6\n",
            "89/89 [==============================] - 12s 131ms/step - loss: 0.6924 - accuracy: 0.5215 - val_loss: 0.6910 - val_accuracy: 0.5437\n",
            "Epoch 5/6\n",
            "89/89 [==============================] - 12s 132ms/step - loss: 0.6924 - accuracy: 0.5215 - val_loss: 0.6910 - val_accuracy: 0.5437\n",
            "Epoch 6/6\n",
            "89/89 [==============================] - 12s 132ms/step - loss: 0.6924 - accuracy: 0.5215 - val_loss: 0.6910 - val_accuracy: 0.5437\n",
            "14/14 [==============================] - 0s 31ms/step - loss: 0.6925 - accuracy: 0.5270\n"
          ]
        },
        {
          "metadata": {
            "tags": null
          },
          "name": "stderr",
          "output_type": "stream",
          "text": [
            "[I 2024-03-24 00:40:09,147] Trial 60 finished with value: 0.5270270109176636 and parameters: {'units': 53}. Best is trial 20 with value: 0.5495495200157166.\n"
          ]
        },
        {
          "metadata": {
            "tags": null
          },
          "name": "stdout",
          "output_type": "stream",
          "text": [
            "Epoch 1/6\n",
            "89/89 [==============================] - 15s 141ms/step - loss: 0.6932 - accuracy: 0.5229 - val_loss: 0.6909 - val_accuracy: 0.5324\n",
            "Epoch 2/6\n",
            "89/89 [==============================] - 12s 136ms/step - loss: 0.6931 - accuracy: 0.5236 - val_loss: 0.6908 - val_accuracy: 0.5380\n",
            "Epoch 3/6\n",
            "89/89 [==============================] - 12s 135ms/step - loss: 0.6931 - accuracy: 0.5222 - val_loss: 0.6908 - val_accuracy: 0.5465\n",
            "Epoch 4/6\n",
            "89/89 [==============================] - 12s 137ms/step - loss: 0.6930 - accuracy: 0.5222 - val_loss: 0.6908 - val_accuracy: 0.5437\n",
            "Epoch 5/6\n",
            "89/89 [==============================] - 12s 137ms/step - loss: 0.6930 - accuracy: 0.5222 - val_loss: 0.6908 - val_accuracy: 0.5437\n",
            "Epoch 6/6\n",
            "89/89 [==============================] - 12s 137ms/step - loss: 0.6929 - accuracy: 0.5215 - val_loss: 0.6908 - val_accuracy: 0.5437\n",
            "14/14 [==============================] - 1s 36ms/step - loss: 0.6925 - accuracy: 0.5270\n"
          ]
        },
        {
          "metadata": {
            "tags": null
          },
          "name": "stderr",
          "output_type": "stream",
          "text": [
            "[I 2024-03-24 00:41:34,286] Trial 61 finished with value: 0.5270270109176636 and parameters: {'units': 62}. Best is trial 20 with value: 0.5495495200157166.\n"
          ]
        },
        {
          "metadata": {
            "tags": null
          },
          "name": "stdout",
          "output_type": "stream",
          "text": [
            "Epoch 1/6\n",
            "89/89 [==============================] - 15s 144ms/step - loss: 0.7011 - accuracy: 0.5208 - val_loss: 0.6904 - val_accuracy: 0.5352\n",
            "Epoch 2/6\n",
            "89/89 [==============================] - 12s 137ms/step - loss: 0.6989 - accuracy: 0.5046 - val_loss: 0.6898 - val_accuracy: 0.5493\n",
            "Epoch 3/6\n",
            "89/89 [==============================] - 12s 137ms/step - loss: 0.6975 - accuracy: 0.5018 - val_loss: 0.6895 - val_accuracy: 0.5352\n",
            "Epoch 4/6\n",
            "89/89 [==============================] - 12s 139ms/step - loss: 0.6966 - accuracy: 0.5039 - val_loss: 0.6894 - val_accuracy: 0.5521\n",
            "Epoch 5/6\n",
            "89/89 [==============================] - 12s 138ms/step - loss: 0.6960 - accuracy: 0.5095 - val_loss: 0.6894 - val_accuracy: 0.5634\n",
            "Epoch 6/6\n",
            "89/89 [==============================] - 12s 139ms/step - loss: 0.6955 - accuracy: 0.5081 - val_loss: 0.6895 - val_accuracy: 0.5634\n",
            "14/14 [==============================] - 1s 59ms/step - loss: 0.6946 - accuracy: 0.5180\n"
          ]
        },
        {
          "metadata": {
            "tags": null
          },
          "name": "stderr",
          "output_type": "stream",
          "text": [
            "[I 2024-03-24 00:42:59,994] Trial 62 finished with value: 0.5180180072784424 and parameters: {'units': 63}. Best is trial 20 with value: 0.5495495200157166.\n"
          ]
        },
        {
          "metadata": {
            "tags": null
          },
          "name": "stdout",
          "output_type": "stream",
          "text": [
            "Epoch 1/6\n",
            "89/89 [==============================] - 15s 130ms/step - loss: 0.6947 - accuracy: 0.4898 - val_loss: 0.6974 - val_accuracy: 0.4479\n",
            "Epoch 2/6\n",
            "89/89 [==============================] - 12s 130ms/step - loss: 0.6940 - accuracy: 0.5018 - val_loss: 0.6962 - val_accuracy: 0.4789\n",
            "Epoch 3/6\n",
            "89/89 [==============================] - 11s 124ms/step - loss: 0.6936 - accuracy: 0.4933 - val_loss: 0.6954 - val_accuracy: 0.4704\n",
            "Epoch 4/6\n",
            "89/89 [==============================] - 10s 115ms/step - loss: 0.6933 - accuracy: 0.5011 - val_loss: 0.6948 - val_accuracy: 0.4704\n",
            "Epoch 5/6\n",
            "89/89 [==============================] - 11s 123ms/step - loss: 0.6931 - accuracy: 0.5074 - val_loss: 0.6943 - val_accuracy: 0.4676\n",
            "Epoch 6/6\n",
            "89/89 [==============================] - 11s 125ms/step - loss: 0.6929 - accuracy: 0.5152 - val_loss: 0.6939 - val_accuracy: 0.4676\n",
            "14/14 [==============================] - 0s 28ms/step - loss: 0.6930 - accuracy: 0.5158\n"
          ]
        },
        {
          "metadata": {
            "tags": null
          },
          "name": "stderr",
          "output_type": "stream",
          "text": [
            "[I 2024-03-24 00:44:10,925] Trial 63 finished with value: 0.5157657861709595 and parameters: {'units': 45}. Best is trial 20 with value: 0.5495495200157166.\n"
          ]
        },
        {
          "metadata": {
            "tags": null
          },
          "name": "stdout",
          "output_type": "stream",
          "text": [
            "Epoch 1/6\n",
            "89/89 [==============================] - 14s 128ms/step - loss: 0.6928 - accuracy: 0.5215 - val_loss: 0.6898 - val_accuracy: 0.5437\n",
            "Epoch 2/6\n",
            "89/89 [==============================] - 11s 123ms/step - loss: 0.6927 - accuracy: 0.5215 - val_loss: 0.6900 - val_accuracy: 0.5437\n",
            "Epoch 3/6\n",
            "89/89 [==============================] - 11s 122ms/step - loss: 0.6926 - accuracy: 0.5215 - val_loss: 0.6900 - val_accuracy: 0.5437\n",
            "Epoch 4/6\n",
            "89/89 [==============================] - 11s 122ms/step - loss: 0.6926 - accuracy: 0.5215 - val_loss: 0.6901 - val_accuracy: 0.5437\n",
            "Epoch 5/6\n",
            "89/89 [==============================] - 11s 123ms/step - loss: 0.6925 - accuracy: 0.5215 - val_loss: 0.6902 - val_accuracy: 0.5437\n",
            "Epoch 6/6\n",
            "89/89 [==============================] - 11s 125ms/step - loss: 0.6925 - accuracy: 0.5215 - val_loss: 0.6902 - val_accuracy: 0.5437\n",
            "14/14 [==============================] - 0s 29ms/step - loss: 0.6928 - accuracy: 0.5270\n"
          ]
        },
        {
          "metadata": {
            "tags": null
          },
          "name": "stderr",
          "output_type": "stream",
          "text": [
            "[I 2024-03-24 00:45:20,511] Trial 64 finished with value: 0.5270270109176636 and parameters: {'units': 48}. Best is trial 20 with value: 0.5495495200157166.\n"
          ]
        },
        {
          "metadata": {
            "tags": null
          },
          "name": "stdout",
          "output_type": "stream",
          "text": [
            "Epoch 1/6\n",
            "89/89 [==============================] - 13s 119ms/step - loss: 0.7050 - accuracy: 0.4785 - val_loss: 0.7128 - val_accuracy: 0.4563\n",
            "Epoch 2/6\n",
            "89/89 [==============================] - 10s 111ms/step - loss: 0.7004 - accuracy: 0.4757 - val_loss: 0.7071 - val_accuracy: 0.4507\n",
            "Epoch 3/6\n",
            "89/89 [==============================] - 9s 106ms/step - loss: 0.6978 - accuracy: 0.4870 - val_loss: 0.7037 - val_accuracy: 0.4423\n",
            "Epoch 4/6\n",
            "89/89 [==============================] - 10s 113ms/step - loss: 0.6962 - accuracy: 0.4933 - val_loss: 0.7011 - val_accuracy: 0.4986\n",
            "Epoch 5/6\n",
            "89/89 [==============================] - 10s 114ms/step - loss: 0.6951 - accuracy: 0.4834 - val_loss: 0.6993 - val_accuracy: 0.4761\n",
            "Epoch 6/6\n",
            "89/89 [==============================] - 10s 113ms/step - loss: 0.6944 - accuracy: 0.4870 - val_loss: 0.6979 - val_accuracy: 0.4845\n",
            "14/14 [==============================] - 0s 24ms/step - loss: 0.6935 - accuracy: 0.5090\n"
          ]
        },
        {
          "metadata": {
            "tags": null
          },
          "name": "stderr",
          "output_type": "stream",
          "text": [
            "[I 2024-03-24 00:46:23,789] Trial 65 finished with value: 0.5090090036392212 and parameters: {'units': 36}. Best is trial 20 with value: 0.5495495200157166.\n"
          ]
        },
        {
          "metadata": {
            "tags": null
          },
          "name": "stdout",
          "output_type": "stream",
          "text": [
            "Epoch 1/6\n",
            "89/89 [==============================] - 14s 137ms/step - loss: 0.7002 - accuracy: 0.5173 - val_loss: 0.6907 - val_accuracy: 0.5493\n",
            "Epoch 2/6\n",
            "89/89 [==============================] - 11s 129ms/step - loss: 0.6987 - accuracy: 0.5130 - val_loss: 0.6902 - val_accuracy: 0.5465\n",
            "Epoch 3/6\n",
            "89/89 [==============================] - 11s 129ms/step - loss: 0.6977 - accuracy: 0.5123 - val_loss: 0.6900 - val_accuracy: 0.5437\n",
            "Epoch 4/6\n",
            "89/89 [==============================] - 11s 129ms/step - loss: 0.6970 - accuracy: 0.5116 - val_loss: 0.6899 - val_accuracy: 0.5521\n",
            "Epoch 5/6\n",
            "89/89 [==============================] - 11s 127ms/step - loss: 0.6964 - accuracy: 0.5116 - val_loss: 0.6899 - val_accuracy: 0.5521\n",
            "Epoch 6/6\n",
            "89/89 [==============================] - 11s 121ms/step - loss: 0.6959 - accuracy: 0.5102 - val_loss: 0.6898 - val_accuracy: 0.5521\n",
            "14/14 [==============================] - 1s 44ms/step - loss: 0.6954 - accuracy: 0.5248\n"
          ]
        },
        {
          "metadata": {
            "tags": null
          },
          "name": "stderr",
          "output_type": "stream",
          "text": [
            "[I 2024-03-24 00:47:35,926] Trial 66 finished with value: 0.5247747898101807 and parameters: {'units': 50}. Best is trial 20 with value: 0.5495495200157166.\n"
          ]
        },
        {
          "metadata": {
            "tags": null
          },
          "name": "stdout",
          "output_type": "stream",
          "text": [
            "Epoch 1/6\n",
            "89/89 [==============================] - 12s 96ms/step - loss: 0.6960 - accuracy: 0.4806 - val_loss: 0.6997 - val_accuracy: 0.4676\n",
            "Epoch 2/6\n",
            "89/89 [==============================] - 9s 95ms/step - loss: 0.6952 - accuracy: 0.4954 - val_loss: 0.6986 - val_accuracy: 0.4423\n",
            "Epoch 3/6\n",
            "89/89 [==============================] - 9s 98ms/step - loss: 0.6947 - accuracy: 0.5004 - val_loss: 0.6978 - val_accuracy: 0.4225\n",
            "Epoch 4/6\n",
            "89/89 [==============================] - 8s 92ms/step - loss: 0.6943 - accuracy: 0.4933 - val_loss: 0.6972 - val_accuracy: 0.4451\n",
            "Epoch 5/6\n",
            "89/89 [==============================] - 9s 97ms/step - loss: 0.6940 - accuracy: 0.4848 - val_loss: 0.6967 - val_accuracy: 0.4958\n",
            "Epoch 6/6\n",
            "89/89 [==============================] - 9s 101ms/step - loss: 0.6938 - accuracy: 0.4940 - val_loss: 0.6963 - val_accuracy: 0.4845\n",
            "14/14 [==============================] - 0s 30ms/step - loss: 0.6939 - accuracy: 0.5000\n"
          ]
        },
        {
          "metadata": {
            "tags": null
          },
          "name": "stderr",
          "output_type": "stream",
          "text": [
            "[I 2024-03-24 00:49:02,423] Trial 67 finished with value: 0.5 and parameters: {'units': 17}. Best is trial 20 with value: 0.5495495200157166.\n"
          ]
        },
        {
          "metadata": {
            "tags": null
          },
          "name": "stdout",
          "output_type": "stream",
          "text": [
            "Epoch 1/6\n",
            "89/89 [==============================] - 14s 125ms/step - loss: 0.6928 - accuracy: 0.5229 - val_loss: 0.6911 - val_accuracy: 0.5437\n",
            "Epoch 2/6\n",
            "89/89 [==============================] - 10s 110ms/step - loss: 0.6928 - accuracy: 0.5215 - val_loss: 0.6911 - val_accuracy: 0.5408\n",
            "Epoch 3/6\n",
            "89/89 [==============================] - 11s 118ms/step - loss: 0.6927 - accuracy: 0.5229 - val_loss: 0.6911 - val_accuracy: 0.5437\n",
            "Epoch 4/6\n",
            "89/89 [==============================] - 11s 119ms/step - loss: 0.6927 - accuracy: 0.5215 - val_loss: 0.6910 - val_accuracy: 0.5437\n",
            "Epoch 5/6\n",
            "89/89 [==============================] - 11s 120ms/step - loss: 0.6926 - accuracy: 0.5215 - val_loss: 0.6910 - val_accuracy: 0.5437\n",
            "Epoch 6/6\n",
            "89/89 [==============================] - 11s 121ms/step - loss: 0.6926 - accuracy: 0.5215 - val_loss: 0.6910 - val_accuracy: 0.5437\n",
            "14/14 [==============================] - 0s 26ms/step - loss: 0.6921 - accuracy: 0.5270\n"
          ]
        },
        {
          "metadata": {
            "tags": null
          },
          "name": "stderr",
          "output_type": "stream",
          "text": [
            "[I 2024-03-24 00:50:27,964] Trial 68 finished with value: 0.5270270109176636 and parameters: {'units': 41}. Best is trial 20 with value: 0.5495495200157166.\n"
          ]
        },
        {
          "metadata": {
            "tags": null
          },
          "name": "stdout",
          "output_type": "stream",
          "text": [
            "Epoch 1/6\n",
            "89/89 [==============================] - 15s 141ms/step - loss: 0.6960 - accuracy: 0.5004 - val_loss: 0.7002 - val_accuracy: 0.4479\n",
            "Epoch 2/6\n",
            "89/89 [==============================] - 12s 132ms/step - loss: 0.6944 - accuracy: 0.5046 - val_loss: 0.6978 - val_accuracy: 0.4845\n",
            "Epoch 3/6\n",
            "89/89 [==============================] - 12s 134ms/step - loss: 0.6935 - accuracy: 0.5060 - val_loss: 0.6963 - val_accuracy: 0.4930\n",
            "Epoch 4/6\n",
            "89/89 [==============================] - 12s 133ms/step - loss: 0.6930 - accuracy: 0.5088 - val_loss: 0.6952 - val_accuracy: 0.4873\n",
            "Epoch 5/6\n",
            "89/89 [==============================] - 12s 129ms/step - loss: 0.6927 - accuracy: 0.5208 - val_loss: 0.6944 - val_accuracy: 0.4845\n",
            "Epoch 6/6\n",
            "89/89 [==============================] - 12s 132ms/step - loss: 0.6924 - accuracy: 0.5229 - val_loss: 0.6938 - val_accuracy: 0.4704\n",
            "14/14 [==============================] - 0s 33ms/step - loss: 0.6921 - accuracy: 0.5225\n"
          ]
        },
        {
          "metadata": {
            "tags": null
          },
          "name": "stderr",
          "output_type": "stream",
          "text": [
            "[I 2024-03-24 00:51:53,493] Trial 69 finished with value: 0.522522509098053 and parameters: {'units': 59}. Best is trial 20 with value: 0.5495495200157166.\n"
          ]
        },
        {
          "metadata": {
            "tags": null
          },
          "name": "stdout",
          "output_type": "stream",
          "text": [
            "Epoch 1/6\n",
            "89/89 [==============================] - 16s 144ms/step - loss: 0.6941 - accuracy: 0.4848 - val_loss: 0.6961 - val_accuracy: 0.4761\n",
            "Epoch 2/6\n",
            "89/89 [==============================] - 12s 140ms/step - loss: 0.6934 - accuracy: 0.4975 - val_loss: 0.6950 - val_accuracy: 0.4761\n",
            "Epoch 3/6\n",
            "89/89 [==============================] - 12s 133ms/step - loss: 0.6931 - accuracy: 0.5194 - val_loss: 0.6943 - val_accuracy: 0.4873\n",
            "Epoch 4/6\n",
            "89/89 [==============================] - 12s 137ms/step - loss: 0.6928 - accuracy: 0.5194 - val_loss: 0.6938 - val_accuracy: 0.4901\n",
            "Epoch 5/6\n",
            "89/89 [==============================] - 12s 134ms/step - loss: 0.6927 - accuracy: 0.5222 - val_loss: 0.6934 - val_accuracy: 0.4958\n",
            "Epoch 6/6\n",
            "89/89 [==============================] - 13s 140ms/step - loss: 0.6926 - accuracy: 0.5201 - val_loss: 0.6931 - val_accuracy: 0.4986\n",
            "14/14 [==============================] - 1s 35ms/step - loss: 0.6924 - accuracy: 0.5225\n"
          ]
        },
        {
          "metadata": {
            "tags": null
          },
          "name": "stderr",
          "output_type": "stream",
          "text": [
            "[I 2024-03-24 00:53:19,269] Trial 70 finished with value: 0.522522509098053 and parameters: {'units': 64}. Best is trial 20 with value: 0.5495495200157166.\n"
          ]
        },
        {
          "metadata": {
            "tags": null
          },
          "name": "stdout",
          "output_type": "stream",
          "text": [
            "Epoch 1/6\n",
            "89/89 [==============================] - 17s 147ms/step - loss: 0.6941 - accuracy: 0.5215 - val_loss: 0.6888 - val_accuracy: 0.5437\n",
            "Epoch 2/6\n",
            "89/89 [==============================] - 12s 134ms/step - loss: 0.6938 - accuracy: 0.5215 - val_loss: 0.6890 - val_accuracy: 0.5437\n",
            "Epoch 3/6\n",
            "89/89 [==============================] - 11s 128ms/step - loss: 0.6935 - accuracy: 0.5215 - val_loss: 0.6891 - val_accuracy: 0.5437\n",
            "Epoch 4/6\n",
            "89/89 [==============================] - 12s 130ms/step - loss: 0.6934 - accuracy: 0.5215 - val_loss: 0.6893 - val_accuracy: 0.5437\n",
            "Epoch 5/6\n",
            "89/89 [==============================] - 12s 134ms/step - loss: 0.6933 - accuracy: 0.5215 - val_loss: 0.6894 - val_accuracy: 0.5437\n",
            "Epoch 6/6\n",
            "89/89 [==============================] - 12s 136ms/step - loss: 0.6931 - accuracy: 0.5215 - val_loss: 0.6895 - val_accuracy: 0.5437\n",
            "14/14 [==============================] - 1s 35ms/step - loss: 0.6931 - accuracy: 0.5270\n"
          ]
        },
        {
          "metadata": {
            "tags": null
          },
          "name": "stderr",
          "output_type": "stream",
          "text": [
            "[I 2024-03-24 00:54:45,922] Trial 71 finished with value: 0.5270270109176636 and parameters: {'units': 57}. Best is trial 20 with value: 0.5495495200157166.\n"
          ]
        },
        {
          "metadata": {
            "tags": null
          },
          "name": "stdout",
          "output_type": "stream",
          "text": [
            "Epoch 1/6\n",
            "89/89 [==============================] - 16s 149ms/step - loss: 0.6934 - accuracy: 0.4989 - val_loss: 0.6952 - val_accuracy: 0.4676\n",
            "Epoch 2/6\n",
            "89/89 [==============================] - 12s 139ms/step - loss: 0.6930 - accuracy: 0.5018 - val_loss: 0.6943 - val_accuracy: 0.4789\n",
            "Epoch 3/6\n",
            "89/89 [==============================] - 12s 137ms/step - loss: 0.6928 - accuracy: 0.5201 - val_loss: 0.6938 - val_accuracy: 0.4845\n",
            "Epoch 4/6\n",
            "89/89 [==============================] - 12s 131ms/step - loss: 0.6926 - accuracy: 0.5264 - val_loss: 0.6933 - val_accuracy: 0.4901\n",
            "Epoch 5/6\n",
            "89/89 [==============================] - 12s 134ms/step - loss: 0.6925 - accuracy: 0.5243 - val_loss: 0.6930 - val_accuracy: 0.4901\n",
            "Epoch 6/6\n",
            "89/89 [==============================] - 12s 136ms/step - loss: 0.6924 - accuracy: 0.5236 - val_loss: 0.6927 - val_accuracy: 0.4789\n",
            "14/14 [==============================] - 1s 35ms/step - loss: 0.6923 - accuracy: 0.5180\n"
          ]
        },
        {
          "metadata": {
            "tags": null
          },
          "name": "stderr",
          "output_type": "stream",
          "text": [
            "[I 2024-03-24 00:56:03,460] Trial 72 finished with value: 0.5180180072784424 and parameters: {'units': 62}. Best is trial 20 with value: 0.5495495200157166.\n"
          ]
        },
        {
          "metadata": {
            "tags": null
          },
          "name": "stdout",
          "output_type": "stream",
          "text": [
            "Epoch 1/6\n",
            "89/89 [==============================] - 15s 139ms/step - loss: 0.6968 - accuracy: 0.4947 - val_loss: 0.7016 - val_accuracy: 0.4648\n",
            "Epoch 2/6\n",
            "89/89 [==============================] - 12s 135ms/step - loss: 0.6953 - accuracy: 0.4919 - val_loss: 0.6993 - val_accuracy: 0.4873\n",
            "Epoch 3/6\n",
            "89/89 [==============================] - 12s 135ms/step - loss: 0.6943 - accuracy: 0.4968 - val_loss: 0.6977 - val_accuracy: 0.4958\n",
            "Epoch 4/6\n",
            "89/89 [==============================] - 12s 134ms/step - loss: 0.6937 - accuracy: 0.5067 - val_loss: 0.6965 - val_accuracy: 0.4873\n",
            "Epoch 5/6\n",
            "89/89 [==============================] - 12s 133ms/step - loss: 0.6933 - accuracy: 0.5081 - val_loss: 0.6956 - val_accuracy: 0.4873\n",
            "Epoch 6/6\n",
            "89/89 [==============================] - 11s 126ms/step - loss: 0.6930 - accuracy: 0.5123 - val_loss: 0.6949 - val_accuracy: 0.4789\n",
            "14/14 [==============================] - 1s 47ms/step - loss: 0.6926 - accuracy: 0.5203\n"
          ]
        },
        {
          "metadata": {
            "tags": null
          },
          "name": "stderr",
          "output_type": "stream",
          "text": [
            "[I 2024-03-24 00:57:19,714] Trial 73 finished with value: 0.5202702879905701 and parameters: {'units': 55}. Best is trial 20 with value: 0.5495495200157166.\n"
          ]
        },
        {
          "metadata": {
            "tags": null
          },
          "name": "stdout",
          "output_type": "stream",
          "text": [
            "Epoch 1/6\n",
            "89/89 [==============================] - 15s 140ms/step - loss: 0.6941 - accuracy: 0.5060 - val_loss: 0.6959 - val_accuracy: 0.4789\n",
            "Epoch 2/6\n",
            "89/89 [==============================] - 12s 135ms/step - loss: 0.6933 - accuracy: 0.4989 - val_loss: 0.6945 - val_accuracy: 0.4789\n",
            "Epoch 3/6\n",
            "89/89 [==============================] - 12s 135ms/step - loss: 0.6929 - accuracy: 0.5152 - val_loss: 0.6936 - val_accuracy: 0.4845\n",
            "Epoch 4/6\n",
            "89/89 [==============================] - 12s 139ms/step - loss: 0.6927 - accuracy: 0.5285 - val_loss: 0.6930 - val_accuracy: 0.4845\n",
            "Epoch 5/6\n",
            "89/89 [==============================] - 12s 131ms/step - loss: 0.6925 - accuracy: 0.5285 - val_loss: 0.6925 - val_accuracy: 0.4986\n",
            "Epoch 6/6\n",
            "89/89 [==============================] - 12s 133ms/step - loss: 0.6924 - accuracy: 0.5292 - val_loss: 0.6922 - val_accuracy: 0.5465\n",
            "14/14 [==============================] - 1s 53ms/step - loss: 0.6925 - accuracy: 0.5315\n"
          ]
        },
        {
          "metadata": {
            "tags": null
          },
          "name": "stderr",
          "output_type": "stream",
          "text": [
            "[I 2024-03-24 00:58:35,735] Trial 74 finished with value: 0.5315315127372742 and parameters: {'units': 59}. Best is trial 20 with value: 0.5495495200157166.\n"
          ]
        },
        {
          "metadata": {
            "tags": null
          },
          "name": "stdout",
          "output_type": "stream",
          "text": [
            "Epoch 1/6\n",
            "89/89 [==============================] - 14s 133ms/step - loss: 0.6937 - accuracy: 0.5130 - val_loss: 0.6902 - val_accuracy: 0.5380\n",
            "Epoch 2/6\n",
            "89/89 [==============================] - 11s 127ms/step - loss: 0.6936 - accuracy: 0.5123 - val_loss: 0.6903 - val_accuracy: 0.5408\n",
            "Epoch 3/6\n",
            "89/89 [==============================] - 12s 134ms/step - loss: 0.6934 - accuracy: 0.5208 - val_loss: 0.6904 - val_accuracy: 0.5437\n",
            "Epoch 4/6\n",
            "89/89 [==============================] - 11s 128ms/step - loss: 0.6933 - accuracy: 0.5180 - val_loss: 0.6905 - val_accuracy: 0.5493\n",
            "Epoch 5/6\n",
            "89/89 [==============================] - 11s 121ms/step - loss: 0.6933 - accuracy: 0.5144 - val_loss: 0.6906 - val_accuracy: 0.5408\n",
            "Epoch 6/6\n",
            "89/89 [==============================] - 12s 130ms/step - loss: 0.6932 - accuracy: 0.5208 - val_loss: 0.6906 - val_accuracy: 0.5437\n",
            "14/14 [==============================] - 1s 48ms/step - loss: 0.6928 - accuracy: 0.5180\n"
          ]
        },
        {
          "metadata": {
            "tags": null
          },
          "name": "stderr",
          "output_type": "stream",
          "text": [
            "[I 2024-03-24 01:00:02,417] Trial 75 finished with value: 0.5180180072784424 and parameters: {'units': 52}. Best is trial 20 with value: 0.5495495200157166.\n"
          ]
        },
        {
          "metadata": {
            "tags": null
          },
          "name": "stdout",
          "output_type": "stream",
          "text": [
            "Epoch 1/6\n",
            "89/89 [==============================] - 13s 116ms/step - loss: 0.6935 - accuracy: 0.5032 - val_loss: 0.6917 - val_accuracy: 0.5268\n",
            "Epoch 2/6\n",
            "89/89 [==============================] - 9s 102ms/step - loss: 0.6933 - accuracy: 0.5046 - val_loss: 0.6915 - val_accuracy: 0.5183\n",
            "Epoch 3/6\n",
            "89/89 [==============================] - 10s 111ms/step - loss: 0.6932 - accuracy: 0.5194 - val_loss: 0.6915 - val_accuracy: 0.5070\n",
            "Epoch 4/6\n",
            "89/89 [==============================] - 10s 111ms/step - loss: 0.6932 - accuracy: 0.5208 - val_loss: 0.6914 - val_accuracy: 0.5296\n",
            "Epoch 5/6\n",
            "89/89 [==============================] - 10s 112ms/step - loss: 0.6931 - accuracy: 0.5250 - val_loss: 0.6914 - val_accuracy: 0.5380\n",
            "Epoch 6/6\n",
            "89/89 [==============================] - 9s 103ms/step - loss: 0.6930 - accuracy: 0.5264 - val_loss: 0.6913 - val_accuracy: 0.5296\n",
            "14/14 [==============================] - 1s 40ms/step - loss: 0.6924 - accuracy: 0.5293\n"
          ]
        },
        {
          "metadata": {
            "tags": null
          },
          "name": "stderr",
          "output_type": "stream",
          "text": [
            "[I 2024-03-24 01:01:27,609] Trial 76 finished with value: 0.5292792916297913 and parameters: {'units': 34}. Best is trial 20 with value: 0.5495495200157166.\n"
          ]
        },
        {
          "metadata": {
            "tags": null
          },
          "name": "stdout",
          "output_type": "stream",
          "text": [
            "Epoch 1/6\n",
            "89/89 [==============================] - 13s 125ms/step - loss: 0.7062 - accuracy: 0.4792 - val_loss: 0.7151 - val_accuracy: 0.4563\n",
            "Epoch 2/6\n",
            "89/89 [==============================] - 10s 110ms/step - loss: 0.7014 - accuracy: 0.4792 - val_loss: 0.7093 - val_accuracy: 0.4282\n",
            "Epoch 3/6\n",
            "89/89 [==============================] - 11s 118ms/step - loss: 0.6986 - accuracy: 0.4884 - val_loss: 0.7057 - val_accuracy: 0.4648\n",
            "Epoch 4/6\n",
            "89/89 [==============================] - 11s 121ms/step - loss: 0.6969 - accuracy: 0.4877 - val_loss: 0.7031 - val_accuracy: 0.4845\n",
            "Epoch 5/6\n",
            "89/89 [==============================] - 11s 119ms/step - loss: 0.6957 - accuracy: 0.4968 - val_loss: 0.7011 - val_accuracy: 0.4845\n",
            "Epoch 6/6\n",
            "89/89 [==============================] - 11s 121ms/step - loss: 0.6948 - accuracy: 0.4989 - val_loss: 0.6995 - val_accuracy: 0.4789\n",
            "14/14 [==============================] - 0s 27ms/step - loss: 0.6944 - accuracy: 0.5045\n"
          ]
        },
        {
          "metadata": {
            "tags": null
          },
          "name": "stderr",
          "output_type": "stream",
          "text": [
            "[I 2024-03-24 01:02:52,964] Trial 77 finished with value: 0.5045045018196106 and parameters: {'units': 43}. Best is trial 20 with value: 0.5495495200157166.\n"
          ]
        },
        {
          "metadata": {
            "tags": null
          },
          "name": "stdout",
          "output_type": "stream",
          "text": [
            "Epoch 1/6\n",
            "89/89 [==============================] - 17s 143ms/step - loss: 0.6951 - accuracy: 0.5166 - val_loss: 0.6894 - val_accuracy: 0.5324\n",
            "Epoch 2/6\n",
            "89/89 [==============================] - 12s 136ms/step - loss: 0.6948 - accuracy: 0.5180 - val_loss: 0.6894 - val_accuracy: 0.5324\n",
            "Epoch 3/6\n",
            "89/89 [==============================] - 12s 136ms/step - loss: 0.6945 - accuracy: 0.5166 - val_loss: 0.6895 - val_accuracy: 0.5296\n",
            "Epoch 4/6\n",
            "89/89 [==============================] - 13s 141ms/step - loss: 0.6943 - accuracy: 0.5187 - val_loss: 0.6896 - val_accuracy: 0.5296\n",
            "Epoch 5/6\n",
            "89/89 [==============================] - 12s 134ms/step - loss: 0.6941 - accuracy: 0.5208 - val_loss: 0.6897 - val_accuracy: 0.5296\n",
            "Epoch 6/6\n",
            "89/89 [==============================] - 12s 136ms/step - loss: 0.6940 - accuracy: 0.5180 - val_loss: 0.6897 - val_accuracy: 0.5296\n",
            "14/14 [==============================] - 1s 43ms/step - loss: 0.6939 - accuracy: 0.5068\n"
          ]
        },
        {
          "metadata": {
            "tags": null
          },
          "name": "stderr",
          "output_type": "stream",
          "text": [
            "[I 2024-03-24 01:04:11,712] Trial 78 finished with value: 0.5067567825317383 and parameters: {'units': 61}. Best is trial 20 with value: 0.5495495200157166.\n"
          ]
        },
        {
          "metadata": {
            "tags": null
          },
          "name": "stdout",
          "output_type": "stream",
          "text": [
            "Epoch 1/6\n",
            "89/89 [==============================] - 15s 142ms/step - loss: 0.6965 - accuracy: 0.4799 - val_loss: 0.7013 - val_accuracy: 0.4254\n",
            "Epoch 2/6\n",
            "89/89 [==============================] - 12s 135ms/step - loss: 0.6949 - accuracy: 0.4940 - val_loss: 0.6990 - val_accuracy: 0.4761\n",
            "Epoch 3/6\n",
            "89/89 [==============================] - 12s 136ms/step - loss: 0.6940 - accuracy: 0.4975 - val_loss: 0.6975 - val_accuracy: 0.4845\n",
            "Epoch 4/6\n",
            "89/89 [==============================] - 12s 135ms/step - loss: 0.6934 - accuracy: 0.4975 - val_loss: 0.6963 - val_accuracy: 0.4789\n",
            "Epoch 5/6\n",
            "89/89 [==============================] - 12s 137ms/step - loss: 0.6930 - accuracy: 0.5081 - val_loss: 0.6955 - val_accuracy: 0.4789\n",
            "Epoch 6/6\n",
            "89/89 [==============================] - 12s 136ms/step - loss: 0.6928 - accuracy: 0.5152 - val_loss: 0.6949 - val_accuracy: 0.4817\n",
            "14/14 [==============================] - 0s 33ms/step - loss: 0.6925 - accuracy: 0.5203\n"
          ]
        },
        {
          "metadata": {
            "tags": null
          },
          "name": "stderr",
          "output_type": "stream",
          "text": [
            "[I 2024-03-24 01:05:28,185] Trial 79 finished with value: 0.5202702879905701 and parameters: {'units': 57}. Best is trial 20 with value: 0.5495495200157166.\n"
          ]
        },
        {
          "metadata": {
            "tags": null
          },
          "name": "stdout",
          "output_type": "stream",
          "text": [
            "Epoch 1/6\n",
            "89/89 [==============================] - 13s 121ms/step - loss: 0.6933 - accuracy: 0.5032 - val_loss: 0.6942 - val_accuracy: 0.4676\n",
            "Epoch 2/6\n",
            "89/89 [==============================] - 9s 107ms/step - loss: 0.6930 - accuracy: 0.5194 - val_loss: 0.6936 - val_accuracy: 0.4873\n",
            "Epoch 3/6\n",
            "89/89 [==============================] - 10s 112ms/step - loss: 0.6929 - accuracy: 0.5130 - val_loss: 0.6932 - val_accuracy: 0.4873\n",
            "Epoch 4/6\n",
            "89/89 [==============================] - 10s 115ms/step - loss: 0.6928 - accuracy: 0.5271 - val_loss: 0.6928 - val_accuracy: 0.4901\n",
            "Epoch 5/6\n",
            "89/89 [==============================] - 10s 116ms/step - loss: 0.6927 - accuracy: 0.5201 - val_loss: 0.6926 - val_accuracy: 0.4986\n",
            "Epoch 6/6\n",
            "89/89 [==============================] - 10s 115ms/step - loss: 0.6926 - accuracy: 0.5130 - val_loss: 0.6924 - val_accuracy: 0.5183\n",
            "14/14 [==============================] - 1s 40ms/step - loss: 0.6927 - accuracy: 0.5338\n"
          ]
        },
        {
          "metadata": {
            "tags": null
          },
          "name": "stderr",
          "output_type": "stream",
          "text": [
            "[I 2024-03-24 01:06:53,368] Trial 80 finished with value: 0.5337837934494019 and parameters: {'units': 38}. Best is trial 20 with value: 0.5495495200157166.\n"
          ]
        },
        {
          "metadata": {
            "tags": null
          },
          "name": "stdout",
          "output_type": "stream",
          "text": [
            "Epoch 1/6\n",
            "89/89 [==============================] - 12s 113ms/step - loss: 0.6967 - accuracy: 0.4877 - val_loss: 0.7016 - val_accuracy: 0.4620\n",
            "Epoch 2/6\n",
            "89/89 [==============================] - 9s 99ms/step - loss: 0.6954 - accuracy: 0.4877 - val_loss: 0.6996 - val_accuracy: 0.4451\n",
            "Epoch 3/6\n",
            "89/89 [==============================] - 10s 108ms/step - loss: 0.6945 - accuracy: 0.4884 - val_loss: 0.6982 - val_accuracy: 0.4620\n",
            "Epoch 4/6\n",
            "89/89 [==============================] - 10s 109ms/step - loss: 0.6940 - accuracy: 0.4954 - val_loss: 0.6972 - val_accuracy: 0.4789\n",
            "Epoch 5/6\n",
            "89/89 [==============================] - 9s 100ms/step - loss: 0.6936 - accuracy: 0.5004 - val_loss: 0.6964 - val_accuracy: 0.4732\n",
            "Epoch 6/6\n",
            "89/89 [==============================] - 9s 103ms/step - loss: 0.6933 - accuracy: 0.5074 - val_loss: 0.6957 - val_accuracy: 0.4732\n",
            "14/14 [==============================] - 1s 38ms/step - loss: 0.6932 - accuracy: 0.5180\n"
          ]
        },
        {
          "metadata": {
            "tags": null
          },
          "name": "stderr",
          "output_type": "stream",
          "text": [
            "[I 2024-03-24 01:08:18,852] Trial 81 finished with value: 0.5180180072784424 and parameters: {'units': 30}. Best is trial 20 with value: 0.5495495200157166.\n"
          ]
        },
        {
          "metadata": {
            "tags": null
          },
          "name": "stdout",
          "output_type": "stream",
          "text": [
            "Epoch 1/6\n",
            "89/89 [==============================] - 15s 123ms/step - loss: 0.6941 - accuracy: 0.5215 - val_loss: 0.6885 - val_accuracy: 0.5437\n",
            "Epoch 2/6\n",
            "89/89 [==============================] - 10s 109ms/step - loss: 0.6936 - accuracy: 0.5215 - val_loss: 0.6887 - val_accuracy: 0.5437\n",
            "Epoch 3/6\n",
            "89/89 [==============================] - 10s 113ms/step - loss: 0.6933 - accuracy: 0.5215 - val_loss: 0.6889 - val_accuracy: 0.5437\n",
            "Epoch 4/6\n",
            "89/89 [==============================] - 10s 118ms/step - loss: 0.6931 - accuracy: 0.5215 - val_loss: 0.6890 - val_accuracy: 0.5437\n",
            "Epoch 5/6\n",
            "89/89 [==============================] - 10s 117ms/step - loss: 0.6929 - accuracy: 0.5215 - val_loss: 0.6892 - val_accuracy: 0.5437\n",
            "Epoch 6/6\n",
            "89/89 [==============================] - 10s 117ms/step - loss: 0.6928 - accuracy: 0.5215 - val_loss: 0.6893 - val_accuracy: 0.5437\n",
            "14/14 [==============================] - 0s 27ms/step - loss: 0.6927 - accuracy: 0.5270\n"
          ]
        },
        {
          "metadata": {
            "tags": null
          },
          "name": "stderr",
          "output_type": "stream",
          "text": [
            "[I 2024-03-24 01:09:25,524] Trial 82 finished with value: 0.5270270109176636 and parameters: {'units': 38}. Best is trial 20 with value: 0.5495495200157166.\n"
          ]
        },
        {
          "metadata": {
            "tags": null
          },
          "name": "stdout",
          "output_type": "stream",
          "text": [
            "Epoch 1/6\n",
            "89/89 [==============================] - 14s 134ms/step - loss: 0.6963 - accuracy: 0.4785 - val_loss: 0.7010 - val_accuracy: 0.4620\n",
            "Epoch 2/6\n",
            "89/89 [==============================] - 11s 127ms/step - loss: 0.6950 - accuracy: 0.4961 - val_loss: 0.6991 - val_accuracy: 0.4676\n",
            "Epoch 3/6\n",
            "89/89 [==============================] - 12s 130ms/step - loss: 0.6942 - accuracy: 0.4954 - val_loss: 0.6978 - val_accuracy: 0.4676\n",
            "Epoch 4/6\n",
            "89/89 [==============================] - 11s 125ms/step - loss: 0.6937 - accuracy: 0.5004 - val_loss: 0.6968 - val_accuracy: 0.4648\n",
            "Epoch 5/6\n",
            "89/89 [==============================] - 11s 119ms/step - loss: 0.6933 - accuracy: 0.5144 - val_loss: 0.6960 - val_accuracy: 0.4620\n",
            "Epoch 6/6\n",
            "89/89 [==============================] - 11s 126ms/step - loss: 0.6930 - accuracy: 0.5222 - val_loss: 0.6954 - val_accuracy: 0.4648\n",
            "14/14 [==============================] - 0s 30ms/step - loss: 0.6929 - accuracy: 0.5000\n"
          ]
        },
        {
          "metadata": {
            "tags": null
          },
          "name": "stderr",
          "output_type": "stream",
          "text": [
            "[I 2024-03-24 01:10:36,932] Trial 83 finished with value: 0.5 and parameters: {'units': 47}. Best is trial 20 with value: 0.5495495200157166.\n"
          ]
        },
        {
          "metadata": {
            "tags": null
          },
          "name": "stdout",
          "output_type": "stream",
          "text": [
            "Epoch 1/6\n",
            "89/89 [==============================] - 14s 126ms/step - loss: 0.6962 - accuracy: 0.5130 - val_loss: 0.6894 - val_accuracy: 0.5493\n",
            "Epoch 2/6\n",
            "89/89 [==============================] - 10s 110ms/step - loss: 0.6956 - accuracy: 0.5173 - val_loss: 0.6895 - val_accuracy: 0.5549\n",
            "Epoch 3/6\n",
            "89/89 [==============================] - 11s 120ms/step - loss: 0.6952 - accuracy: 0.5173 - val_loss: 0.6895 - val_accuracy: 0.5662\n",
            "Epoch 4/6\n",
            "89/89 [==============================] - 11s 120ms/step - loss: 0.6949 - accuracy: 0.5159 - val_loss: 0.6896 - val_accuracy: 0.5634\n",
            "Epoch 5/6\n",
            "89/89 [==============================] - 11s 121ms/step - loss: 0.6947 - accuracy: 0.5180 - val_loss: 0.6897 - val_accuracy: 0.5662\n",
            "Epoch 6/6\n",
            "89/89 [==============================] - 11s 121ms/step - loss: 0.6945 - accuracy: 0.5236 - val_loss: 0.6898 - val_accuracy: 0.5577\n",
            "14/14 [==============================] - 0s 27ms/step - loss: 0.6941 - accuracy: 0.5225\n"
          ]
        },
        {
          "metadata": {
            "tags": null
          },
          "name": "stderr",
          "output_type": "stream",
          "text": [
            "[I 2024-03-24 01:12:02,736] Trial 84 finished with value: 0.522522509098053 and parameters: {'units': 41}. Best is trial 20 with value: 0.5495495200157166.\n"
          ]
        },
        {
          "metadata": {
            "tags": null
          },
          "name": "stdout",
          "output_type": "stream",
          "text": [
            "Epoch 1/6\n",
            "89/89 [==============================] - 13s 113ms/step - loss: 0.6991 - accuracy: 0.4870 - val_loss: 0.7048 - val_accuracy: 0.4451\n",
            "Epoch 2/6\n",
            "89/89 [==============================] - 10s 116ms/step - loss: 0.6967 - accuracy: 0.4961 - val_loss: 0.7015 - val_accuracy: 0.4479\n",
            "Epoch 3/6\n",
            "89/89 [==============================] - 10s 117ms/step - loss: 0.6953 - accuracy: 0.4877 - val_loss: 0.6994 - val_accuracy: 0.4761\n",
            "Epoch 4/6\n",
            "89/89 [==============================] - 10s 117ms/step - loss: 0.6945 - accuracy: 0.4856 - val_loss: 0.6979 - val_accuracy: 0.4620\n",
            "Epoch 5/6\n",
            "89/89 [==============================] - 11s 119ms/step - loss: 0.6939 - accuracy: 0.4975 - val_loss: 0.6967 - val_accuracy: 0.4704\n",
            "Epoch 6/6\n",
            "89/89 [==============================] - 9s 105ms/step - loss: 0.6935 - accuracy: 0.5046 - val_loss: 0.6959 - val_accuracy: 0.4873\n",
            "14/14 [==============================] - 1s 35ms/step - loss: 0.6927 - accuracy: 0.5270\n"
          ]
        },
        {
          "metadata": {
            "tags": null
          },
          "name": "stderr",
          "output_type": "stream",
          "text": [
            "[I 2024-03-24 01:13:07,770] Trial 85 finished with value: 0.5270270109176636 and parameters: {'units': 38}. Best is trial 20 with value: 0.5495495200157166.\n"
          ]
        },
        {
          "metadata": {
            "tags": null
          },
          "name": "stdout",
          "output_type": "stream",
          "text": [
            "Epoch 1/6\n",
            "89/89 [==============================] - 15s 128ms/step - loss: 0.6937 - accuracy: 0.5208 - val_loss: 0.6893 - val_accuracy: 0.5380\n",
            "Epoch 2/6\n",
            "89/89 [==============================] - 10s 114ms/step - loss: 0.6936 - accuracy: 0.5194 - val_loss: 0.6894 - val_accuracy: 0.5380\n",
            "Epoch 3/6\n",
            "89/89 [==============================] - 10s 115ms/step - loss: 0.6935 - accuracy: 0.5208 - val_loss: 0.6895 - val_accuracy: 0.5380\n",
            "Epoch 4/6\n",
            "89/89 [==============================] - 11s 122ms/step - loss: 0.6934 - accuracy: 0.5215 - val_loss: 0.6896 - val_accuracy: 0.5380\n",
            "Epoch 5/6\n",
            "89/89 [==============================] - 11s 123ms/step - loss: 0.6933 - accuracy: 0.5222 - val_loss: 0.6897 - val_accuracy: 0.5380\n",
            "Epoch 6/6\n",
            "89/89 [==============================] - 11s 122ms/step - loss: 0.6933 - accuracy: 0.5215 - val_loss: 0.6898 - val_accuracy: 0.5380\n",
            "14/14 [==============================] - 0s 26ms/step - loss: 0.6936 - accuracy: 0.5203\n"
          ]
        },
        {
          "metadata": {
            "tags": null
          },
          "name": "stderr",
          "output_type": "stream",
          "text": [
            "[I 2024-03-24 01:14:17,341] Trial 86 finished with value: 0.5202702879905701 and parameters: {'units': 44}. Best is trial 20 with value: 0.5495495200157166.\n"
          ]
        },
        {
          "metadata": {
            "tags": null
          },
          "name": "stdout",
          "output_type": "stream",
          "text": [
            "Epoch 1/6\n",
            "89/89 [==============================] - 15s 140ms/step - loss: 0.7026 - accuracy: 0.5215 - val_loss: 0.6909 - val_accuracy: 0.5437\n",
            "Epoch 2/6\n",
            "89/89 [==============================] - 12s 132ms/step - loss: 0.6999 - accuracy: 0.5201 - val_loss: 0.6900 - val_accuracy: 0.5437\n",
            "Epoch 3/6\n",
            "89/89 [==============================] - 12s 133ms/step - loss: 0.6983 - accuracy: 0.5166 - val_loss: 0.6895 - val_accuracy: 0.5408\n",
            "Epoch 4/6\n",
            "89/89 [==============================] - 12s 133ms/step - loss: 0.6972 - accuracy: 0.5159 - val_loss: 0.6894 - val_accuracy: 0.5437\n",
            "Epoch 5/6\n",
            "89/89 [==============================] - 12s 130ms/step - loss: 0.6965 - accuracy: 0.5046 - val_loss: 0.6893 - val_accuracy: 0.5521\n",
            "Epoch 6/6\n",
            "89/89 [==============================] - 12s 130ms/step - loss: 0.6959 - accuracy: 0.5039 - val_loss: 0.6893 - val_accuracy: 0.5634\n",
            "14/14 [==============================] - 0s 31ms/step - loss: 0.6956 - accuracy: 0.5113\n"
          ]
        },
        {
          "metadata": {
            "tags": null
          },
          "name": "stderr",
          "output_type": "stream",
          "text": [
            "[I 2024-03-24 01:15:31,817] Trial 87 finished with value: 0.5112612843513489 and parameters: {'units': 60}. Best is trial 20 with value: 0.5495495200157166.\n"
          ]
        },
        {
          "output_type": "stream",
          "name": "stdout",
          "text": [
            "Epoch 1/6\n",
            "89/89 [==============================] - 14s 137ms/step - loss: 0.6952 - accuracy: 0.5215 - val_loss: 0.6889 - val_accuracy: 0.5437\n",
            "Epoch 2/6\n",
            "89/89 [==============================] - 12s 130ms/step - loss: 0.6946 - accuracy: 0.5201 - val_loss: 0.6890 - val_accuracy: 0.5437\n",
            "Epoch 3/6\n",
            "89/89 [==============================] - 12s 130ms/step - loss: 0.6943 - accuracy: 0.5194 - val_loss: 0.6891 - val_accuracy: 0.5437\n",
            "Epoch 4/6\n",
            "89/89 [==============================] - 12s 131ms/step - loss: 0.6940 - accuracy: 0.5194 - val_loss: 0.6893 - val_accuracy: 0.5437\n",
            "Epoch 5/6\n",
            "89/89 [==============================] - 16s 176ms/step - loss: 0.6938 - accuracy: 0.5201 - val_loss: 0.6894 - val_accuracy: 0.5437\n",
            "Epoch 6/6\n",
            "89/89 [==============================] - 12s 134ms/step - loss: 0.6937 - accuracy: 0.5194 - val_loss: 0.6895 - val_accuracy: 0.5437\n",
            "14/14 [==============================] - 1s 36ms/step - loss: 0.6932 - accuracy: 0.5225\n"
          ]
        },
        {
          "output_type": "stream",
          "name": "stderr",
          "text": [
            "[I 2024-03-24 01:16:56,868] Trial 88 finished with value: 0.522522509098053 and parameters: {'units': 54}. Best is trial 20 with value: 0.5495495200157166.\n"
          ]
        },
        {
          "output_type": "stream",
          "name": "stdout",
          "text": [
            "Epoch 1/6\n",
            "89/89 [==============================] - 16s 143ms/step - loss: 0.6945 - accuracy: 0.5215 - val_loss: 0.6889 - val_accuracy: 0.5408\n",
            "Epoch 2/6\n",
            "89/89 [==============================] - 13s 145ms/step - loss: 0.6940 - accuracy: 0.5208 - val_loss: 0.6891 - val_accuracy: 0.5380\n",
            "Epoch 3/6\n",
            "89/89 [==============================] - 12s 138ms/step - loss: 0.6937 - accuracy: 0.5208 - val_loss: 0.6893 - val_accuracy: 0.5380\n",
            "Epoch 4/6\n",
            "89/89 [==============================] - 12s 138ms/step - loss: 0.6935 - accuracy: 0.5201 - val_loss: 0.6895 - val_accuracy: 0.5380\n",
            "Epoch 5/6\n",
            "89/89 [==============================] - 13s 143ms/step - loss: 0.6933 - accuracy: 0.5208 - val_loss: 0.6897 - val_accuracy: 0.5408\n",
            "Epoch 6/6\n",
            "89/89 [==============================] - 12s 138ms/step - loss: 0.6932 - accuracy: 0.5208 - val_loss: 0.6898 - val_accuracy: 0.5408\n",
            "14/14 [==============================] - 1s 35ms/step - loss: 0.6927 - accuracy: 0.5225\n"
          ]
        },
        {
          "output_type": "stream",
          "name": "stderr",
          "text": [
            "[I 2024-03-24 01:18:15,972] Trial 89 finished with value: 0.522522509098053 and parameters: {'units': 63}. Best is trial 20 with value: 0.5495495200157166.\n"
          ]
        },
        {
          "output_type": "stream",
          "name": "stdout",
          "text": [
            "Epoch 1/6\n",
            "89/89 [==============================] - 15s 131ms/step - loss: 0.6955 - accuracy: 0.5215 - val_loss: 0.6888 - val_accuracy: 0.5437\n",
            "Epoch 2/6\n",
            "89/89 [==============================] - 11s 125ms/step - loss: 0.6947 - accuracy: 0.5215 - val_loss: 0.6889 - val_accuracy: 0.5437\n",
            "Epoch 3/6\n",
            "89/89 [==============================] - 11s 126ms/step - loss: 0.6942 - accuracy: 0.5201 - val_loss: 0.6891 - val_accuracy: 0.5437\n",
            "Epoch 4/6\n",
            "89/89 [==============================] - 11s 128ms/step - loss: 0.6939 - accuracy: 0.5208 - val_loss: 0.6892 - val_accuracy: 0.5465\n",
            "Epoch 5/6\n",
            "89/89 [==============================] - 11s 124ms/step - loss: 0.6937 - accuracy: 0.5201 - val_loss: 0.6894 - val_accuracy: 0.5493\n",
            "Epoch 6/6\n",
            "89/89 [==============================] - 10s 115ms/step - loss: 0.6935 - accuracy: 0.5229 - val_loss: 0.6895 - val_accuracy: 0.5465\n",
            "14/14 [==============================] - 1s 39ms/step - loss: 0.6935 - accuracy: 0.5248\n"
          ]
        },
        {
          "output_type": "stream",
          "name": "stderr",
          "text": [
            "[I 2024-03-24 01:19:26,982] Trial 90 finished with value: 0.5247747898101807 and parameters: {'units': 46}. Best is trial 20 with value: 0.5495495200157166.\n"
          ]
        },
        {
          "output_type": "stream",
          "name": "stdout",
          "text": [
            "Epoch 1/6\n",
            "89/89 [==============================] - 15s 140ms/step - loss: 0.7035 - accuracy: 0.4926 - val_loss: 0.7117 - val_accuracy: 0.4479\n",
            "Epoch 2/6\n",
            "89/89 [==============================] - 12s 136ms/step - loss: 0.6994 - accuracy: 0.4933 - val_loss: 0.7067 - val_accuracy: 0.4648\n",
            "Epoch 3/6\n",
            "89/89 [==============================] - 12s 135ms/step - loss: 0.6971 - accuracy: 0.5032 - val_loss: 0.7035 - val_accuracy: 0.4901\n",
            "Epoch 4/6\n",
            "89/89 [==============================] - 12s 140ms/step - loss: 0.6957 - accuracy: 0.4989 - val_loss: 0.7011 - val_accuracy: 0.4901\n",
            "Epoch 5/6\n",
            "89/89 [==============================] - 13s 141ms/step - loss: 0.6946 - accuracy: 0.5081 - val_loss: 0.6994 - val_accuracy: 0.4873\n",
            "Epoch 6/6\n",
            "89/89 [==============================] - 12s 140ms/step - loss: 0.6939 - accuracy: 0.5102 - val_loss: 0.6980 - val_accuracy: 0.4817\n",
            "14/14 [==============================] - 0s 33ms/step - loss: 0.6939 - accuracy: 0.5090\n"
          ]
        },
        {
          "output_type": "stream",
          "name": "stderr",
          "text": [
            "[I 2024-03-24 01:20:44,731] Trial 91 finished with value: 0.5090090036392212 and parameters: {'units': 59}. Best is trial 20 with value: 0.5495495200157166.\n"
          ]
        },
        {
          "output_type": "stream",
          "name": "stdout",
          "text": [
            "Epoch 1/6\n",
            "89/89 [==============================] - 15s 141ms/step - loss: 0.6946 - accuracy: 0.4799 - val_loss: 0.6967 - val_accuracy: 0.4676\n",
            "Epoch 2/6\n",
            "89/89 [==============================] - 12s 133ms/step - loss: 0.6939 - accuracy: 0.4919 - val_loss: 0.6957 - val_accuracy: 0.4789\n",
            "Epoch 3/6\n",
            "89/89 [==============================] - 12s 134ms/step - loss: 0.6935 - accuracy: 0.5053 - val_loss: 0.6949 - val_accuracy: 0.4563\n",
            "Epoch 4/6\n",
            "89/89 [==============================] - 12s 135ms/step - loss: 0.6932 - accuracy: 0.5081 - val_loss: 0.6943 - val_accuracy: 0.4676\n",
            "Epoch 5/6\n",
            "89/89 [==============================] - 12s 135ms/step - loss: 0.6930 - accuracy: 0.5159 - val_loss: 0.6938 - val_accuracy: 0.4704\n",
            "Epoch 6/6\n",
            "89/89 [==============================] - 12s 135ms/step - loss: 0.6929 - accuracy: 0.5208 - val_loss: 0.6935 - val_accuracy: 0.4732\n",
            "14/14 [==============================] - 1s 57ms/step - loss: 0.6932 - accuracy: 0.5068\n"
          ]
        },
        {
          "output_type": "stream",
          "name": "stderr",
          "text": [
            "[I 2024-03-24 01:22:10,446] Trial 92 finished with value: 0.5067567825317383 and parameters: {'units': 58}. Best is trial 20 with value: 0.5495495200157166.\n"
          ]
        },
        {
          "output_type": "stream",
          "name": "stdout",
          "text": [
            "Epoch 1/6\n",
            "89/89 [==============================] - 15s 142ms/step - loss: 0.6928 - accuracy: 0.5194 - val_loss: 0.6899 - val_accuracy: 0.5437\n",
            "Epoch 2/6\n",
            "89/89 [==============================] - 12s 137ms/step - loss: 0.6927 - accuracy: 0.5201 - val_loss: 0.6900 - val_accuracy: 0.5437\n",
            "Epoch 3/6\n",
            "89/89 [==============================] - 12s 137ms/step - loss: 0.6927 - accuracy: 0.5215 - val_loss: 0.6900 - val_accuracy: 0.5437\n",
            "Epoch 4/6\n",
            "89/89 [==============================] - 12s 136ms/step - loss: 0.6926 - accuracy: 0.5208 - val_loss: 0.6900 - val_accuracy: 0.5437\n",
            "Epoch 5/6\n",
            "89/89 [==============================] - 12s 137ms/step - loss: 0.6925 - accuracy: 0.5222 - val_loss: 0.6901 - val_accuracy: 0.5437\n",
            "Epoch 6/6\n",
            "89/89 [==============================] - 12s 138ms/step - loss: 0.6925 - accuracy: 0.5215 - val_loss: 0.6901 - val_accuracy: 0.5437\n",
            "14/14 [==============================] - 1s 35ms/step - loss: 0.6924 - accuracy: 0.5270\n"
          ]
        },
        {
          "output_type": "stream",
          "name": "stderr",
          "text": [
            "[I 2024-03-24 01:23:27,275] Trial 93 finished with value: 0.5270270109176636 and parameters: {'units': 62}. Best is trial 20 with value: 0.5495495200157166.\n"
          ]
        },
        {
          "output_type": "stream",
          "name": "stdout",
          "text": [
            "Epoch 1/6\n",
            "89/89 [==============================] - 15s 139ms/step - loss: 0.6967 - accuracy: 0.4785 - val_loss: 0.7010 - val_accuracy: 0.4423\n",
            "Epoch 2/6\n",
            "89/89 [==============================] - 12s 133ms/step - loss: 0.6951 - accuracy: 0.4898 - val_loss: 0.6986 - val_accuracy: 0.4366\n",
            "Epoch 3/6\n",
            "89/89 [==============================] - 12s 134ms/step - loss: 0.6941 - accuracy: 0.4975 - val_loss: 0.6971 - val_accuracy: 0.4789\n",
            "Epoch 4/6\n",
            "89/89 [==============================] - 12s 133ms/step - loss: 0.6935 - accuracy: 0.4961 - val_loss: 0.6960 - val_accuracy: 0.4704\n",
            "Epoch 5/6\n",
            "89/89 [==============================] - 12s 132ms/step - loss: 0.6931 - accuracy: 0.4996 - val_loss: 0.6952 - val_accuracy: 0.4761\n",
            "Epoch 6/6\n",
            "89/89 [==============================] - 12s 133ms/step - loss: 0.6929 - accuracy: 0.5102 - val_loss: 0.6945 - val_accuracy: 0.4873\n",
            "14/14 [==============================] - 0s 32ms/step - loss: 0.6925 - accuracy: 0.5158\n"
          ]
        },
        {
          "output_type": "stream",
          "name": "stderr",
          "text": [
            "[I 2024-03-24 01:24:53,467] Trial 94 finished with value: 0.5157657861709595 and parameters: {'units': 51}. Best is trial 20 with value: 0.5495495200157166.\n"
          ]
        },
        {
          "output_type": "stream",
          "name": "stdout",
          "text": [
            "Epoch 1/6\n",
            "89/89 [==============================] - 14s 128ms/step - loss: 0.6932 - accuracy: 0.5215 - val_loss: 0.6899 - val_accuracy: 0.5437\n",
            "Epoch 2/6\n",
            "89/89 [==============================] - 11s 123ms/step - loss: 0.6931 - accuracy: 0.5215 - val_loss: 0.6901 - val_accuracy: 0.5437\n",
            "Epoch 3/6\n",
            "89/89 [==============================] - 11s 121ms/step - loss: 0.6930 - accuracy: 0.5222 - val_loss: 0.6902 - val_accuracy: 0.5437\n",
            "Epoch 4/6\n",
            "89/89 [==============================] - 10s 114ms/step - loss: 0.6929 - accuracy: 0.5215 - val_loss: 0.6903 - val_accuracy: 0.5437\n",
            "Epoch 5/6\n",
            "89/89 [==============================] - 11s 121ms/step - loss: 0.6928 - accuracy: 0.5208 - val_loss: 0.6904 - val_accuracy: 0.5437\n",
            "Epoch 6/6\n",
            "89/89 [==============================] - 11s 121ms/step - loss: 0.6928 - accuracy: 0.5215 - val_loss: 0.6905 - val_accuracy: 0.5437\n",
            "14/14 [==============================] - 0s 27ms/step - loss: 0.6928 - accuracy: 0.5270\n"
          ]
        },
        {
          "output_type": "stream",
          "name": "stderr",
          "text": [
            "[I 2024-03-24 01:26:01,714] Trial 95 finished with value: 0.5270270109176636 and parameters: {'units': 43}. Best is trial 20 with value: 0.5495495200157166.\n"
          ]
        },
        {
          "output_type": "stream",
          "name": "stdout",
          "text": [
            "Epoch 1/6\n",
            "89/89 [==============================] - 14s 135ms/step - loss: 0.6957 - accuracy: 0.4778 - val_loss: 0.6992 - val_accuracy: 0.4507\n",
            "Epoch 2/6\n",
            "89/89 [==============================] - 12s 131ms/step - loss: 0.6946 - accuracy: 0.4813 - val_loss: 0.6977 - val_accuracy: 0.4535\n",
            "Epoch 3/6\n",
            "89/89 [==============================] - 12s 133ms/step - loss: 0.6939 - accuracy: 0.4813 - val_loss: 0.6965 - val_accuracy: 0.4873\n",
            "Epoch 4/6\n",
            "89/89 [==============================] - 12s 132ms/step - loss: 0.6934 - accuracy: 0.4968 - val_loss: 0.6957 - val_accuracy: 0.4845\n",
            "Epoch 5/6\n",
            "89/89 [==============================] - 12s 133ms/step - loss: 0.6931 - accuracy: 0.5046 - val_loss: 0.6951 - val_accuracy: 0.4817\n",
            "Epoch 6/6\n",
            "89/89 [==============================] - 12s 133ms/step - loss: 0.6929 - accuracy: 0.5166 - val_loss: 0.6946 - val_accuracy: 0.4845\n",
            "14/14 [==============================] - 1s 35ms/step - loss: 0.6925 - accuracy: 0.5113\n"
          ]
        },
        {
          "output_type": "stream",
          "name": "stderr",
          "text": [
            "[I 2024-03-24 01:27:16,353] Trial 96 finished with value: 0.5112612843513489 and parameters: {'units': 60}. Best is trial 20 with value: 0.5495495200157166.\n"
          ]
        },
        {
          "output_type": "stream",
          "name": "stdout",
          "text": [
            "Epoch 1/6\n",
            "89/89 [==============================] - 17s 159ms/step - loss: 0.6939 - accuracy: 0.4820 - val_loss: 0.6924 - val_accuracy: 0.5437\n",
            "Epoch 2/6\n",
            "89/89 [==============================] - 12s 134ms/step - loss: 0.6937 - accuracy: 0.4933 - val_loss: 0.6922 - val_accuracy: 0.5437\n",
            "Epoch 3/6\n",
            "89/89 [==============================] - 12s 135ms/step - loss: 0.6936 - accuracy: 0.5144 - val_loss: 0.6921 - val_accuracy: 0.5352\n",
            "Epoch 4/6\n",
            "89/89 [==============================] - 12s 135ms/step - loss: 0.6935 - accuracy: 0.5144 - val_loss: 0.6920 - val_accuracy: 0.5408\n",
            "Epoch 5/6\n",
            "89/89 [==============================] - 12s 130ms/step - loss: 0.6934 - accuracy: 0.5123 - val_loss: 0.6919 - val_accuracy: 0.5437\n",
            "Epoch 6/6\n",
            "89/89 [==============================] - 12s 131ms/step - loss: 0.6933 - accuracy: 0.5123 - val_loss: 0.6918 - val_accuracy: 0.5352\n",
            "14/14 [==============================] - 1s 34ms/step - loss: 0.6930 - accuracy: 0.5225\n"
          ]
        },
        {
          "output_type": "stream",
          "name": "stderr",
          "text": [
            "[I 2024-03-24 01:28:41,264] Trial 97 finished with value: 0.522522509098053 and parameters: {'units': 56}. Best is trial 20 with value: 0.5495495200157166.\n"
          ]
        },
        {
          "output_type": "stream",
          "name": "stdout",
          "text": [
            "Epoch 1/6\n",
            "89/89 [==============================] - 13s 121ms/step - loss: 0.6931 - accuracy: 0.5173 - val_loss: 0.6902 - val_accuracy: 0.5408\n",
            "Epoch 2/6\n",
            "89/89 [==============================] - 11s 119ms/step - loss: 0.6930 - accuracy: 0.5194 - val_loss: 0.6903 - val_accuracy: 0.5324\n",
            "Epoch 3/6\n",
            "89/89 [==============================] - 11s 119ms/step - loss: 0.6930 - accuracy: 0.5166 - val_loss: 0.6903 - val_accuracy: 0.5352\n",
            "Epoch 4/6\n",
            "89/89 [==============================] - 11s 121ms/step - loss: 0.6929 - accuracy: 0.5201 - val_loss: 0.6903 - val_accuracy: 0.5408\n",
            "Epoch 5/6\n",
            "89/89 [==============================] - 11s 120ms/step - loss: 0.6929 - accuracy: 0.5208 - val_loss: 0.6904 - val_accuracy: 0.5437\n",
            "Epoch 6/6\n",
            "89/89 [==============================] - 11s 124ms/step - loss: 0.6928 - accuracy: 0.5222 - val_loss: 0.6904 - val_accuracy: 0.5437\n",
            "14/14 [==============================] - 0s 26ms/step - loss: 0.6925 - accuracy: 0.5338\n"
          ]
        },
        {
          "output_type": "stream",
          "name": "stderr",
          "text": [
            "[I 2024-03-24 01:29:49,598] Trial 98 finished with value: 0.5337837934494019 and parameters: {'units': 40}. Best is trial 20 with value: 0.5495495200157166.\n"
          ]
        },
        {
          "output_type": "stream",
          "name": "stdout",
          "text": [
            "Epoch 1/6\n",
            "89/89 [==============================] - 14s 129ms/step - loss: 0.6948 - accuracy: 0.4933 - val_loss: 0.6971 - val_accuracy: 0.4592\n",
            "Epoch 2/6\n",
            "89/89 [==============================] - 11s 123ms/step - loss: 0.6941 - accuracy: 0.4827 - val_loss: 0.6960 - val_accuracy: 0.4338\n",
            "Epoch 3/6\n",
            "89/89 [==============================] - 11s 124ms/step - loss: 0.6937 - accuracy: 0.4940 - val_loss: 0.6952 - val_accuracy: 0.4732\n",
            "Epoch 4/6\n",
            "89/89 [==============================] - 10s 114ms/step - loss: 0.6934 - accuracy: 0.4961 - val_loss: 0.6946 - val_accuracy: 0.5014\n",
            "Epoch 5/6\n",
            "89/89 [==============================] - 11s 120ms/step - loss: 0.6931 - accuracy: 0.5130 - val_loss: 0.6942 - val_accuracy: 0.4845\n",
            "Epoch 6/6\n",
            "89/89 [==============================] - 11s 124ms/step - loss: 0.6930 - accuracy: 0.5060 - val_loss: 0.6938 - val_accuracy: 0.4817\n",
            "14/14 [==============================] - 0s 28ms/step - loss: 0.6925 - accuracy: 0.5180\n"
          ]
        },
        {
          "output_type": "stream",
          "name": "stderr",
          "text": [
            "[I 2024-03-24 01:30:58,357] Trial 99 finished with value: 0.5180180072784424 and parameters: {'units': 41}. Best is trial 20 with value: 0.5495495200157166.\n"
          ]
        },
        {
          "output_type": "stream",
          "name": "stdout",
          "text": [
            "Accuracy: 0.5495495200157166\n",
            "Best hyperparameters: {'units': 63}\n"
          ]
        }
      ]
    },
    {
      "cell_type": "code",
      "source": [
        "model = build_model(41)\n",
        "history = model.fit([X_train_num, X_train_news], y_train, batch_size=16, epochs=6, validation_split=0.2)\n",
        "loss, accuracy = model.evaluate([X_test_num, X_test_news], y_test)\n",
        "print(loss, accuracy)"
      ],
      "metadata": {
        "id": "lec0IGYm4yzE",
        "colab": {
          "base_uri": "https://localhost:8080/"
        },
        "outputId": "24c814b9-1754-41d6-e9c1-c3d45c2ab544"
      },
      "execution_count": null,
      "outputs": [
        {
          "output_type": "stream",
          "name": "stdout",
          "text": [
            "Epoch 1/6\n",
            "89/89 [==============================] - 14s 127ms/step - loss: 0.7161 - accuracy: 0.4799 - val_loss: 0.7296 - val_accuracy: 0.4620\n",
            "Epoch 2/6\n",
            "89/89 [==============================] - 10s 112ms/step - loss: 0.7091 - accuracy: 0.4919 - val_loss: 0.7216 - val_accuracy: 0.4394\n",
            "Epoch 3/6\n",
            "89/89 [==============================] - 11s 122ms/step - loss: 0.7049 - accuracy: 0.4982 - val_loss: 0.7162 - val_accuracy: 0.4507\n",
            "Epoch 4/6\n",
            "89/89 [==============================] - 11s 123ms/step - loss: 0.7020 - accuracy: 0.5004 - val_loss: 0.7121 - val_accuracy: 0.4704\n",
            "Epoch 5/6\n",
            "89/89 [==============================] - 11s 123ms/step - loss: 0.7000 - accuracy: 0.4912 - val_loss: 0.7091 - val_accuracy: 0.4873\n",
            "Epoch 6/6\n",
            "89/89 [==============================] - 11s 126ms/step - loss: 0.6984 - accuracy: 0.4982 - val_loss: 0.7066 - val_accuracy: 0.4817\n",
            "14/14 [==============================] - 0s 26ms/step - loss: 0.6984 - accuracy: 0.5045\n",
            "0.698421061038971 0.5045045018196106\n"
          ]
        }
      ]
    },
    {
      "cell_type": "code",
      "source": [],
      "metadata": {
        "id": "LfQaIUcjKWRg"
      },
      "execution_count": null,
      "outputs": []
    }
  ]
}