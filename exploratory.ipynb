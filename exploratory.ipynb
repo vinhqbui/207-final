{
 "cells": [
  {
   "cell_type": "code",
   "execution_count": 2,
   "metadata": {},
   "outputs": [],
   "source": [
    "import pandas as pd"
   ]
  },
  {
   "cell_type": "code",
   "execution_count": 3,
   "metadata": {},
   "outputs": [],
   "source": [
    "data = pd.read_csv('apple_stock_news.zip', compression='zip')"
   ]
  },
  {
   "cell_type": "code",
   "execution_count": 4,
   "metadata": {},
   "outputs": [
    {
     "data": {
      "text/html": [
       "<div>\n",
       "<style scoped>\n",
       "    .dataframe tbody tr th:only-of-type {\n",
       "        vertical-align: middle;\n",
       "    }\n",
       "\n",
       "    .dataframe tbody tr th {\n",
       "        vertical-align: top;\n",
       "    }\n",
       "\n",
       "    .dataframe thead th {\n",
       "        text-align: right;\n",
       "    }\n",
       "</style>\n",
       "<table border=\"1\" class=\"dataframe\">\n",
       "  <thead>\n",
       "    <tr style=\"text-align: right;\">\n",
       "      <th></th>\n",
       "      <th>Date</th>\n",
       "      <th>Open</th>\n",
       "      <th>High</th>\n",
       "      <th>Low</th>\n",
       "      <th>Close</th>\n",
       "      <th>Volume</th>\n",
       "      <th>News</th>\n",
       "    </tr>\n",
       "  </thead>\n",
       "  <tbody>\n",
       "    <tr>\n",
       "      <th>0</th>\n",
       "      <td>2015-01-02 09:30:00</td>\n",
       "      <td>24.963</td>\n",
       "      <td>24.992</td>\n",
       "      <td>24.888</td>\n",
       "      <td>24.925</td>\n",
       "      <td>2828740</td>\n",
       "      <td>[\"Is Xiaomi's first laptop a MacBook Air knock...</td>\n",
       "    </tr>\n",
       "    <tr>\n",
       "      <th>1</th>\n",
       "      <td>2015-01-02 09:31:00</td>\n",
       "      <td>24.930</td>\n",
       "      <td>24.960</td>\n",
       "      <td>24.874</td>\n",
       "      <td>24.938</td>\n",
       "      <td>1146024</td>\n",
       "      <td>[\"Is Xiaomi's first laptop a MacBook Air knock...</td>\n",
       "    </tr>\n",
       "    <tr>\n",
       "      <th>2</th>\n",
       "      <td>2015-01-02 09:32:00</td>\n",
       "      <td>24.943</td>\n",
       "      <td>24.978</td>\n",
       "      <td>24.901</td>\n",
       "      <td>24.938</td>\n",
       "      <td>924048</td>\n",
       "      <td>[\"Is Xiaomi's first laptop a MacBook Air knock...</td>\n",
       "    </tr>\n",
       "    <tr>\n",
       "      <th>3</th>\n",
       "      <td>2015-01-02 09:33:00</td>\n",
       "      <td>24.942</td>\n",
       "      <td>24.959</td>\n",
       "      <td>24.870</td>\n",
       "      <td>24.911</td>\n",
       "      <td>1041160</td>\n",
       "      <td>[\"Is Xiaomi's first laptop a MacBook Air knock...</td>\n",
       "    </tr>\n",
       "    <tr>\n",
       "      <th>4</th>\n",
       "      <td>2015-01-02 09:34:00</td>\n",
       "      <td>24.916</td>\n",
       "      <td>24.946</td>\n",
       "      <td>24.852</td>\n",
       "      <td>24.880</td>\n",
       "      <td>994128</td>\n",
       "      <td>[\"Is Xiaomi's first laptop a MacBook Air knock...</td>\n",
       "    </tr>\n",
       "  </tbody>\n",
       "</table>\n",
       "</div>"
      ],
      "text/plain": [
       "                  Date    Open    High     Low   Close   Volume  \\\n",
       "0  2015-01-02 09:30:00  24.963  24.992  24.888  24.925  2828740   \n",
       "1  2015-01-02 09:31:00  24.930  24.960  24.874  24.938  1146024   \n",
       "2  2015-01-02 09:32:00  24.943  24.978  24.901  24.938   924048   \n",
       "3  2015-01-02 09:33:00  24.942  24.959  24.870  24.911  1041160   \n",
       "4  2015-01-02 09:34:00  24.916  24.946  24.852  24.880   994128   \n",
       "\n",
       "                                                News  \n",
       "0  [\"Is Xiaomi's first laptop a MacBook Air knock...  \n",
       "1  [\"Is Xiaomi's first laptop a MacBook Air knock...  \n",
       "2  [\"Is Xiaomi's first laptop a MacBook Air knock...  \n",
       "3  [\"Is Xiaomi's first laptop a MacBook Air knock...  \n",
       "4  [\"Is Xiaomi's first laptop a MacBook Air knock...  "
      ]
     },
     "execution_count": 4,
     "metadata": {},
     "output_type": "execute_result"
    }
   ],
   "source": [
    "data.head()"
   ]
  },
  {
   "cell_type": "code",
   "execution_count": 6,
   "metadata": {},
   "outputs": [
    {
     "data": {
      "text/plain": [
       "array(['[\"Is Xiaomi\\'s first laptop a MacBook Air knock-off?\\\\nLeaked images suggest that the Chinese mobile giant Xiaomi has once again ripped off Apple\\'s design.\\\\n\", \\'AAP names 8 more nominees, completes list for Delhi polls\\\\nAAP has a blend of candidates from different walks of life -- from former Apple executive Adarsh Shastri to Bandana Kumari, a housewife, for Delhi polls.\\\\n\\']'],\n",
       "      dtype=object)"
      ]
     },
     "execution_count": 6,
     "metadata": {},
     "output_type": "execute_result"
    }
   ],
   "source": [
    "data[:1][\"News\"].values"
   ]
  },
  {
   "cell_type": "code",
   "execution_count": 15,
   "metadata": {},
   "outputs": [
    {
     "data": {
      "text/plain": [
       "'[\"Is Xiaomi\\'s first laptop a MacBook Air knock-off?\\\\nLeaked images suggest that the Chinese mobile giant Xiaomi has once again ripped off Apple\\'s design.\\\\n\", \\'AAP names 8 more nominees, completes list for Delhi polls\\\\nAAP has a blend of candidates from different walks of life -- from former Apple executive Adarsh Shastri to Bandana Kumari, a housewife, for Delhi polls.\\\\n\\']'"
      ]
     },
     "execution_count": 15,
     "metadata": {},
     "output_type": "execute_result"
    }
   ],
   "source": [
    "data.iloc[20][\"News\"]"
   ]
  },
  {
   "cell_type": "code",
   "execution_count": 14,
   "metadata": {},
   "outputs": [
    {
     "data": {
      "text/plain": [
       "'[\"Is Xiaomi\\'s first laptop a MacBook Air knock-off?\\\\nLeaked images suggest that the Chinese mobile giant Xiaomi has once again ripped off Apple\\'s design.\\\\n\", \\'AAP names 8 more nominees, completes list for Delhi polls\\\\nAAP has a blend of candidates from different walks of life -- from former Apple executive Adarsh Shastri to Bandana Kumari, a housewife, for Delhi polls.\\\\n\\']'"
      ]
     },
     "execution_count": 14,
     "metadata": {},
     "output_type": "execute_result"
    }
   ],
   "source": [
    "data.iloc[10][\"News\"]"
   ]
  },
  {
   "cell_type": "code",
   "execution_count": 19,
   "metadata": {},
   "outputs": [
    {
     "data": {
      "text/html": [
       "<div>\n",
       "<style scoped>\n",
       "    .dataframe tbody tr th:only-of-type {\n",
       "        vertical-align: middle;\n",
       "    }\n",
       "\n",
       "    .dataframe tbody tr th {\n",
       "        vertical-align: top;\n",
       "    }\n",
       "\n",
       "    .dataframe thead th {\n",
       "        text-align: right;\n",
       "    }\n",
       "</style>\n",
       "<table border=\"1\" class=\"dataframe\">\n",
       "  <thead>\n",
       "    <tr style=\"text-align: right;\">\n",
       "      <th></th>\n",
       "      <th>Date</th>\n",
       "      <th>Open</th>\n",
       "      <th>High</th>\n",
       "      <th>Low</th>\n",
       "      <th>Close</th>\n",
       "      <th>Volume</th>\n",
       "      <th>News</th>\n",
       "    </tr>\n",
       "  </thead>\n",
       "  <tbody>\n",
       "    <tr>\n",
       "      <th>865666</th>\n",
       "      <td>2023-10-31 15:55:00</td>\n",
       "      <td>170.850</td>\n",
       "      <td>170.90</td>\n",
       "      <td>170.70</td>\n",
       "      <td>170.891</td>\n",
       "      <td>277574</td>\n",
       "      <td>Apple's holiday-quarter forecast faces threat ...</td>\n",
       "    </tr>\n",
       "    <tr>\n",
       "      <th>865667</th>\n",
       "      <td>2023-10-31 15:56:00</td>\n",
       "      <td>170.895</td>\n",
       "      <td>170.90</td>\n",
       "      <td>170.83</td>\n",
       "      <td>170.890</td>\n",
       "      <td>192316</td>\n",
       "      <td>Apple's holiday-quarter forecast faces threat ...</td>\n",
       "    </tr>\n",
       "    <tr>\n",
       "      <th>865668</th>\n",
       "      <td>2023-10-31 15:57:00</td>\n",
       "      <td>170.890</td>\n",
       "      <td>170.90</td>\n",
       "      <td>170.84</td>\n",
       "      <td>170.855</td>\n",
       "      <td>179167</td>\n",
       "      <td>Apple's holiday-quarter forecast faces threat ...</td>\n",
       "    </tr>\n",
       "    <tr>\n",
       "      <th>865669</th>\n",
       "      <td>2023-10-31 15:58:00</td>\n",
       "      <td>170.860</td>\n",
       "      <td>170.89</td>\n",
       "      <td>170.81</td>\n",
       "      <td>170.885</td>\n",
       "      <td>211865</td>\n",
       "      <td>Apple's holiday-quarter forecast faces threat ...</td>\n",
       "    </tr>\n",
       "    <tr>\n",
       "      <th>865670</th>\n",
       "      <td>2023-10-31 15:59:00</td>\n",
       "      <td>170.880</td>\n",
       "      <td>170.90</td>\n",
       "      <td>170.71</td>\n",
       "      <td>170.770</td>\n",
       "      <td>844971</td>\n",
       "      <td>Apple's holiday-quarter forecast faces threat ...</td>\n",
       "    </tr>\n",
       "  </tbody>\n",
       "</table>\n",
       "</div>"
      ],
      "text/plain": [
       "                       Date     Open    High     Low    Close  Volume  \\\n",
       "865666  2023-10-31 15:55:00  170.850  170.90  170.70  170.891  277574   \n",
       "865667  2023-10-31 15:56:00  170.895  170.90  170.83  170.890  192316   \n",
       "865668  2023-10-31 15:57:00  170.890  170.90  170.84  170.855  179167   \n",
       "865669  2023-10-31 15:58:00  170.860  170.89  170.81  170.885  211865   \n",
       "865670  2023-10-31 15:59:00  170.880  170.90  170.71  170.770  844971   \n",
       "\n",
       "                                                     News  \n",
       "865666  Apple's holiday-quarter forecast faces threat ...  \n",
       "865667  Apple's holiday-quarter forecast faces threat ...  \n",
       "865668  Apple's holiday-quarter forecast faces threat ...  \n",
       "865669  Apple's holiday-quarter forecast faces threat ...  \n",
       "865670  Apple's holiday-quarter forecast faces threat ...  "
      ]
     },
     "execution_count": 19,
     "metadata": {},
     "output_type": "execute_result"
    }
   ],
   "source": [
    "data.tail()"
   ]
  },
  {
   "cell_type": "code",
   "execution_count": 25,
   "metadata": {},
   "outputs": [
    {
     "data": {
      "text/plain": [
       "8.808211233211233"
      ]
     },
     "execution_count": 25,
     "metadata": {},
     "output_type": "execute_result"
    }
   ],
   "source": [
    "data.shape[0]/(252 * 60 * 6.5)"
   ]
  },
  {
   "cell_type": "code",
   "execution_count": null,
   "metadata": {},
   "outputs": [],
   "source": [
    "252 * 60 "
   ]
  }
 ],
 "metadata": {
  "kernelspec": {
   "display_name": "base",
   "language": "python",
   "name": "python3"
  },
  "language_info": {
   "codemirror_mode": {
    "name": "ipython",
    "version": 3
   },
   "file_extension": ".py",
   "mimetype": "text/x-python",
   "name": "python",
   "nbconvert_exporter": "python",
   "pygments_lexer": "ipython3",
   "version": "3.10.13"
  }
 },
 "nbformat": 4,
 "nbformat_minor": 2
}
