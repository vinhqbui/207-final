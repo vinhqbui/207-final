{
 "cells": [
  {
   "cell_type": "markdown",
   "metadata": {
    "id": "J-YhXiwMYZQs"
   },
   "source": [
    "Data Cleaning"
   ]
  },
  {
   "cell_type": "code",
   "execution_count": 29,
   "metadata": {
    "executionInfo": {
     "elapsed": 2109,
     "status": "ok",
     "timestamp": 1708395219024,
     "user": {
      "displayName": "Vinh Quoc Bui",
      "userId": "03284616215766135350"
     },
     "user_tz": 480
    },
    "id": "n8GuSBXcz8a6"
   },
   "outputs": [],
   "source": [
    "import numpy as np\n",
    "import pandas as pd\n",
    "import seaborn as sns\n",
    "from matplotlib import pyplot as plt\n",
    "\n"
   ]
  },
  {
   "cell_type": "code",
   "execution_count": 30,
   "metadata": {
    "executionInfo": {
     "elapsed": 20792,
     "status": "ok",
     "timestamp": 1708395239812,
     "user": {
      "displayName": "Vinh Quoc Bui",
      "userId": "03284616215766135350"
     },
     "user_tz": 480
    },
    "id": "r3dhpyZJ0GGM"
   },
   "outputs": [],
   "source": [
    "#apple_df = pd.read_csv('https://media.githubusercontent.com/media/aquonAttheHub/207_datasets/main/apple_processed.csv')"
   ]
  },
  {
   "cell_type": "code",
   "execution_count": 31,
   "metadata": {
    "executionInfo": {
     "elapsed": 8357,
     "status": "ok",
     "timestamp": 1708395828432,
     "user": {
      "displayName": "Vinh Quoc Bui",
      "userId": "03284616215766135350"
     },
     "user_tz": 480
    },
    "id": "GdW0KwLXS-mK"
   },
   "outputs": [],
   "source": [
    "apple = \"apple\"\n",
    "tesla = \"tesla\"\n",
    "apple_df = pd.read_csv(apple + '_stock_news.zip')\n",
    "tesla_df = pd.read_csv(tesla + '_stock_news.zip')"
   ]
  },
  {
   "cell_type": "markdown",
   "metadata": {
    "id": "ulWsbsjup0S-"
   },
   "source": [
    "Apple Stock Price Cleaning"
   ]
  },
  {
   "cell_type": "code",
   "execution_count": 32,
   "metadata": {
    "colab": {
     "base_uri": "https://localhost:8080/",
     "height": 300
    },
    "executionInfo": {
     "elapsed": 232,
     "status": "ok",
     "timestamp": 1708395378213,
     "user": {
      "displayName": "Vinh Quoc Bui",
      "userId": "03284616215766135350"
     },
     "user_tz": 480
    },
    "id": "-pe7N8JB1Flf",
    "outputId": "ba48ccb8-f60c-4896-b455-2e880512c96f"
   },
   "outputs": [
    {
     "data": {
      "text/html": [
       "<div>\n",
       "<style scoped>\n",
       "    .dataframe tbody tr th:only-of-type {\n",
       "        vertical-align: middle;\n",
       "    }\n",
       "\n",
       "    .dataframe tbody tr th {\n",
       "        vertical-align: top;\n",
       "    }\n",
       "\n",
       "    .dataframe thead th {\n",
       "        text-align: right;\n",
       "    }\n",
       "</style>\n",
       "<table border=\"1\" class=\"dataframe\">\n",
       "  <thead>\n",
       "    <tr style=\"text-align: right;\">\n",
       "      <th></th>\n",
       "      <th>Open</th>\n",
       "      <th>High</th>\n",
       "      <th>Low</th>\n",
       "      <th>Close</th>\n",
       "      <th>Volume</th>\n",
       "    </tr>\n",
       "  </thead>\n",
       "  <tbody>\n",
       "    <tr>\n",
       "      <th>count</th>\n",
       "      <td>865671.000000</td>\n",
       "      <td>865671.000000</td>\n",
       "      <td>865671.000000</td>\n",
       "      <td>865671.000000</td>\n",
       "      <td>8.656710e+05</td>\n",
       "    </tr>\n",
       "    <tr>\n",
       "      <th>mean</th>\n",
       "      <td>80.321309</td>\n",
       "      <td>80.372577</td>\n",
       "      <td>80.259182</td>\n",
       "      <td>80.319125</td>\n",
       "      <td>2.502713e+05</td>\n",
       "    </tr>\n",
       "    <tr>\n",
       "      <th>std</th>\n",
       "      <td>55.150437</td>\n",
       "      <td>55.176618</td>\n",
       "      <td>55.127715</td>\n",
       "      <td>55.151726</td>\n",
       "      <td>3.499110e+05</td>\n",
       "    </tr>\n",
       "    <tr>\n",
       "      <th>min</th>\n",
       "      <td>20.634000</td>\n",
       "      <td>20.670000</td>\n",
       "      <td>20.604000</td>\n",
       "      <td>20.635000</td>\n",
       "      <td>2.100000e+01</td>\n",
       "    </tr>\n",
       "    <tr>\n",
       "      <th>25%</th>\n",
       "      <td>32.894000</td>\n",
       "      <td>32.915000</td>\n",
       "      <td>32.857000</td>\n",
       "      <td>32.890000</td>\n",
       "      <td>9.912900e+04</td>\n",
       "    </tr>\n",
       "    <tr>\n",
       "      <th>50%</th>\n",
       "      <td>50.863000</td>\n",
       "      <td>50.898000</td>\n",
       "      <td>50.821000</td>\n",
       "      <td>50.862000</td>\n",
       "      <td>1.666040e+05</td>\n",
       "    </tr>\n",
       "    <tr>\n",
       "      <th>75%</th>\n",
       "      <td>136.595000</td>\n",
       "      <td>136.697000</td>\n",
       "      <td>136.493000</td>\n",
       "      <td>136.595000</td>\n",
       "      <td>2.928120e+05</td>\n",
       "    </tr>\n",
       "    <tr>\n",
       "      <th>max</th>\n",
       "      <td>197.504000</td>\n",
       "      <td>197.964000</td>\n",
       "      <td>196.962000</td>\n",
       "      <td>197.503000</td>\n",
       "      <td>4.261870e+07</td>\n",
       "    </tr>\n",
       "  </tbody>\n",
       "</table>\n",
       "</div>"
      ],
      "text/plain": [
       "                Open           High            Low          Close  \\\n",
       "count  865671.000000  865671.000000  865671.000000  865671.000000   \n",
       "mean       80.321309      80.372577      80.259182      80.319125   \n",
       "std        55.150437      55.176618      55.127715      55.151726   \n",
       "min        20.634000      20.670000      20.604000      20.635000   \n",
       "25%        32.894000      32.915000      32.857000      32.890000   \n",
       "50%        50.863000      50.898000      50.821000      50.862000   \n",
       "75%       136.595000     136.697000     136.493000     136.595000   \n",
       "max       197.504000     197.964000     196.962000     197.503000   \n",
       "\n",
       "             Volume  \n",
       "count  8.656710e+05  \n",
       "mean   2.502713e+05  \n",
       "std    3.499110e+05  \n",
       "min    2.100000e+01  \n",
       "25%    9.912900e+04  \n",
       "50%    1.666040e+05  \n",
       "75%    2.928120e+05  \n",
       "max    4.261870e+07  "
      ]
     },
     "execution_count": 32,
     "metadata": {},
     "output_type": "execute_result"
    }
   ],
   "source": [
    "apple_df.describe()"
   ]
  },
  {
   "cell_type": "code",
   "execution_count": 33,
   "metadata": {
    "colab": {
     "base_uri": "https://localhost:8080/"
    },
    "executionInfo": {
     "elapsed": 285,
     "status": "ok",
     "timestamp": 1708395259025,
     "user": {
      "displayName": "Vinh Quoc Bui",
      "userId": "03284616215766135350"
     },
     "user_tz": 480
    },
    "id": "VaBLxyrIsSpy",
    "outputId": "97cab465-d8fb-48a3-bfa0-3310b96d0544"
   },
   "outputs": [
    {
     "data": {
      "text/plain": [
       "Date   Open   High   Low    Close  Volume  News \n",
       "False  False  False  False  False  False   False    865671\n",
       "Name: count, dtype: int64"
      ]
     },
     "execution_count": 33,
     "metadata": {},
     "output_type": "execute_result"
    }
   ],
   "source": [
    "#Check for Missing Values\n",
    "pd.isna(apple_df).value_counts()"
   ]
  },
  {
   "cell_type": "code",
   "execution_count": 34,
   "metadata": {
    "colab": {
     "base_uri": "https://localhost:8080/"
    },
    "executionInfo": {
     "elapsed": 14,
     "status": "ok",
     "timestamp": 1708395259025,
     "user": {
      "displayName": "Vinh Quoc Bui",
      "userId": "03284616215766135350"
     },
     "user_tz": 480
    },
    "id": "vMwCd8mqsSn9",
    "outputId": "131b9118-f40d-4393-f98a-e985116c946d"
   },
   "outputs": [
    {
     "data": {
      "text/html": [
       "<div>\n",
       "<style scoped>\n",
       "    .dataframe tbody tr th:only-of-type {\n",
       "        vertical-align: middle;\n",
       "    }\n",
       "\n",
       "    .dataframe tbody tr th {\n",
       "        vertical-align: top;\n",
       "    }\n",
       "\n",
       "    .dataframe thead th {\n",
       "        text-align: right;\n",
       "    }\n",
       "</style>\n",
       "<table border=\"1\" class=\"dataframe\">\n",
       "  <thead>\n",
       "    <tr style=\"text-align: right;\">\n",
       "      <th></th>\n",
       "      <th>Date</th>\n",
       "      <th>Open</th>\n",
       "      <th>High</th>\n",
       "      <th>Low</th>\n",
       "      <th>Close</th>\n",
       "      <th>Volume</th>\n",
       "      <th>News</th>\n",
       "    </tr>\n",
       "  </thead>\n",
       "  <tbody>\n",
       "    <tr>\n",
       "      <th>0</th>\n",
       "      <td>2015-01-02 09:30:00</td>\n",
       "      <td>14.858</td>\n",
       "      <td>14.883</td>\n",
       "      <td>14.810</td>\n",
       "      <td>14.865</td>\n",
       "      <td>428550</td>\n",
       "      <td></td>\n",
       "    </tr>\n",
       "    <tr>\n",
       "      <th>1</th>\n",
       "      <td>2015-01-02 09:31:00</td>\n",
       "      <td>14.862</td>\n",
       "      <td>14.876</td>\n",
       "      <td>14.813</td>\n",
       "      <td>14.845</td>\n",
       "      <td>152475</td>\n",
       "      <td></td>\n",
       "    </tr>\n",
       "    <tr>\n",
       "      <th>2</th>\n",
       "      <td>2015-01-02 09:32:00</td>\n",
       "      <td>14.845</td>\n",
       "      <td>14.867</td>\n",
       "      <td>14.832</td>\n",
       "      <td>14.834</td>\n",
       "      <td>165600</td>\n",
       "      <td></td>\n",
       "    </tr>\n",
       "    <tr>\n",
       "      <th>3</th>\n",
       "      <td>2015-01-02 09:33:00</td>\n",
       "      <td>14.840</td>\n",
       "      <td>14.847</td>\n",
       "      <td>14.820</td>\n",
       "      <td>14.820</td>\n",
       "      <td>60000</td>\n",
       "      <td></td>\n",
       "    </tr>\n",
       "    <tr>\n",
       "      <th>4</th>\n",
       "      <td>2015-01-02 09:34:00</td>\n",
       "      <td>14.820</td>\n",
       "      <td>14.847</td>\n",
       "      <td>14.810</td>\n",
       "      <td>14.811</td>\n",
       "      <td>415800</td>\n",
       "      <td></td>\n",
       "    </tr>\n",
       "  </tbody>\n",
       "</table>\n",
       "</div>"
      ],
      "text/plain": [
       "                  Date    Open    High     Low   Close  Volume News\n",
       "0  2015-01-02 09:30:00  14.858  14.883  14.810  14.865  428550     \n",
       "1  2015-01-02 09:31:00  14.862  14.876  14.813  14.845  152475     \n",
       "2  2015-01-02 09:32:00  14.845  14.867  14.832  14.834  165600     \n",
       "3  2015-01-02 09:33:00  14.840  14.847  14.820  14.820   60000     \n",
       "4  2015-01-02 09:34:00  14.820  14.847  14.810  14.811  415800     "
      ]
     },
     "execution_count": 34,
     "metadata": {},
     "output_type": "execute_result"
    }
   ],
   "source": [
    "tesla_df.head()"
   ]
  },
  {
   "cell_type": "code",
   "execution_count": 35,
   "metadata": {
    "colab": {
     "base_uri": "https://localhost:8080/"
    },
    "executionInfo": {
     "elapsed": 267,
     "status": "ok",
     "timestamp": 1708395259283,
     "user": {
      "displayName": "Vinh Quoc Bui",
      "userId": "03284616215766135350"
     },
     "user_tz": 480
    },
    "id": "j7YmE3bMsSmB",
    "outputId": "fddcff68-2ab4-4ec3-fb70-2d60587ea239"
   },
   "outputs": [
    {
     "name": "stdout",
     "output_type": "stream",
     "text": [
      "<class 'pandas.core.frame.DataFrame'>\n",
      "RangeIndex: 865671 entries, 0 to 865670\n",
      "Data columns (total 7 columns):\n",
      " #   Column  Non-Null Count   Dtype         \n",
      "---  ------  --------------   -----         \n",
      " 0   Date    865671 non-null  datetime64[ns]\n",
      " 1   Open    865671 non-null  float64       \n",
      " 2   High    865671 non-null  float64       \n",
      " 3   Low     865671 non-null  float64       \n",
      " 4   Close   865671 non-null  float64       \n",
      " 5   Volume  865671 non-null  int64         \n",
      " 6   News    865671 non-null  object        \n",
      "dtypes: datetime64[ns](1), float64(4), int64(1), object(1)\n",
      "memory usage: 46.2+ MB\n"
     ]
    }
   ],
   "source": [
    "#It will be useful to convert the Date strings to Datetime objects.\n",
    "apple_df[\"Date\"] = pd.to_datetime(apple_df[\"Date\"])\n",
    "apple_df.info()"
   ]
  },
  {
   "cell_type": "code",
   "execution_count": 36,
   "metadata": {
    "colab": {
     "base_uri": "https://localhost:8080/"
    },
    "executionInfo": {
     "elapsed": 4,
     "status": "ok",
     "timestamp": 1708390861673,
     "user": {
      "displayName": "Anson Bryan Quon",
      "userId": "01299936154298784774"
     },
     "user_tz": 480
    },
    "id": "mj6dPrFJr_KZ",
    "outputId": "5ca7dfd2-5f4f-4221-8b1f-d4a0ec6001ac"
   },
   "outputs": [
    {
     "data": {
      "text/plain": [
       "0   2015-01-02 09:30:00\n",
       "1   2015-01-02 09:31:00\n",
       "2   2015-01-02 09:32:00\n",
       "3   2015-01-02 09:33:00\n",
       "4   2015-01-02 09:34:00\n",
       "Name: Date, dtype: datetime64[ns]"
      ]
     },
     "execution_count": 36,
     "metadata": {},
     "output_type": "execute_result"
    }
   ],
   "source": [
    "apple_df[\"Date\"].head()"
   ]
  },
  {
   "cell_type": "markdown",
   "metadata": {},
   "source": [
    "## Transform minutely data to daily data."
   ]
  },
  {
   "cell_type": "code",
   "execution_count": 37,
   "metadata": {
    "executionInfo": {
     "elapsed": 540,
     "status": "ok",
     "timestamp": 1708396575717,
     "user": {
      "displayName": "Vinh Quoc Bui",
      "userId": "03284616215766135350"
     },
     "user_tz": 480
    },
    "id": "LikKTMdRDtVZ"
   },
   "outputs": [],
   "source": [
    "def preprocess(df: pd.DataFrame) -> pd.DataFrame:\n",
    "    df[\"Date\"] = pd.to_datetime(df['Date'])\n",
    "    df[\"Date\"] = df[\"Date\"].apply(lambda x: x.date())\n",
    "    last_close = df.groupby(\"Date\")['Close'].last()\n",
    "    first_open = df.groupby(\"Date\")['Close'].first()\n",
    "    lowest = df.groupby(\"Date\")['Low'].min()\n",
    "    highest = df.groupby(\"Date\")['High'].max()\n",
    "    \n",
    "    total_vol = df.groupby(\"Date\")['Volume'].sum()\n",
    "    mean_vol = df.groupby(\"Date\")['Volume'].mean()\n",
    "    std_vol = df.groupby(\"Date\")['Volume'].std()\n",
    "    news = df.groupby(\"Date\")['News'].last()\n",
    "    result = pd.DataFrame({\n",
    "        \"close\": last_close,\n",
    "        \"open\": first_open,\n",
    "        \"lowest\": lowest,\n",
    "        \"highest\": highest,\n",
    "        \"total_vol\": total_vol,\n",
    "        \"mean_vol\": mean_vol,\n",
    "        \"std_vol\": std_vol,\n",
    "        \"news\": news,\n",
    "    })\n",
    "    result.reset_index(inplace = True)\n",
    "    result[\"Date\"] = pd.to_datetime(result['Date'])\n",
    "    result[\"month\"] = result[\"Date\"].dt.month.astype('category')\n",
    "    result[\"day\"] = result[\"Date\"].dt.day.astype('category')\n",
    "    result[\"is_up\"] = (result[\"close\"].diff(-1) < 0).astype(int)\n",
    "    \n",
    "    \n",
    "    return result\n"
   ]
  },
  {
   "cell_type": "code",
   "execution_count": 38,
   "metadata": {
    "executionInfo": {
     "elapsed": 2,
     "status": "ok",
     "timestamp": 1708396575717,
     "user": {
      "displayName": "Vinh Quoc Bui",
      "userId": "03284616215766135350"
     },
     "user_tz": 480
    },
    "id": "wgin0TCKDtTP"
   },
   "outputs": [],
   "source": [
    "data_apple = preprocess(apple_df)\n",
    "data_tesla = preprocess(tesla_df)"
   ]
  },
  {
   "cell_type": "code",
   "execution_count": 39,
   "metadata": {
    "id": "vm4vs6CjDtMM"
   },
   "outputs": [],
   "source": [
    "data_apple.to_csv(\"./apple_processed_data.csv\")\n",
    "data_tesla.to_csv(\"./tesla_processed_data.csv\")"
   ]
  },
  {
   "cell_type": "code",
   "execution_count": 40,
   "metadata": {
    "id": "hPTKVeJ3DtII"
   },
   "outputs": [
    {
     "data": {
      "text/html": [
       "<div>\n",
       "<style scoped>\n",
       "    .dataframe tbody tr th:only-of-type {\n",
       "        vertical-align: middle;\n",
       "    }\n",
       "\n",
       "    .dataframe tbody tr th {\n",
       "        vertical-align: top;\n",
       "    }\n",
       "\n",
       "    .dataframe thead th {\n",
       "        text-align: right;\n",
       "    }\n",
       "</style>\n",
       "<table border=\"1\" class=\"dataframe\">\n",
       "  <thead>\n",
       "    <tr style=\"text-align: right;\">\n",
       "      <th></th>\n",
       "      <th>Date</th>\n",
       "      <th>close</th>\n",
       "      <th>open</th>\n",
       "      <th>lowest</th>\n",
       "      <th>highest</th>\n",
       "      <th>total_vol</th>\n",
       "      <th>mean_vol</th>\n",
       "      <th>std_vol</th>\n",
       "      <th>news</th>\n",
       "      <th>month</th>\n",
       "      <th>day</th>\n",
       "      <th>is_up</th>\n",
       "    </tr>\n",
       "  </thead>\n",
       "  <tbody>\n",
       "    <tr>\n",
       "      <th>0</th>\n",
       "      <td>2015-01-02</td>\n",
       "      <td>24.490</td>\n",
       "      <td>24.925</td>\n",
       "      <td>24.026</td>\n",
       "      <td>24.992</td>\n",
       "      <td>188181988</td>\n",
       "      <td>482517.917949</td>\n",
       "      <td>453958.983288</td>\n",
       "      <td>[\"Is Xiaomi's first laptop a MacBook Air knock...</td>\n",
       "      <td>1</td>\n",
       "      <td>2</td>\n",
       "      <td>0</td>\n",
       "    </tr>\n",
       "    <tr>\n",
       "      <th>1</th>\n",
       "      <td>2015-01-05</td>\n",
       "      <td>23.807</td>\n",
       "      <td>24.192</td>\n",
       "      <td>23.592</td>\n",
       "      <td>24.366</td>\n",
       "      <td>200586492</td>\n",
       "      <td>514324.338462</td>\n",
       "      <td>426711.446836</td>\n",
       "      <td>[\"Is Xiaomi's first laptop a MacBook Air knock...</td>\n",
       "      <td>1</td>\n",
       "      <td>5</td>\n",
       "      <td>0</td>\n",
       "    </tr>\n",
       "    <tr>\n",
       "      <th>2</th>\n",
       "      <td>2015-01-06</td>\n",
       "      <td>23.802</td>\n",
       "      <td>23.842</td>\n",
       "      <td>23.417</td>\n",
       "      <td>24.092</td>\n",
       "      <td>237766160</td>\n",
       "      <td>609656.820513</td>\n",
       "      <td>452106.984355</td>\n",
       "      <td>[\"Is Xiaomi's first laptop a MacBook Air knock...</td>\n",
       "      <td>1</td>\n",
       "      <td>6</td>\n",
       "      <td>1</td>\n",
       "    </tr>\n",
       "    <tr>\n",
       "      <th>3</th>\n",
       "      <td>2015-01-07</td>\n",
       "      <td>24.143</td>\n",
       "      <td>24.017</td>\n",
       "      <td>23.879</td>\n",
       "      <td>24.265</td>\n",
       "      <td>137809632</td>\n",
       "      <td>353358.030769</td>\n",
       "      <td>315345.332594</td>\n",
       "      <td>Apple aims at bendable devices\\nA newly issued...</td>\n",
       "      <td>1</td>\n",
       "      <td>7</td>\n",
       "      <td>1</td>\n",
       "    </tr>\n",
       "    <tr>\n",
       "      <th>4</th>\n",
       "      <td>2015-01-08</td>\n",
       "      <td>25.066</td>\n",
       "      <td>24.391</td>\n",
       "      <td>24.328</td>\n",
       "      <td>25.151</td>\n",
       "      <td>201020076</td>\n",
       "      <td>515436.092308</td>\n",
       "      <td>344928.788130</td>\n",
       "      <td>Xiaomi's buying spree gives Apple, Samsung mor...</td>\n",
       "      <td>1</td>\n",
       "      <td>8</td>\n",
       "      <td>1</td>\n",
       "    </tr>\n",
       "  </tbody>\n",
       "</table>\n",
       "</div>"
      ],
      "text/plain": [
       "        Date   close    open  lowest  highest  total_vol       mean_vol  \\\n",
       "0 2015-01-02  24.490  24.925  24.026   24.992  188181988  482517.917949   \n",
       "1 2015-01-05  23.807  24.192  23.592   24.366  200586492  514324.338462   \n",
       "2 2015-01-06  23.802  23.842  23.417   24.092  237766160  609656.820513   \n",
       "3 2015-01-07  24.143  24.017  23.879   24.265  137809632  353358.030769   \n",
       "4 2015-01-08  25.066  24.391  24.328   25.151  201020076  515436.092308   \n",
       "\n",
       "         std_vol                                               news month day  \\\n",
       "0  453958.983288  [\"Is Xiaomi's first laptop a MacBook Air knock...     1   2   \n",
       "1  426711.446836  [\"Is Xiaomi's first laptop a MacBook Air knock...     1   5   \n",
       "2  452106.984355  [\"Is Xiaomi's first laptop a MacBook Air knock...     1   6   \n",
       "3  315345.332594  Apple aims at bendable devices\\nA newly issued...     1   7   \n",
       "4  344928.788130  Xiaomi's buying spree gives Apple, Samsung mor...     1   8   \n",
       "\n",
       "   is_up  \n",
       "0      0  \n",
       "1      0  \n",
       "2      1  \n",
       "3      1  \n",
       "4      1  "
      ]
     },
     "execution_count": 40,
     "metadata": {},
     "output_type": "execute_result"
    }
   ],
   "source": [
    "data_apple.head()"
   ]
  },
  {
   "cell_type": "code",
   "execution_count": 41,
   "metadata": {},
   "outputs": [
    {
     "data": {
      "text/plain": [
       "is_up\n",
       "1    1170\n",
       "0    1053\n",
       "Name: count, dtype: int64"
      ]
     },
     "execution_count": 41,
     "metadata": {},
     "output_type": "execute_result"
    }
   ],
   "source": [
    "temp = data_apple['is_up'].value_counts()\n",
    "temp"
   ]
  },
  {
   "cell_type": "code",
   "execution_count": 42,
   "metadata": {},
   "outputs": [
    {
     "name": "stdout",
     "output_type": "stream",
     "text": [
      "52.63157894736842\n"
     ]
    }
   ],
   "source": [
    "baseline = temp[1] / np.sum(temp)\n",
    "print(baseline * 100)"
   ]
  },
  {
   "cell_type": "code",
   "execution_count": 43,
   "metadata": {},
   "outputs": [
    {
     "name": "stdout",
     "output_type": "stream",
     "text": [
      "51.956815114709855\n"
     ]
    }
   ],
   "source": [
    "temp = data_tesla['is_up'].value_counts()\n",
    "baseline = temp[1] / np.sum(temp)\n",
    "print(baseline * 100)"
   ]
  },
  {
   "cell_type": "code",
   "execution_count": null,
   "metadata": {},
   "outputs": [],
   "source": []
  }
 ],
 "metadata": {
  "colab": {
   "provenance": []
  },
  "kernelspec": {
   "display_name": "Python 3 (ipykernel)",
   "language": "python",
   "name": "python3"
  },
  "language_info": {
   "codemirror_mode": {
    "name": "ipython",
    "version": 3
   },
   "file_extension": ".py",
   "mimetype": "text/x-python",
   "name": "python",
   "nbconvert_exporter": "python",
   "pygments_lexer": "ipython3",
   "version": "3.10.13"
  }
 },
 "nbformat": 4,
 "nbformat_minor": 4
}
