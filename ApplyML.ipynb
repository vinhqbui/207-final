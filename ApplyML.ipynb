{
 "cells": [
  {
   "cell_type": "code",
   "execution_count": 1,
   "metadata": {},
   "outputs": [
    {
     "name": "stderr",
     "output_type": "stream",
     "text": [
      "2024-03-17 00:16:33.701081: I tensorflow/core/util/port.cc:113] oneDNN custom operations are on. You may see slightly different numerical results due to floating-point round-off errors from different computation orders. To turn them off, set the environment variable `TF_ENABLE_ONEDNN_OPTS=0`.\n",
      "2024-03-17 00:16:34.236937: E external/local_xla/xla/stream_executor/cuda/cuda_dnn.cc:9261] Unable to register cuDNN factory: Attempting to register factory for plugin cuDNN when one has already been registered\n",
      "2024-03-17 00:16:34.236968: E external/local_xla/xla/stream_executor/cuda/cuda_fft.cc:607] Unable to register cuFFT factory: Attempting to register factory for plugin cuFFT when one has already been registered\n",
      "2024-03-17 00:16:34.335740: E external/local_xla/xla/stream_executor/cuda/cuda_blas.cc:1515] Unable to register cuBLAS factory: Attempting to register factory for plugin cuBLAS when one has already been registered\n",
      "2024-03-17 00:16:34.522628: I tensorflow/core/platform/cpu_feature_guard.cc:182] This TensorFlow binary is optimized to use available CPU instructions in performance-critical operations.\n",
      "To enable the following instructions: AVX2 AVX_VNNI FMA, in other operations, rebuild TensorFlow with the appropriate compiler flags.\n",
      "2024-03-17 00:16:35.555821: W tensorflow/compiler/tf2tensorrt/utils/py_utils.cc:38] TF-TRT Warning: Could not find TensorRT\n"
     ]
    }
   ],
   "source": [
    "from sklearn.linear_model import LogisticRegression\n",
    "from sklearn.neighbors import KNeighborsClassifier\n",
    "from sklearn.svm import SVC\n",
    "from sklearn.naive_bayes import BernoulliNB, GaussianNB\n",
    "\n",
    "from sklearn.ensemble import RandomForestClassifier, AdaBoostClassifier\n",
    "from catboost import CatBoostClassifier\n",
    "import xgboost\n",
    "from xgboost import  XGBClassifier\n",
    "\n",
    "from sklearn.metrics import accuracy_score\n",
    "from sklearn.metrics import confusion_matrix, ConfusionMatrixDisplay\n",
    "from sklearn.preprocessing import StandardScaler, MinMaxScaler\n",
    "\n",
    "import tensorflow as tf\n",
    "from tensorflow.keras.models import Sequential\n",
    "from tensorflow.keras.layers import *\n",
    "from tensorflow.keras.preprocessing.sequence import TimeseriesGenerator\n",
    "from tensorflow.keras.utils import to_categorical\n",
    "\n",
    "import pandas as pd\n",
    "import numpy as np\n",
    "from matplotlib import pyplot as plt\n",
    "import seaborn as sns  # for nicer plots"
   ]
  },
  {
   "cell_type": "code",
   "execution_count": 2,
   "metadata": {},
   "outputs": [],
   "source": [
    "apple_data = pd.read_csv(\"apple_processed_data.csv\", index_col=0)\n",
    "tesla_data = pd.read_csv(\"tesla_processed_data.csv\", index_col=0)\n"
   ]
  },
  {
   "cell_type": "code",
   "execution_count": 3,
   "metadata": {},
   "outputs": [
    {
     "data": {
      "text/html": [
       "<div>\n",
       "<style scoped>\n",
       "    .dataframe tbody tr th:only-of-type {\n",
       "        vertical-align: middle;\n",
       "    }\n",
       "\n",
       "    .dataframe tbody tr th {\n",
       "        vertical-align: top;\n",
       "    }\n",
       "\n",
       "    .dataframe thead th {\n",
       "        text-align: right;\n",
       "    }\n",
       "</style>\n",
       "<table border=\"1\" class=\"dataframe\">\n",
       "  <thead>\n",
       "    <tr style=\"text-align: right;\">\n",
       "      <th></th>\n",
       "      <th>Date</th>\n",
       "      <th>close</th>\n",
       "      <th>open</th>\n",
       "      <th>lowest</th>\n",
       "      <th>highest</th>\n",
       "      <th>total_vol</th>\n",
       "      <th>mean_vol</th>\n",
       "      <th>std_vol</th>\n",
       "      <th>news</th>\n",
       "      <th>month</th>\n",
       "      <th>day</th>\n",
       "      <th>is_up</th>\n",
       "    </tr>\n",
       "  </thead>\n",
       "  <tbody>\n",
       "    <tr>\n",
       "      <th>0</th>\n",
       "      <td>2015-01-02</td>\n",
       "      <td>14.613</td>\n",
       "      <td>14.865</td>\n",
       "      <td>14.217</td>\n",
       "      <td>14.883</td>\n",
       "      <td>59157390</td>\n",
       "      <td>151685.615385</td>\n",
       "      <td>155760.920466</td>\n",
       "      <td></td>\n",
       "      <td>1</td>\n",
       "      <td>2</td>\n",
       "      <td>0</td>\n",
       "    </tr>\n",
       "    <tr>\n",
       "      <th>1</th>\n",
       "      <td>2015-01-05</td>\n",
       "      <td>14.001</td>\n",
       "      <td>14.351</td>\n",
       "      <td>13.811</td>\n",
       "      <td>14.433</td>\n",
       "      <td>68662800</td>\n",
       "      <td>176058.461538</td>\n",
       "      <td>168290.638752</td>\n",
       "      <td></td>\n",
       "      <td>1</td>\n",
       "      <td>5</td>\n",
       "      <td>1</td>\n",
       "    </tr>\n",
       "    <tr>\n",
       "      <th>2</th>\n",
       "      <td>2015-01-06</td>\n",
       "      <td>14.079</td>\n",
       "      <td>14.003</td>\n",
       "      <td>13.614</td>\n",
       "      <td>14.280</td>\n",
       "      <td>80752635</td>\n",
       "      <td>207058.038462</td>\n",
       "      <td>152662.243747</td>\n",
       "      <td></td>\n",
       "      <td>1</td>\n",
       "      <td>6</td>\n",
       "      <td>0</td>\n",
       "    </tr>\n",
       "    <tr>\n",
       "      <th>3</th>\n",
       "      <td>2015-01-07</td>\n",
       "      <td>14.054</td>\n",
       "      <td>14.219</td>\n",
       "      <td>13.985</td>\n",
       "      <td>14.319</td>\n",
       "      <td>38728110</td>\n",
       "      <td>99558.123393</td>\n",
       "      <td>100907.065350</td>\n",
       "      <td>['BMW revives wireless charging to reduce elec...</td>\n",
       "      <td>1</td>\n",
       "      <td>7</td>\n",
       "      <td>0</td>\n",
       "    </tr>\n",
       "    <tr>\n",
       "      <th>4</th>\n",
       "      <td>2015-01-08</td>\n",
       "      <td>14.037</td>\n",
       "      <td>14.216</td>\n",
       "      <td>14.001</td>\n",
       "      <td>14.253</td>\n",
       "      <td>43839960</td>\n",
       "      <td>112699.125964</td>\n",
       "      <td>130930.670726</td>\n",
       "      <td>['How oil at $50 could change almost everythin...</td>\n",
       "      <td>1</td>\n",
       "      <td>8</td>\n",
       "      <td>0</td>\n",
       "    </tr>\n",
       "  </tbody>\n",
       "</table>\n",
       "</div>"
      ],
      "text/plain": [
       "         Date   close    open  lowest  highest  total_vol       mean_vol  \\\n",
       "0  2015-01-02  14.613  14.865  14.217   14.883   59157390  151685.615385   \n",
       "1  2015-01-05  14.001  14.351  13.811   14.433   68662800  176058.461538   \n",
       "2  2015-01-06  14.079  14.003  13.614   14.280   80752635  207058.038462   \n",
       "3  2015-01-07  14.054  14.219  13.985   14.319   38728110   99558.123393   \n",
       "4  2015-01-08  14.037  14.216  14.001   14.253   43839960  112699.125964   \n",
       "\n",
       "         std_vol                                               news  month  \\\n",
       "0  155760.920466                                                         1   \n",
       "1  168290.638752                                                         1   \n",
       "2  152662.243747                                                         1   \n",
       "3  100907.065350  ['BMW revives wireless charging to reduce elec...      1   \n",
       "4  130930.670726  ['How oil at $50 could change almost everythin...      1   \n",
       "\n",
       "   day  is_up  \n",
       "0    2      0  \n",
       "1    5      1  \n",
       "2    6      0  \n",
       "3    7      0  \n",
       "4    8      0  "
      ]
     },
     "execution_count": 3,
     "metadata": {},
     "output_type": "execute_result"
    }
   ],
   "source": [
    "tesla_data.head()"
   ]
  },
  {
   "cell_type": "code",
   "execution_count": 4,
   "metadata": {},
   "outputs": [],
   "source": [
    "def train_valid_test(data, target, split):\n",
    "    train, valid, test = split\n",
    "    n = data.shape[0]\n",
    "    train_end = int(train * n)\n",
    "    valid_end = int(n * (train + valid))\n",
    "    print(valid_end)\n",
    "    x_train, y_train = data[:train_end], target[:train_end]\n",
    "    x_val, y_val = data[train_end:valid_end], target[train_end:valid_end]\n",
    "    x_test, y_test = data[valid_end:], target[valid_end:]\n",
    "\n",
    "    return x_train, y_train, x_val, y_val, x_test, y_test"
   ]
  },
  {
   "cell_type": "code",
   "execution_count": 5,
   "metadata": {},
   "outputs": [],
   "source": [
    "def preprocess_data(data):\n",
    "    lag = 7\n",
    "    result = data.copy()\n",
    "    result['ema'] = result['close'].ewm(span=lag).mean()\n",
    "    for i in range(1, lag+1):\n",
    "        result['lag_' + str(i)] = result['close'].shift(i)\n",
    "\n",
    "    result = result.iloc[lag:]\n",
    "    # Assuming df is your DataFrame and it has 'day' and 'month' columns\n",
    "    result['month_sin'] = np.sin(2 * np.pi * result['month']/12)\n",
    "    result['month_cos'] = np.cos(2 * np.pi * result['month']/12)\n",
    "    result['day_sin'] = np.sin(2 * np.pi * result['day']/31)\n",
    "    result['day_cos'] = np.cos(2 * np.pi * result['day']/31)\n",
    "    return result"
   ]
  },
  {
   "cell_type": "code",
   "execution_count": 6,
   "metadata": {},
   "outputs": [
    {
     "name": "stderr",
     "output_type": "stream",
     "text": [
      "/tmp/ipykernel_1405/898176073.py:2: SettingWithCopyWarning: \n",
      "A value is trying to be set on a copy of a slice from a DataFrame.\n",
      "Try using .loc[row_indexer,col_indexer] = value instead\n",
      "\n",
      "See the caveats in the documentation: https://pandas.pydata.org/pandas-docs/stable/user_guide/indexing.html#returning-a-view-versus-a-copy\n",
      "  data['month_sin'] = np.sin(2 * np.pi * data['month']/12)\n",
      "/tmp/ipykernel_1405/898176073.py:3: SettingWithCopyWarning: \n",
      "A value is trying to be set on a copy of a slice from a DataFrame.\n",
      "Try using .loc[row_indexer,col_indexer] = value instead\n",
      "\n",
      "See the caveats in the documentation: https://pandas.pydata.org/pandas-docs/stable/user_guide/indexing.html#returning-a-view-versus-a-copy\n",
      "  data['month_cos'] = np.cos(2 * np.pi * data['month']/12)\n",
      "/tmp/ipykernel_1405/898176073.py:4: SettingWithCopyWarning: \n",
      "A value is trying to be set on a copy of a slice from a DataFrame.\n",
      "Try using .loc[row_indexer,col_indexer] = value instead\n",
      "\n",
      "See the caveats in the documentation: https://pandas.pydata.org/pandas-docs/stable/user_guide/indexing.html#returning-a-view-versus-a-copy\n",
      "  data['day_sin'] = np.sin(2 * np.pi * data['day']/31)\n",
      "/tmp/ipykernel_1405/898176073.py:5: SettingWithCopyWarning: \n",
      "A value is trying to be set on a copy of a slice from a DataFrame.\n",
      "Try using .loc[row_indexer,col_indexer] = value instead\n",
      "\n",
      "See the caveats in the documentation: https://pandas.pydata.org/pandas-docs/stable/user_guide/indexing.html#returning-a-view-versus-a-copy\n",
      "  data['day_cos'] = np.cos(2 * np.pi * data['day']/31)\n"
     ]
    }
   ],
   "source": [
    "data = preprocess_data(apple_data)"
   ]
  },
  {
   "cell_type": "code",
   "execution_count": 7,
   "metadata": {},
   "outputs": [
    {
     "data": {
      "text/html": [
       "<div>\n",
       "<style scoped>\n",
       "    .dataframe tbody tr th:only-of-type {\n",
       "        vertical-align: middle;\n",
       "    }\n",
       "\n",
       "    .dataframe tbody tr th {\n",
       "        vertical-align: top;\n",
       "    }\n",
       "\n",
       "    .dataframe thead th {\n",
       "        text-align: right;\n",
       "    }\n",
       "</style>\n",
       "<table border=\"1\" class=\"dataframe\">\n",
       "  <thead>\n",
       "    <tr style=\"text-align: right;\">\n",
       "      <th></th>\n",
       "      <th>Date</th>\n",
       "      <th>close</th>\n",
       "      <th>open</th>\n",
       "      <th>lowest</th>\n",
       "      <th>highest</th>\n",
       "      <th>total_vol</th>\n",
       "      <th>mean_vol</th>\n",
       "      <th>std_vol</th>\n",
       "      <th>news</th>\n",
       "      <th>month</th>\n",
       "      <th>...</th>\n",
       "      <th>lag_2</th>\n",
       "      <th>lag_3</th>\n",
       "      <th>lag_4</th>\n",
       "      <th>lag_5</th>\n",
       "      <th>lag_6</th>\n",
       "      <th>lag_7</th>\n",
       "      <th>month_sin</th>\n",
       "      <th>month_cos</th>\n",
       "      <th>day_sin</th>\n",
       "      <th>day_cos</th>\n",
       "    </tr>\n",
       "  </thead>\n",
       "  <tbody>\n",
       "    <tr>\n",
       "      <th>7</th>\n",
       "      <td>2015-01-13</td>\n",
       "      <td>24.697</td>\n",
       "      <td>24.958</td>\n",
       "      <td>24.375</td>\n",
       "      <td>25.297</td>\n",
       "      <td>242520180</td>\n",
       "      <td>621846.615385</td>\n",
       "      <td>402625.780292</td>\n",
       "      <td>Zomato to buy US food portal Urbanspoon for $6...</td>\n",
       "      <td>1</td>\n",
       "      <td>...</td>\n",
       "      <td>25.095</td>\n",
       "      <td>25.066</td>\n",
       "      <td>24.143</td>\n",
       "      <td>23.802</td>\n",
       "      <td>23.807</td>\n",
       "      <td>24.490</td>\n",
       "      <td>0.5</td>\n",
       "      <td>0.866025</td>\n",
       "      <td>0.485302</td>\n",
       "      <td>-0.874347</td>\n",
       "    </tr>\n",
       "    <tr>\n",
       "      <th>8</th>\n",
       "      <td>2015-01-14</td>\n",
       "      <td>24.600</td>\n",
       "      <td>24.468</td>\n",
       "      <td>24.283</td>\n",
       "      <td>24.779</td>\n",
       "      <td>166619520</td>\n",
       "      <td>427229.538462</td>\n",
       "      <td>308052.905151</td>\n",
       "      <td>['60,000 mobiles sold in a flash sale but Amaz...</td>\n",
       "      <td>1</td>\n",
       "      <td>...</td>\n",
       "      <td>24.481</td>\n",
       "      <td>25.095</td>\n",
       "      <td>25.066</td>\n",
       "      <td>24.143</td>\n",
       "      <td>23.802</td>\n",
       "      <td>23.807</td>\n",
       "      <td>0.5</td>\n",
       "      <td>0.866025</td>\n",
       "      <td>0.299363</td>\n",
       "      <td>-0.954139</td>\n",
       "    </tr>\n",
       "    <tr>\n",
       "      <th>9</th>\n",
       "      <td>2015-01-15</td>\n",
       "      <td>23.936</td>\n",
       "      <td>24.521</td>\n",
       "      <td>23.871</td>\n",
       "      <td>24.682</td>\n",
       "      <td>205693220</td>\n",
       "      <td>527418.512821</td>\n",
       "      <td>391931.336059</td>\n",
       "      <td>['60,000 mobiles sold in a flash sale but Amaz...</td>\n",
       "      <td>1</td>\n",
       "      <td>...</td>\n",
       "      <td>24.697</td>\n",
       "      <td>24.481</td>\n",
       "      <td>25.095</td>\n",
       "      <td>25.066</td>\n",
       "      <td>24.143</td>\n",
       "      <td>23.802</td>\n",
       "      <td>0.5</td>\n",
       "      <td>0.866025</td>\n",
       "      <td>0.101168</td>\n",
       "      <td>-0.994869</td>\n",
       "    </tr>\n",
       "    <tr>\n",
       "      <th>10</th>\n",
       "      <td>2015-01-16</td>\n",
       "      <td>23.746</td>\n",
       "      <td>23.990</td>\n",
       "      <td>23.545</td>\n",
       "      <td>24.126</td>\n",
       "      <td>231737276</td>\n",
       "      <td>594198.143590</td>\n",
       "      <td>691319.500876</td>\n",
       "      <td>['60,000 mobiles sold in a flash sale but Amaz...</td>\n",
       "      <td>1</td>\n",
       "      <td>...</td>\n",
       "      <td>24.600</td>\n",
       "      <td>24.697</td>\n",
       "      <td>24.481</td>\n",
       "      <td>25.095</td>\n",
       "      <td>25.066</td>\n",
       "      <td>24.143</td>\n",
       "      <td>0.5</td>\n",
       "      <td>0.866025</td>\n",
       "      <td>-0.101168</td>\n",
       "      <td>-0.994869</td>\n",
       "    </tr>\n",
       "    <tr>\n",
       "      <th>11</th>\n",
       "      <td>2015-01-20</td>\n",
       "      <td>24.358</td>\n",
       "      <td>24.051</td>\n",
       "      <td>23.836</td>\n",
       "      <td>24.395</td>\n",
       "      <td>155383068</td>\n",
       "      <td>398418.123077</td>\n",
       "      <td>419122.611125</td>\n",
       "      <td>['60,000 mobiles sold in a flash sale but Amaz...</td>\n",
       "      <td>1</td>\n",
       "      <td>...</td>\n",
       "      <td>23.936</td>\n",
       "      <td>24.600</td>\n",
       "      <td>24.697</td>\n",
       "      <td>24.481</td>\n",
       "      <td>25.095</td>\n",
       "      <td>25.066</td>\n",
       "      <td>0.5</td>\n",
       "      <td>0.866025</td>\n",
       "      <td>-0.790776</td>\n",
       "      <td>-0.612106</td>\n",
       "    </tr>\n",
       "  </tbody>\n",
       "</table>\n",
       "<p>5 rows × 24 columns</p>\n",
       "</div>"
      ],
      "text/plain": [
       "          Date   close    open  lowest  highest  total_vol       mean_vol  \\\n",
       "7   2015-01-13  24.697  24.958  24.375   25.297  242520180  621846.615385   \n",
       "8   2015-01-14  24.600  24.468  24.283   24.779  166619520  427229.538462   \n",
       "9   2015-01-15  23.936  24.521  23.871   24.682  205693220  527418.512821   \n",
       "10  2015-01-16  23.746  23.990  23.545   24.126  231737276  594198.143590   \n",
       "11  2015-01-20  24.358  24.051  23.836   24.395  155383068  398418.123077   \n",
       "\n",
       "          std_vol                                               news  month  \\\n",
       "7   402625.780292  Zomato to buy US food portal Urbanspoon for $6...      1   \n",
       "8   308052.905151  ['60,000 mobiles sold in a flash sale but Amaz...      1   \n",
       "9   391931.336059  ['60,000 mobiles sold in a flash sale but Amaz...      1   \n",
       "10  691319.500876  ['60,000 mobiles sold in a flash sale but Amaz...      1   \n",
       "11  419122.611125  ['60,000 mobiles sold in a flash sale but Amaz...      1   \n",
       "\n",
       "    ...   lag_2   lag_3   lag_4   lag_5   lag_6   lag_7  month_sin  month_cos  \\\n",
       "7   ...  25.095  25.066  24.143  23.802  23.807  24.490        0.5   0.866025   \n",
       "8   ...  24.481  25.095  25.066  24.143  23.802  23.807        0.5   0.866025   \n",
       "9   ...  24.697  24.481  25.095  25.066  24.143  23.802        0.5   0.866025   \n",
       "10  ...  24.600  24.697  24.481  25.095  25.066  24.143        0.5   0.866025   \n",
       "11  ...  23.936  24.600  24.697  24.481  25.095  25.066        0.5   0.866025   \n",
       "\n",
       "     day_sin   day_cos  \n",
       "7   0.485302 -0.874347  \n",
       "8   0.299363 -0.954139  \n",
       "9   0.101168 -0.994869  \n",
       "10 -0.101168 -0.994869  \n",
       "11 -0.790776 -0.612106  \n",
       "\n",
       "[5 rows x 24 columns]"
      ]
     },
     "execution_count": 7,
     "metadata": {},
     "output_type": "execute_result"
    }
   ],
   "source": [
    "data.head()"
   ]
  },
  {
   "cell_type": "code",
   "execution_count": 8,
   "metadata": {},
   "outputs": [],
   "source": [
    "predictors = data.drop(['is_up', 'Date', 'news', 'day', 'month', 'total_vol', 'mean_vol', 'std_vol', 'open', 'lowest', 'highest'], axis=1)\n",
    "target = data['is_up']"
   ]
  },
  {
   "cell_type": "code",
   "execution_count": 9,
   "metadata": {},
   "outputs": [
    {
     "name": "stdout",
     "output_type": "stream",
     "text": [
      "1772\n"
     ]
    }
   ],
   "source": [
    "x_train, y_train, x_val, y_val, x_test, y_test = train_valid_test(predictors, target, (0.6, 0.2, 0.2))\n"
   ]
  },
  {
   "cell_type": "code",
   "execution_count": 10,
   "metadata": {},
   "outputs": [
    {
     "data": {
      "text/html": [
       "<div>\n",
       "<style scoped>\n",
       "    .dataframe tbody tr th:only-of-type {\n",
       "        vertical-align: middle;\n",
       "    }\n",
       "\n",
       "    .dataframe tbody tr th {\n",
       "        vertical-align: top;\n",
       "    }\n",
       "\n",
       "    .dataframe thead th {\n",
       "        text-align: right;\n",
       "    }\n",
       "</style>\n",
       "<table border=\"1\" class=\"dataframe\">\n",
       "  <thead>\n",
       "    <tr style=\"text-align: right;\">\n",
       "      <th></th>\n",
       "      <th>close</th>\n",
       "      <th>ema</th>\n",
       "      <th>lag_1</th>\n",
       "      <th>lag_2</th>\n",
       "      <th>lag_3</th>\n",
       "      <th>lag_4</th>\n",
       "      <th>lag_5</th>\n",
       "      <th>lag_6</th>\n",
       "      <th>lag_7</th>\n",
       "      <th>month_sin</th>\n",
       "      <th>month_cos</th>\n",
       "      <th>day_sin</th>\n",
       "      <th>day_cos</th>\n",
       "    </tr>\n",
       "  </thead>\n",
       "  <tbody>\n",
       "    <tr>\n",
       "      <th>7</th>\n",
       "      <td>24.697</td>\n",
       "      <td>24.598054</td>\n",
       "      <td>24.481</td>\n",
       "      <td>25.095</td>\n",
       "      <td>25.066</td>\n",
       "      <td>24.143</td>\n",
       "      <td>23.802</td>\n",
       "      <td>23.807</td>\n",
       "      <td>24.490</td>\n",
       "      <td>0.5</td>\n",
       "      <td>0.866025</td>\n",
       "      <td>0.485302</td>\n",
       "      <td>-0.874347</td>\n",
       "    </tr>\n",
       "    <tr>\n",
       "      <th>8</th>\n",
       "      <td>24.600</td>\n",
       "      <td>24.598580</td>\n",
       "      <td>24.697</td>\n",
       "      <td>24.481</td>\n",
       "      <td>25.095</td>\n",
       "      <td>25.066</td>\n",
       "      <td>24.143</td>\n",
       "      <td>23.802</td>\n",
       "      <td>23.807</td>\n",
       "      <td>0.5</td>\n",
       "      <td>0.866025</td>\n",
       "      <td>0.299363</td>\n",
       "      <td>-0.954139</td>\n",
       "    </tr>\n",
       "    <tr>\n",
       "      <th>9</th>\n",
       "      <td>23.936</td>\n",
       "      <td>24.423050</td>\n",
       "      <td>24.600</td>\n",
       "      <td>24.697</td>\n",
       "      <td>24.481</td>\n",
       "      <td>25.095</td>\n",
       "      <td>25.066</td>\n",
       "      <td>24.143</td>\n",
       "      <td>23.802</td>\n",
       "      <td>0.5</td>\n",
       "      <td>0.866025</td>\n",
       "      <td>0.101168</td>\n",
       "      <td>-0.994869</td>\n",
       "    </tr>\n",
       "    <tr>\n",
       "      <th>10</th>\n",
       "      <td>23.746</td>\n",
       "      <td>24.246324</td>\n",
       "      <td>23.936</td>\n",
       "      <td>24.600</td>\n",
       "      <td>24.697</td>\n",
       "      <td>24.481</td>\n",
       "      <td>25.095</td>\n",
       "      <td>25.066</td>\n",
       "      <td>24.143</td>\n",
       "      <td>0.5</td>\n",
       "      <td>0.866025</td>\n",
       "      <td>-0.101168</td>\n",
       "      <td>-0.994869</td>\n",
       "    </tr>\n",
       "    <tr>\n",
       "      <th>11</th>\n",
       "      <td>24.358</td>\n",
       "      <td>24.275156</td>\n",
       "      <td>23.746</td>\n",
       "      <td>23.936</td>\n",
       "      <td>24.600</td>\n",
       "      <td>24.697</td>\n",
       "      <td>24.481</td>\n",
       "      <td>25.095</td>\n",
       "      <td>25.066</td>\n",
       "      <td>0.5</td>\n",
       "      <td>0.866025</td>\n",
       "      <td>-0.790776</td>\n",
       "      <td>-0.612106</td>\n",
       "    </tr>\n",
       "  </tbody>\n",
       "</table>\n",
       "</div>"
      ],
      "text/plain": [
       "     close        ema   lag_1   lag_2   lag_3   lag_4   lag_5   lag_6   lag_7  \\\n",
       "7   24.697  24.598054  24.481  25.095  25.066  24.143  23.802  23.807  24.490   \n",
       "8   24.600  24.598580  24.697  24.481  25.095  25.066  24.143  23.802  23.807   \n",
       "9   23.936  24.423050  24.600  24.697  24.481  25.095  25.066  24.143  23.802   \n",
       "10  23.746  24.246324  23.936  24.600  24.697  24.481  25.095  25.066  24.143   \n",
       "11  24.358  24.275156  23.746  23.936  24.600  24.697  24.481  25.095  25.066   \n",
       "\n",
       "    month_sin  month_cos   day_sin   day_cos  \n",
       "7         0.5   0.866025  0.485302 -0.874347  \n",
       "8         0.5   0.866025  0.299363 -0.954139  \n",
       "9         0.5   0.866025  0.101168 -0.994869  \n",
       "10        0.5   0.866025 -0.101168 -0.994869  \n",
       "11        0.5   0.866025 -0.790776 -0.612106  "
      ]
     },
     "execution_count": 10,
     "metadata": {},
     "output_type": "execute_result"
    }
   ],
   "source": [
    "predictors.head()"
   ]
  },
  {
   "cell_type": "markdown",
   "metadata": {},
   "source": [
    "## Transform data"
   ]
  },
  {
   "cell_type": "code",
   "execution_count": 11,
   "metadata": {},
   "outputs": [],
   "source": [
    "sc = MinMaxScaler()\n",
    "sc.fit(x_train)\n",
    "x_train_scaled = sc.transform(x_train)\n",
    "x_val_scaled = sc.transform(x_val)\n",
    "x_test_scaled = sc.transform(x_test)\n",
    "\n",
    "\n",
    "X_train_for_compare = np.append(x_train_scaled, x_val_scaled, axis=0)\n",
    "Y_train_for_compare = np.append(y_train, y_val, axis=0)"
   ]
  },
  {
   "cell_type": "markdown",
   "metadata": {},
   "source": [
    "## Baseline model\n",
    "According to EDA, the market was up ~ 52% of the days, so the simplest model would be always predict up, which could potentially achieve 52% accuracy."
   ]
  },
  {
   "cell_type": "code",
   "execution_count": 12,
   "metadata": {},
   "outputs": [
    {
     "data": {
      "text/plain": [
       "0.526173285198556"
      ]
     },
     "execution_count": 12,
     "metadata": {},
     "output_type": "execute_result"
    }
   ],
   "source": [
    "counting = data['is_up'].value_counts()\n",
    "BASELINE = counting[1] / np.sum(counting)\n",
    "BASELINE"
   ]
  },
  {
   "cell_type": "code",
   "execution_count": 13,
   "metadata": {},
   "outputs": [
    {
     "data": {
      "text/plain": [
       "0.5372460496613995"
      ]
     },
     "execution_count": 13,
     "metadata": {},
     "output_type": "execute_result"
    }
   ],
   "source": [
    "accuracy_score(y_val, [1] * len(y_val))"
   ]
  },
  {
   "cell_type": "markdown",
   "metadata": {},
   "source": [
    "The baseline model has accuracy of ~ **54%**"
   ]
  },
  {
   "cell_type": "markdown",
   "metadata": {},
   "source": [
    "## Default hyperparameters with some Algo"
   ]
  },
  {
   "cell_type": "markdown",
   "metadata": {},
   "source": [
    "Logistic regression"
   ]
  },
  {
   "cell_type": "code",
   "execution_count": 14,
   "metadata": {},
   "outputs": [
    {
     "name": "stdout",
     "output_type": "stream",
     "text": [
      "Training accuracy: 0.5515425131677953\n",
      "Validation accuracy: 0.5146726862302483\n"
     ]
    }
   ],
   "source": [
    "lr = LogisticRegression(random_state = 12)\n",
    "lr.fit(x_train_scaled, y_train)\n",
    "\n",
    "print(\"Training accuracy:\", lr.score(x_train_scaled, y_train))\n",
    "print(\"Validation accuracy:\", lr.score(x_val_scaled, y_val))"
   ]
  },
  {
   "cell_type": "markdown",
   "metadata": {},
   "source": [
    "K Nearest Neighbors:"
   ]
  },
  {
   "cell_type": "code",
   "execution_count": 15,
   "metadata": {},
   "outputs": [
    {
     "name": "stdout",
     "output_type": "stream",
     "text": [
      "Training accuracy: 0.674191121143717\n",
      "Validation accuracy: 0.49435665914221216\n"
     ]
    }
   ],
   "source": [
    "knn = KNeighborsClassifier()\n",
    "knn.fit(x_train_scaled, y_train)\n",
    "\n",
    "print(\"Training accuracy:\", knn.score(x_train_scaled, y_train))\n",
    "print(\"Validation accuracy:\", knn.score(x_val_scaled, y_val))"
   ]
  },
  {
   "cell_type": "markdown",
   "metadata": {},
   "source": [
    "SVM"
   ]
  },
  {
   "cell_type": "code",
   "execution_count": 16,
   "metadata": {},
   "outputs": [
    {
     "name": "stdout",
     "output_type": "stream",
     "text": [
      "Training accuracy: 0.580887885628292\n",
      "Validation accuracy: 0.5146726862302483\n"
     ]
    }
   ],
   "source": [
    "svm = SVC()\n",
    "svm.fit(x_train_scaled, y_train)\n",
    "print(\"Training accuracy:\", svm.score(x_train_scaled, y_train))\n",
    "print(\"Validation accuracy:\", svm.score(x_val_scaled, y_val))"
   ]
  },
  {
   "cell_type": "markdown",
   "metadata": {},
   "source": [
    "Naive Bayes"
   ]
  },
  {
   "cell_type": "code",
   "execution_count": 17,
   "metadata": {},
   "outputs": [
    {
     "name": "stdout",
     "output_type": "stream",
     "text": [
      "Training accuracy: 0.5327313769751693\n",
      "Validation accuracy: 0.5056433408577878\n"
     ]
    }
   ],
   "source": [
    "bnb = BernoulliNB()\n",
    "bnb.fit(x_train_scaled, y_train)\n",
    "print(\"Training accuracy:\", bnb.score(x_train_scaled, y_train))\n",
    "print(\"Validation accuracy:\", bnb.score(x_val_scaled, y_val))\n"
   ]
  },
  {
   "cell_type": "markdown",
   "metadata": {},
   "source": [
    "Random Forest Classifier"
   ]
  },
  {
   "cell_type": "code",
   "execution_count": 18,
   "metadata": {},
   "outputs": [
    {
     "name": "stdout",
     "output_type": "stream",
     "text": [
      "Training accuracy: 1.0\n",
      "Validation accuracy: 0.4717832957110609\n"
     ]
    }
   ],
   "source": [
    "rf = RandomForestClassifier(bootstrap=True, random_state = 7)\n",
    "rf.fit(x_train_scaled, y_train)\n",
    "\n",
    "print(\"Training accuracy:\", rf.score(x_train_scaled, y_train))\n",
    "print(\"Validation accuracy:\", rf.score(x_val_scaled, y_val))"
   ]
  },
  {
   "cell_type": "code",
   "execution_count": 19,
   "metadata": {},
   "outputs": [
    {
     "data": {
      "text/plain": [
       "[('close', 0.10043040464661328),\n",
       " ('lag_7', 0.0923772109345861),\n",
       " ('lag_4', 0.09080118022033785),\n",
       " ('lag_1', 0.08971064976791042),\n",
       " ('lag_3', 0.08918385435173042),\n",
       " ('lag_6', 0.08835685626955618),\n",
       " ('lag_5', 0.08765580392616842),\n",
       " ('lag_2', 0.08430168548567064),\n",
       " ('ema', 0.08324976139602493),\n",
       " ('day_sin', 0.0738084676072697),\n",
       " ('day_cos', 0.05805155674978601),\n",
       " ('month_sin', 0.031503648923904774),\n",
       " ('month_cos', 0.030568919720441262)]"
      ]
     },
     "execution_count": 19,
     "metadata": {},
     "output_type": "execute_result"
    }
   ],
   "source": [
    "sorted(list(zip(predictors.columns, rf.feature_importances_)), key= lambda x: -x[1])"
   ]
  },
  {
   "cell_type": "markdown",
   "metadata": {},
   "source": [
    "CatBoostClassifier"
   ]
  },
  {
   "cell_type": "code",
   "execution_count": 20,
   "metadata": {},
   "outputs": [
    {
     "name": "stdout",
     "output_type": "stream",
     "text": [
      "Training accuracy: 0.8465011286681715\n",
      "Validation accuracy: 0.4785553047404063\n",
      "Test accuracy: 0.46621621621621623\n"
     ]
    }
   ],
   "source": [
    "cat = CatBoostClassifier(silent=True, random_state = 12)\n",
    "cat.fit(x_train_scaled, y_train)\n",
    "\n",
    "print(\"Training accuracy:\", cat.score(x_train_scaled, y_train))\n",
    "print(\"Validation accuracy:\", cat.score(x_val_scaled, y_val))\n",
    "print(\"Test accuracy:\", cat.score(x_test_scaled, y_test))"
   ]
  },
  {
   "cell_type": "markdown",
   "metadata": {},
   "source": [
    "XGBoost Classifier "
   ]
  },
  {
   "cell_type": "code",
   "execution_count": 21,
   "metadata": {},
   "outputs": [
    {
     "name": "stdout",
     "output_type": "stream",
     "text": [
      "Training accuracy: 0.9977426636568849\n",
      "Validation accuracy: 0.4582392776523702\n",
      "Test accuracy: 0.4774774774774775\n"
     ]
    }
   ],
   "source": [
    "xg = XGBClassifier()\n",
    "xg.fit(x_train_scaled, y_train)\n",
    "\n",
    "print(\"Training accuracy:\", xg.score(x_train_scaled, y_train))\n",
    "print(\"Validation accuracy:\", xg.score(x_val_scaled, y_val))\n",
    "print(\"Test accuracy:\", xg.score(x_test_scaled, y_test))"
   ]
  },
  {
   "cell_type": "markdown",
   "metadata": {},
   "source": [
    "Simple Deep Learning"
   ]
  },
  {
   "cell_type": "code",
   "execution_count": 30,
   "metadata": {},
   "outputs": [
    {
     "name": "stdout",
     "output_type": "stream",
     "text": [
      "Epoch 1/15\n",
      "1772/1772 [==============================] - 14s 7ms/step - loss: 0.6925 - accuracy: 0.5277 - val_loss: 0.6913 - val_accuracy: 0.5372\n",
      "Epoch 2/15\n",
      "1772/1772 [==============================] - 12s 7ms/step - loss: 0.6923 - accuracy: 0.5248 - val_loss: 0.6912 - val_accuracy: 0.5372\n",
      "Epoch 3/15\n",
      "1772/1772 [==============================] - 12s 7ms/step - loss: 0.6918 - accuracy: 0.5282 - val_loss: 0.6911 - val_accuracy: 0.5372\n",
      "Epoch 4/15\n",
      "1772/1772 [==============================] - 12s 7ms/step - loss: 0.6917 - accuracy: 0.5310 - val_loss: 0.6911 - val_accuracy: 0.5372\n",
      "Epoch 5/15\n",
      "1772/1772 [==============================] - 12s 7ms/step - loss: 0.6917 - accuracy: 0.5316 - val_loss: 0.6910 - val_accuracy: 0.5372\n",
      "Epoch 6/15\n",
      "1772/1772 [==============================] - 12s 7ms/step - loss: 0.6921 - accuracy: 0.5265 - val_loss: 0.6910 - val_accuracy: 0.5372\n",
      "Epoch 7/15\n",
      "1772/1772 [==============================] - 12s 7ms/step - loss: 0.6913 - accuracy: 0.5310 - val_loss: 0.6910 - val_accuracy: 0.5372\n",
      "Epoch 8/15\n",
      "1772/1772 [==============================] - 11s 6ms/step - loss: 0.6918 - accuracy: 0.5288 - val_loss: 0.6909 - val_accuracy: 0.5372\n",
      "Epoch 9/15\n",
      "1772/1772 [==============================] - 11s 6ms/step - loss: 0.6918 - accuracy: 0.5209 - val_loss: 0.6909 - val_accuracy: 0.5372\n",
      "Epoch 10/15\n",
      "1772/1772 [==============================] - 12s 7ms/step - loss: 0.6924 - accuracy: 0.5265 - val_loss: 0.6908 - val_accuracy: 0.5372\n",
      "Epoch 11/15\n",
      "1772/1772 [==============================] - 11s 6ms/step - loss: 0.6916 - accuracy: 0.5293 - val_loss: 0.6908 - val_accuracy: 0.5372\n",
      "Epoch 12/15\n",
      "1772/1772 [==============================] - 11s 6ms/step - loss: 0.6915 - accuracy: 0.5305 - val_loss: 0.6908 - val_accuracy: 0.5372\n",
      "Epoch 13/15\n",
      "1772/1772 [==============================] - 12s 7ms/step - loss: 0.6917 - accuracy: 0.5271 - val_loss: 0.6908 - val_accuracy: 0.5372\n",
      "Epoch 14/15\n",
      "1772/1772 [==============================] - 12s 7ms/step - loss: 0.6916 - accuracy: 0.5293 - val_loss: 0.6907 - val_accuracy: 0.5372\n",
      "Epoch 15/15\n",
      "1772/1772 [==============================] - 12s 7ms/step - loss: 0.6912 - accuracy: 0.5288 - val_loss: 0.6907 - val_accuracy: 0.5372\n",
      "14/14 [==============================] - 0s 3ms/step\n",
      "42/42 [==============================] - 0s 3ms/step\n",
      "Training accuracy: 0.5252069224981188\n",
      "Validation accuracy: 0.5372460496613995\n",
      "14/14 [==============================] - 0s 3ms/step - loss: 0.6928 - accuracy: 0.5180\n",
      "Test accuracy: [0.692817211151123, 0.5180180072784424]\n"
     ]
    }
   ],
   "source": [
    "x_train_lstm = np.reshape(X_train_for_compare, (X_train_for_compare.shape[0], X_train_for_compare.shape[1], 1))\n",
    "\n",
    "num_epochs = 15\n",
    "model = tf.keras.Sequential()\n",
    "unit = 50\n",
    "model.add(LSTM(unit, return_sequences=True, input_shape=(x_train_lstm.shape[1], 1)))\n",
    "model.add(LSTM(unit))\n",
    "model.add(Dropout(0.2))\n",
    "model.add(Dense(units=25, activation = 'tanh'))\n",
    "model.add(Dense(1, activation = 'sigmoid'))\n",
    "\n",
    "# optimizer = tf.keras.optimizers.Nadam()\n",
    "optimizer = tf.keras.optimizers.Adagrad()\n",
    "\n",
    "model.compile(optimizer=optimizer, loss=\"binary_crossentropy\", metrics=['accuracy'])\n",
    "history = model.fit(x_train_lstm, Y_train_for_compare, validation_data = (x_val_scaled, y_val), batch_size=1, epochs=num_epochs)\n",
    "\n",
    "threshold = 0.5\n",
    "y_val_pred = (model.predict(x_val_scaled) >= threshold).astype(int)\n",
    "print(\"Training accuracy:\", accuracy_score(y_train, (model.predict(x_train_scaled) > threshold).astype(int)))\n",
    "print(\"Validation accuracy:\", accuracy_score(y_val, y_val_pred))\n",
    "print(\"Test accuracy:\", model.evaluate(x_test_scaled, y_test))"
   ]
  },
  {
   "cell_type": "code",
   "execution_count": 31,
   "metadata": {},
   "outputs": [
    {
     "data": {
      "image/png": "[encoded data removed]",
      "text/plain": [
       "<Figure size 640x480 with 1 Axes>"
      ]
     },
     "metadata": {},
     "output_type": "display_data"
    }
   ],
   "source": [
    "train_accuracy = history.history['accuracy']\n",
    "val_accuracy = history.history['val_accuracy']\n",
    "plt.plot(train_accuracy, label='train_accuracy')\n",
    "plt.plot(val_accuracy, label='validation accuracy')\n",
    "plt.xticks(range(num_epochs))\n",
    "plt.xlabel('Train epochs')\n",
    "plt.legend()\n",
    "plt.show()"
   ]
  },
  {
   "cell_type": "markdown",
   "metadata": {},
   "source": [
    "## Optimize hyper params"
   ]
  },
  {
   "cell_type": "code",
   "execution_count": 32,
   "metadata": {},
   "outputs": [],
   "source": [
    "import optuna\n",
    "from optuna import Trial\n",
    "\n",
    "optuna.logging.set_verbosity(optuna.logging.WARNING)\n",
    "\n",
    "n_trials = 100\n",
    "random_state = 7"
   ]
  },
  {
   "cell_type": "markdown",
   "metadata": {},
   "source": [
    "### Logis Regression"
   ]
  },
  {
   "cell_type": "code",
   "execution_count": 33,
   "metadata": {},
   "outputs": [
    {
     "name": "stdout",
     "output_type": "stream",
     "text": [
      "Best params {'solver': 'lbfgs', 'penalty': 'l2'}\n",
      "Best accuracy 0.5146726862302483\n"
     ]
    }
   ],
   "source": [
    "def lr_optimize(trial: Trial):\n",
    "    solver = trial.suggest_categorical(\"solver\", [\"lbfgs\", 'newton-cholesky'])\n",
    "    penalty = trial.suggest_categorical(\"penalty\", ['l2', None])\n",
    "    lr = LogisticRegression(penalty=penalty, solver=solver, random_state=random_state, max_iter=500, multi_class = 'ovr')\n",
    "    lr.fit(x_train_scaled, y_train)\n",
    "    y_val_pred = lr.predict(x_val_scaled)\n",
    "    return accuracy_score(y_val, y_val_pred)\n",
    "\n",
    "lr_study = optuna.create_study(direction=\"maximize\")\n",
    "lr_study.optimize(lr_optimize, n_trials=n_trials)\n",
    "print(\"Best params\", lr_study.best_params)\n",
    "print(\"Best accuracy\", lr_study.best_value)"
   ]
  },
  {
   "cell_type": "markdown",
   "metadata": {},
   "source": [
    "### Random Forest"
   ]
  },
  {
   "cell_type": "code",
   "execution_count": 34,
   "metadata": {},
   "outputs": [
    {
     "name": "stdout",
     "output_type": "stream",
     "text": [
      "Best params {'n_estimators': 39, 'criterion': 'gini', 'bootstrap': False}\n",
      "Best accuracy 0.5146726862302483\n"
     ]
    }
   ],
   "source": [
    "def rf_optimize(trial: Trial):\n",
    "    n_estimators = trial.suggest_int('n_estimators', low=10, high = 100)\n",
    "    criterion = trial.suggest_categorical(\"criterion\", ['gini', 'entropy', 'log_loss'])\n",
    "    bootstrap = trial.suggest_categorical(\"bootstrap\", [True, False])\n",
    "    rf = RandomForestClassifier(n_estimators=n_estimators, criterion=criterion, bootstrap=bootstrap)\n",
    "    lr.fit(x_train_scaled, y_train)\n",
    "    y_val_pred = lr.predict(x_val_scaled)\n",
    "    return accuracy_score(y_val, y_val_pred)\n",
    "\n",
    "rf_study = optuna.create_study(direction=\"maximize\")\n",
    "rf_study.optimize(rf_optimize, n_trials=n_trials)\n",
    "print(\"Best params\", rf_study.best_params)\n",
    "print(\"Best accuracy\", rf_study.best_value)"
   ]
  },
  {
   "cell_type": "markdown",
   "metadata": {},
   "source": [
    "### CatBoost"
   ]
  },
  {
   "cell_type": "code",
   "execution_count": 35,
   "metadata": {},
   "outputs": [
    {
     "name": "stdout",
     "output_type": "stream",
     "text": [
      "Best params {'iterations': 802, 'depth': 8, 'learning_rate': 0.21097019438094816, 'random_strength': 2, 'bagging_temperature': 0.5197456418335619, 'l2_leaf_reg': 0.6986463160504206, 'border_count': 7}\n",
      "Best accuracy 0.5688487584650113\n"
     ]
    }
   ],
   "source": [
    "def catboost_optimize(trial: Trial):\n",
    "    param = {\n",
    "        'iterations': trial.suggest_int('iterations', 100, 1000),\n",
    "        'depth': trial.suggest_int('depth', 4, 10),\n",
    "        'learning_rate': trial.suggest_float('learning_rate', 0.01, 0.3),\n",
    "        'random_strength': trial.suggest_int('random_strength', 1, 20),\n",
    "        'bagging_temperature': trial.suggest_float('bagging_temperature', 0.0, 1.0),\n",
    "        'l2_leaf_reg': trial.suggest_float('l2_leaf_reg', 1e-2, 10.0),\n",
    "        'border_count': trial.suggest_int('border_count', 1, 255),\n",
    "        'loss_function': 'Logloss',\n",
    "        'verbose': False\n",
    "    }\n",
    "    model = CatBoostClassifier(**param)\n",
    "    model.fit(x_train_scaled, y_train, eval_set=[(x_val_scaled, y_val)], early_stopping_rounds=100, verbose=0)\n",
    "    preds = model.predict(x_val_scaled)\n",
    "    accuracy = accuracy_score(y_val, preds)\n",
    "    return accuracy\n",
    "\n",
    "cat_study = optuna.create_study(direction=\"maximize\")\n",
    "cat_study.optimize(catboost_optimize, n_trials=n_trials)\n",
    "print(\"Best params\", cat_study.best_params)\n",
    "print(\"Best accuracy\", cat_study.best_value)"
   ]
  },
  {
   "cell_type": "markdown",
   "metadata": {},
   "source": [
    "### Neural Network"
   ]
  },
  {
   "cell_type": "code",
   "execution_count": 36,
   "metadata": {},
   "outputs": [],
   "source": [
    "\n",
    "\n",
    "def create_lstm(units):\n",
    "    model = tf.keras.Sequential()\n",
    "    model.add(LSTM(units, return_sequences=True, input_shape=(x_train_lstm.shape[1], 1)))\n",
    "    model.add(LSTM(units))\n",
    "    model.add(Dropout(0.2))\n",
    "    model.add(Dense(units=units//2, activation = 'tanh'))\n",
    "    model.add(Dense(1, activation = 'sigmoid'))\n",
    "    return model\n",
    "\n",
    "\n",
    "\n",
    "def create_lstm_study(trial: Trial):\n",
    "    units = trial.suggest_int(\"units\", low=10, high = 50)\n",
    "    model = create_lstm(units)\n",
    "    optimizer = trial.suggest_categorical('optimizer', \n",
    "                                         [\"Adam\", \"SGD\", \"RMSprop\", \"Adagrad\"])\n",
    "    batch_size = trial.suggest_int('batch_size', low=1, high = 15)\n",
    "    epochs = trial.suggest_int('epochs', low=1, high=3)\n",
    "    lr = trial.suggest_float('lr', 1e-5, 1e-1, log=True)\n",
    "    model.compile(optimizer=getattr(tf.keras.optimizers, optimizer)(learning_rate=lr), loss=\"binary_crossentropy\", metrics=['accuracy'])\n",
    "    model.fit(x_train_lstm, Y_train_for_compare, validation_data = (x_val_scaled, y_val), batch_size=batch_size, epochs=epochs, verbose=0)\n",
    "    threshold = 0.5\n",
    "    y_val_pred = (model.predict(x_val_scaled) >= threshold).astype(int)\n",
    "    return accuracy_score(y_val, y_val_pred)\n",
    "\n",
    "def run_study(function):\n",
    "    # Create an Optuna study and optimize the objective\n",
    "    study = optuna.create_study(direction='maximize')\n",
    "    study.optimize(function, n_trials=10)\n",
    "    \n",
    "    print(\"Best trial:\")\n",
    "    trial = study.best_trial\n",
    "    \n",
    "    print(f\"Accuracy: {trial.value}\")\n",
    "    print(\"Best hyperparameters:\")\n",
    "    for key, value in trial.params.items():\n",
    "        print(f\"{key}: {value}\")"
   ]
  },
  {
   "cell_type": "code",
   "execution_count": 37,
   "metadata": {},
   "outputs": [
    {
     "name": "stdout",
     "output_type": "stream",
     "text": [
      "14/14 [==============================] - 0s 3ms/step\n",
      "14/14 [==============================] - 0s 3ms/step\n",
      "14/14 [==============================] - 0s 3ms/step\n",
      "14/14 [==============================] - 0s 3ms/step\n",
      "14/14 [==============================] - 0s 3ms/step\n",
      "14/14 [==============================] - 0s 3ms/step\n",
      "14/14 [==============================] - 0s 2ms/step\n",
      "14/14 [==============================] - 0s 3ms/step\n",
      "14/14 [==============================] - 0s 4ms/step\n",
      "14/14 [==============================] - 0s 3ms/step\n",
      "Best trial:\n",
      "Accuracy: 0.5598194130925508\n",
      "Best hyperparameters:\n",
      "units: 43\n",
      "optimizer: Adagrad\n",
      "batch_size: 13\n",
      "epochs: 1\n",
      "lr: 0.006957392490504836\n"
     ]
    }
   ],
   "source": [
    "run_study(create_lstm_study)"
   ]
  },
  {
   "cell_type": "code",
   "execution_count": 38,
   "metadata": {},
   "outputs": [
    {
     "name": "stdout",
     "output_type": "stream",
     "text": [
      "14/14 [==============================] - 0s 3ms/step\n",
      "14/14 [==============================] - 0s 2ms/step\n",
      "14/14 [==============================] - 0s 3ms/step\n",
      "14/14 [==============================] - 0s 3ms/step\n",
      "14/14 [==============================] - 0s 3ms/step\n",
      "14/14 [==============================] - 0s 4ms/step\n",
      "14/14 [==============================] - 0s 3ms/step\n",
      "14/14 [==============================] - 0s 3ms/step\n",
      "14/14 [==============================] - 0s 2ms/step\n",
      "14/14 [==============================] - 0s 3ms/step\n",
      "Best trial:\n",
      "Accuracy: 0.5372460496613995\n",
      "Best hyperparameters:\n",
      "units: 14\n",
      "optimizer: Adam\n",
      "batch_size: 4\n",
      "epochs: 2\n",
      "lr: 3.975159753000951e-05\n"
     ]
    }
   ],
   "source": [
    "def create_lstm_2(units):\n",
    "    model = tf.keras.Sequential()\n",
    "    model.add(LSTM(units, return_sequences=True, input_shape=(x_train_lstm.shape[1], 1)))\n",
    "    model.add(Dropout(0.2))\n",
    "    model.add(LSTM(units))\n",
    "    model.add(Dropout(0.2))\n",
    "    model.add(Dense(units//2, activation = \"tanh\"))\n",
    "    model.add(Dense(1, activation = 'tanh'))\n",
    "    return model\n",
    "\n",
    "def create_lstm_study_2(trial: Trial):\n",
    "    units = trial.suggest_int(\"units\", low=10, high = 50)\n",
    "    model = create_lstm_2(units)\n",
    "    optimizer = trial.suggest_categorical('optimizer', \n",
    "                                         [\"Adam\", \"SGD\", \"RMSprop\", \"Adagrad\"])\n",
    "    batch_size = trial.suggest_int('batch_size', low=1, high = 15)\n",
    "    epochs = trial.suggest_int('epochs', low=1, high=3)\n",
    "    lr = trial.suggest_float('lr', 1e-5, 1e-1, log=True)\n",
    "    model.compile(optimizer=getattr(tf.keras.optimizers, optimizer)(learning_rate=lr), loss=\"binary_crossentropy\", metrics=['accuracy'])\n",
    "    model.fit(x_train_lstm, Y_train_for_compare, validation_data = (x_val_scaled, y_val), batch_size=batch_size, epochs=epochs, verbose=0)\n",
    "    threshold = 0\n",
    "    y_val_pred = (model.predict(x_val_scaled) >= threshold).astype(int)\n",
    "    return accuracy_score(y_val, y_val_pred)\n",
    "\n",
    "run_study(create_lstm_study_2)"
   ]
  },
  {
   "cell_type": "code",
   "execution_count": 39,
   "metadata": {},
   "outputs": [
    {
     "name": "stdout",
     "output_type": "stream",
     "text": [
      "14/14 [==============================] - 0s 3ms/step\n",
      "14/14 [==============================] - 0s 2ms/step\n",
      "14/14 [==============================] - 0s 3ms/step\n",
      "14/14 [==============================] - 0s 3ms/step\n",
      "14/14 [==============================] - 0s 3ms/step\n",
      "14/14 [==============================] - 0s 3ms/step\n",
      "14/14 [==============================] - 0s 4ms/step\n",
      "14/14 [==============================] - 0s 3ms/step\n",
      "14/14 [==============================] - 0s 3ms/step\n",
      "14/14 [==============================] - 0s 3ms/step\n",
      "Best trial:\n",
      "Accuracy: 0.5372460496613995\n",
      "Best hyperparameters:\n",
      "units: 47\n",
      "optimizer: Adam\n",
      "batch_size: 14\n",
      "epochs: 1\n",
      "lr: 0.002419610503285418\n"
     ]
    }
   ],
   "source": [
    "def create_lstm_gru(units):\n",
    "    model = tf.keras.Sequential()\n",
    "    model.add(LSTM(units, return_sequences=True, input_shape=(x_train_lstm.shape[1], 1)))\n",
    "    model.add(LSTM(units))\n",
    "    model.add(Dropout(0.2))\n",
    "    model.add(GRU(units))\n",
    "    model.add(Dropout(0.2))\n",
    "    model.add(Dense(units//2, activation = \"tanh\"))\n",
    "    model.add(Dense(1, activation = 'sigmoid'))\n",
    "    return model\n",
    "\n",
    "def create_lstm_gru_study(trial: Trial):\n",
    "    units = trial.suggest_int(\"units\", low=10, high = 50)\n",
    "    model = create_lstm_2(units)\n",
    "    optimizer = trial.suggest_categorical('optimizer', \n",
    "                                         [\"Adam\", \"SGD\", \"RMSprop\", \"Adagrad\"])\n",
    "    batch_size = trial.suggest_int('batch_size', low=1, high = 15)\n",
    "    epochs = trial.suggest_int('epochs', low=1, high=3)\n",
    "    lr = trial.suggest_float('lr', 1e-5, 1e-1, log=True)\n",
    "    model.compile(optimizer=getattr(tf.keras.optimizers, optimizer)(learning_rate=lr), loss=\"binary_crossentropy\", metrics=['accuracy'])\n",
    "    model.fit(x_train_lstm, Y_train_for_compare, validation_data = (x_val_scaled, y_val), batch_size=batch_size, epochs=epochs, verbose=0)\n",
    "    threshold = 0.5\n",
    "    y_val_pred = (model.predict(x_val_scaled) >= threshold).astype(int)\n",
    "    return accuracy_score(y_val, y_val_pred)\n",
    "\n",
    "run_study(create_lstm_gru_study)"
   ]
  },
  {
   "cell_type": "code",
   "execution_count": 40,
   "metadata": {},
   "outputs": [
    {
     "name": "stdout",
     "output_type": "stream",
     "text": [
      "14/14 [==============================] - 0s 1ms/step\n",
      "14/14 [==============================] - 0s 2ms/step\n",
      "14/14 [==============================] - 0s 1ms/step\n",
      "14/14 [==============================] - 0s 1ms/step\n",
      "14/14 [==============================] - 0s 1ms/step\n",
      "14/14 [==============================] - 0s 1ms/step\n",
      "14/14 [==============================] - 0s 1ms/step\n",
      "14/14 [==============================] - 0s 1ms/step\n",
      "14/14 [==============================] - 0s 1ms/step\n",
      "14/14 [==============================] - 0s 984us/step\n",
      "Best trial:\n",
      "Accuracy: 0.5417607223476298\n",
      "Best hyperparameters:\n",
      "optimizer: SGD\n",
      "batch_size: 12\n",
      "epochs: 3\n",
      "lr: 0.010489360088417304\n"
     ]
    }
   ],
   "source": [
    "def create_neural_network_model():\n",
    "    nn = tf.keras.Sequential()\n",
    "    nn.add(Dense(32, activation='relu', input_shape=(len(x_train_scaled[0]),)))\n",
    "    nn.add(Dense(1, activation = \"sigmoid\"))\n",
    "\n",
    "    return nn\n",
    "    \n",
    "def create_neural_network_study(trial: Trial):\n",
    "    model = create_neural_network_model()\n",
    "    optimizer = trial.suggest_categorical('optimizer', \n",
    "                                         [\"Adam\", \"SGD\", \"RMSprop\", \"Adagrad\"])\n",
    "    batch_size = trial.suggest_int('batch_size', low=1, high = 15)\n",
    "    epochs = trial.suggest_int('epochs', low=1, high=5)\n",
    "    lr = trial.suggest_float('lr', 1e-5, 1e-1, log=True)\n",
    "    model.compile(optimizer=getattr(tf.keras.optimizers, optimizer)(learning_rate=lr), loss=\"binary_crossentropy\", metrics=['accuracy'])\n",
    "    model.fit(x_train_lstm, Y_train_for_compare, validation_data = (x_val_scaled, y_val), batch_size=batch_size, epochs=epochs, verbose=0)\n",
    "    threshold = 0.5\n",
    "    y_val_pred = (model.predict(x_val_scaled) >= threshold).astype(int)\n",
    "    return accuracy_score(y_val, y_val_pred)\n",
    "    \n",
    "run_study(create_neural_network_study)"
   ]
  },
  {
   "cell_type": "code",
   "execution_count": null,
   "metadata": {},
   "outputs": [],
   "source": []
  }
 ],
 "metadata": {
  "kernelspec": {
   "display_name": "Python 3 (ipykernel)",
   "language": "python",
   "name": "python3"
  },
  "language_info": {
   "codemirror_mode": {
    "name": "ipython",
    "version": 3
   },
   "file_extension": ".py",
   "mimetype": "text/x-python",
   "name": "python",
   "nbconvert_exporter": "python",
   "pygments_lexer": "ipython3",
   "version": "3.10.13"
  }
 },
 "nbformat": 4,
 "nbformat_minor": 4
}
