{
 "cells": [
  {
   "cell_type": "code",
   "execution_count": 1,
   "metadata": {},
   "outputs": [
    {
     "name": "stderr",
     "output_type": "stream",
     "text": [
      "2024-03-01 10:15:52.194853: I tensorflow/core/util/port.cc:113] oneDNN custom operations are on. You may see slightly different numerical results due to floating-point round-off errors from different computation orders. To turn them off, set the environment variable `TF_ENABLE_ONEDNN_OPTS=0`.\n",
      "2024-03-01 10:15:52.216225: E external/local_xla/xla/stream_executor/cuda/cuda_dnn.cc:9261] Unable to register cuDNN factory: Attempting to register factory for plugin cuDNN when one has already been registered\n",
      "2024-03-01 10:15:52.216248: E external/local_xla/xla/stream_executor/cuda/cuda_fft.cc:607] Unable to register cuFFT factory: Attempting to register factory for plugin cuFFT when one has already been registered\n",
      "2024-03-01 10:15:52.216776: E external/local_xla/xla/stream_executor/cuda/cuda_blas.cc:1515] Unable to register cuBLAS factory: Attempting to register factory for plugin cuBLAS when one has already been registered\n",
      "2024-03-01 10:15:52.220681: I tensorflow/core/platform/cpu_feature_guard.cc:182] This TensorFlow binary is optimized to use available CPU instructions in performance-critical operations.\n",
      "To enable the following instructions: AVX2 AVX_VNNI FMA, in other operations, rebuild TensorFlow with the appropriate compiler flags.\n",
      "2024-03-01 10:15:52.701511: W tensorflow/compiler/tf2tensorrt/utils/py_utils.cc:38] TF-TRT Warning: Could not find TensorRT\n",
      "2024-03-01 10:15:53.803146: I external/local_xla/xla/stream_executor/cuda/cuda_executor.cc:887] could not open file to read NUMA node: /sys/bus/pci/devices/0000:06:00.0/numa_node\n",
      "Your kernel may have been built without NUMA support.\n",
      "2024-03-01 10:15:53.821107: I external/local_xla/xla/stream_executor/cuda/cuda_executor.cc:887] could not open file to read NUMA node: /sys/bus/pci/devices/0000:06:00.0/numa_node\n",
      "Your kernel may have been built without NUMA support.\n",
      "2024-03-01 10:15:53.821150: I external/local_xla/xla/stream_executor/cuda/cuda_executor.cc:887] could not open file to read NUMA node: /sys/bus/pci/devices/0000:06:00.0/numa_node\n",
      "Your kernel may have been built without NUMA support.\n",
      "2024-03-01 10:15:54.121040: I external/local_xla/xla/stream_executor/cuda/cuda_executor.cc:887] could not open file to read NUMA node: /sys/bus/pci/devices/0000:06:00.0/numa_node\n",
      "Your kernel may have been built without NUMA support.\n",
      "2024-03-01 10:15:54.121097: I external/local_xla/xla/stream_executor/cuda/cuda_executor.cc:887] could not open file to read NUMA node: /sys/bus/pci/devices/0000:06:00.0/numa_node\n",
      "Your kernel may have been built without NUMA support.\n",
      "2024-03-01 10:15:54.121101: I tensorflow/core/common_runtime/gpu/gpu_device.cc:2022] Could not identify NUMA node of platform GPU id 0, defaulting to 0.  Your kernel may not have been built with NUMA support.\n",
      "2024-03-01 10:15:54.121125: I external/local_xla/xla/stream_executor/cuda/cuda_executor.cc:887] could not open file to read NUMA node: /sys/bus/pci/devices/0000:06:00.0/numa_node\n",
      "Your kernel may have been built without NUMA support.\n",
      "2024-03-01 10:15:54.121141: I tensorflow/core/common_runtime/gpu/gpu_device.cc:1929] Created device /device:GPU:0 with 5592 MB memory:  -> device: 0, name: NVIDIA GeForce RTX 3060 Ti, pci bus id: 0000:06:00.0, compute capability: 8.6\n"
     ]
    },
    {
     "data": {
      "text/plain": [
       "True"
      ]
     },
     "execution_count": 1,
     "metadata": {},
     "output_type": "execute_result"
    }
   ],
   "source": [
    "from sklearn.linear_model import LogisticRegression\n",
    "\n",
    "from sklearn.ensemble import RandomForestClassifier\n",
    "from catboost import CatBoostClassifier\n",
    "import xgboost\n",
    "from xgboost import  XGBClassifier\n",
    "\n",
    "from sklearn.metrics import accuracy_score\n",
    "from sklearn.metrics import confusion_matrix, ConfusionMatrixDisplay\n",
    "from sklearn.preprocessing import StandardScaler\n",
    "\n",
    "import tensorflow as tf\n",
    "from tensorflow.keras.models import Sequential\n",
    "from tensorflow.keras.layers import *\n",
    "\n",
    "import pandas as pd\n",
    "import numpy as np\n",
    "\n",
    "tf.get_logger().setLevel('ERROR')\n",
    "tf.test.is_gpu_available()\n"
   ]
  },
  {
   "cell_type": "code",
   "execution_count": 2,
   "metadata": {},
   "outputs": [],
   "source": [
    "apple_data = pd.read_csv(\"apple_processed_data.csv\")\n",
    "tesla_data = pd.read_csv(\"tesla_processed_data.csv\")"
   ]
  },
  {
   "cell_type": "code",
   "execution_count": 3,
   "metadata": {},
   "outputs": [],
   "source": [
    "def train_valid_test(data, target, split):\n",
    "    train, valid, test = split\n",
    "    n = data.shape[0]\n",
    "    train_end = int(train * n)\n",
    "    valid_end = int(n * (train + valid))\n",
    "    x_train, y_train = data[:train_end], target[:train_end]\n",
    "    x_val, y_val = data[train_end:valid_end], target[train_end:valid_end]\n",
    "    x_test, y_test = data[valid_end:], target[valid_end:]\n",
    "\n",
    "    return x_train, y_train, x_val, y_val, x_test, y_test"
   ]
  },
  {
   "cell_type": "code",
   "execution_count": 4,
   "metadata": {},
   "outputs": [],
   "source": [
    "data = apple_data"
   ]
  },
  {
   "cell_type": "code",
   "execution_count": 5,
   "metadata": {},
   "outputs": [],
   "source": [
    "predictors = data.drop(['is_up', 'Date', 'news'], axis=1)\n",
    "target = data['is_up']\n",
    "\n",
    "x_train, y_train, x_val, y_val, x_test, y_test = train_valid_test(predictors, target, (0.6, 0.2, 0.2))"
   ]
  },
  {
   "cell_type": "markdown",
   "metadata": {},
   "source": [
    "## Transform data"
   ]
  },
  {
   "cell_type": "code",
   "execution_count": 6,
   "metadata": {},
   "outputs": [],
   "source": [
    "sc = StandardScaler()\n",
    "sc.fit(x_train)\n",
    "x_train_scaled = sc.transform(x_train)\n",
    "x_val_scaled = sc.transform(x_val)\n",
    "x_test_scaled = sc.transform(x_test)"
   ]
  },
  {
   "cell_type": "markdown",
   "metadata": {},
   "source": [
    "## Baseline model"
   ]
  },
  {
   "cell_type": "code",
   "execution_count": 8,
   "metadata": {},
   "outputs": [
    {
     "data": {
      "text/plain": [
       "0.5263157894736842"
      ]
     },
     "execution_count": 8,
     "metadata": {},
     "output_type": "execute_result"
    }
   ],
   "source": [
    "counting = data['is_up'].value_counts()\n",
    "counting[1] / np.sum(counting)"
   ]
  },
  {
   "cell_type": "code",
   "execution_count": 9,
   "metadata": {},
   "outputs": [
    {
     "data": {
      "text/plain": [
       "0.5393258426966292"
      ]
     },
     "execution_count": 9,
     "metadata": {},
     "output_type": "execute_result"
    }
   ],
   "source": [
    "accuracy_score(y_val, [1] * len(y_val))"
   ]
  },
  {
   "cell_type": "markdown",
   "metadata": {},
   "source": [
    "## Default hyperparameters with some Algo"
   ]
  },
  {
   "cell_type": "markdown",
   "metadata": {},
   "source": [
    "Logistic regression"
   ]
  },
  {
   "cell_type": "code",
   "execution_count": 88,
   "metadata": {},
   "outputs": [
    {
     "name": "stdout",
     "output_type": "stream",
     "text": [
      "Training accuracy: 0.5302056555269923\n",
      "Validation accuracy: 0.5397301349325337\n"
     ]
    }
   ],
   "source": [
    "lr = LogisticRegression(random_state = 12)\n",
    "lr.fit(x_train_scaled, y_train)\n",
    "\n",
    "print(\"Training accuracy:\", lr.score(x_train_scaled, y_train))\n",
    "print(\"Validation accuracy:\", lr.score(x_val_scaled, y_val))"
   ]
  },
  {
   "cell_type": "markdown",
   "metadata": {},
   "source": [
    "Random Forest Classifier"
   ]
  },
  {
   "cell_type": "code",
   "execution_count": 89,
   "metadata": {},
   "outputs": [
    {
     "name": "stdout",
     "output_type": "stream",
     "text": [
      "Training accuracy: 1.0\n",
      "Validation accuracy: 0.45577211394302847\n"
     ]
    }
   ],
   "source": [
    "rf = RandomForestClassifier(bootstrap = False, random_state = 12)\n",
    "rf.fit(x_train_scaled, y_train)\n",
    "\n",
    "print(\"Training accuracy:\", rf.score(x_train_scaled, y_train))\n",
    "print(\"Validation accuracy:\", rf.score(x_val_scaled, y_val))"
   ]
  },
  {
   "cell_type": "markdown",
   "metadata": {},
   "source": [
    "CatBoostClassifier"
   ]
  },
  {
   "cell_type": "code",
   "execution_count": 90,
   "metadata": {},
   "outputs": [
    {
     "name": "stdout",
     "output_type": "stream",
     "text": [
      "Training accuracy: 0.8046272493573264\n",
      "Validation accuracy: 0.4662668665667166\n"
     ]
    }
   ],
   "source": [
    "cat = CatBoostClassifier(silent=True, random_state = 12)\n",
    "cat.fit(x_train_scaled, y_train)\n",
    "\n",
    "print(\"Training accuracy:\", cat.score(x_train_scaled, y_train))\n",
    "print(\"Validation accuracy:\", cat.score(x_val_scaled, y_val))"
   ]
  },
  {
   "cell_type": "markdown",
   "metadata": {},
   "source": [
    "XGBoost Classifier "
   ]
  },
  {
   "cell_type": "code",
   "execution_count": 91,
   "metadata": {},
   "outputs": [
    {
     "name": "stdout",
     "output_type": "stream",
     "text": [
      "Training accuracy: 0.9794344473007712\n",
      "Validation accuracy: 0.4572713643178411\n"
     ]
    }
   ],
   "source": [
    "xg = XGBClassifier()\n",
    "xg.fit(x_train_scaled, y_train)\n",
    "\n",
    "print(\"Training accuracy:\", xg.score(x_train_scaled, y_train))\n",
    "print(\"Validation accuracy:\", xg.score(x_val_scaled, y_val))"
   ]
  },
  {
   "cell_type": "markdown",
   "metadata": {},
   "source": [
    "Simple Deep Learning"
   ]
  },
  {
   "cell_type": "code",
   "execution_count": 92,
   "metadata": {},
   "outputs": [],
   "source": [
    "model = tf.keras.Sequential()\n",
    "model.add(Dense(1, activation = 'tanh'))\n",
    "model.compile(optimizer=\"adam\", loss=\"binary_crossentropy\", metrics=['accuracy'])"
   ]
  },
  {
   "cell_type": "code",
   "execution_count": 93,
   "metadata": {},
   "outputs": [
    {
     "name": "stdout",
     "output_type": "stream",
     "text": [
      "Epoch 1/40\n",
      "49/49 [==============================] - 1s 6ms/step - loss: 5.7097 - accuracy: 0.4807\n",
      "Epoch 2/40\n",
      "49/49 [==============================] - 0s 4ms/step - loss: 5.6272 - accuracy: 0.4826\n",
      "Epoch 3/40\n",
      "49/49 [==============================] - 0s 4ms/step - loss: 5.5618 - accuracy: 0.4814\n",
      "Epoch 4/40\n",
      "49/49 [==============================] - 0s 4ms/step - loss: 5.5108 - accuracy: 0.4839\n",
      "Epoch 5/40\n",
      "49/49 [==============================] - 0s 3ms/step - loss: 5.4993 - accuracy: 0.4846\n",
      "Epoch 6/40\n",
      "49/49 [==============================] - 0s 3ms/step - loss: 5.4735 - accuracy: 0.4826\n",
      "Epoch 7/40\n",
      "49/49 [==============================] - 0s 3ms/step - loss: 5.4595 - accuracy: 0.4807\n",
      "Epoch 8/40\n",
      "49/49 [==============================] - 0s 3ms/step - loss: 5.4479 - accuracy: 0.4814\n",
      "Epoch 9/40\n",
      "49/49 [==============================] - 0s 3ms/step - loss: 5.4007 - accuracy: 0.4807\n",
      "Epoch 10/40\n",
      "49/49 [==============================] - 0s 3ms/step - loss: 5.3267 - accuracy: 0.4807\n",
      "Epoch 11/40\n",
      "49/49 [==============================] - 0s 3ms/step - loss: 5.2525 - accuracy: 0.4801\n",
      "Epoch 12/40\n",
      "49/49 [==============================] - 0s 3ms/step - loss: 5.1055 - accuracy: 0.4859\n",
      "Epoch 13/40\n",
      "49/49 [==============================] - 0s 3ms/step - loss: 5.0019 - accuracy: 0.4865\n",
      "Epoch 14/40\n",
      "49/49 [==============================] - 0s 3ms/step - loss: 4.7964 - accuracy: 0.4839\n",
      "Epoch 15/40\n",
      "49/49 [==============================] - 0s 3ms/step - loss: 4.5495 - accuracy: 0.4846\n",
      "Epoch 16/40\n",
      "49/49 [==============================] - 0s 3ms/step - loss: 4.2975 - accuracy: 0.4891\n",
      "Epoch 17/40\n",
      "49/49 [==============================] - 0s 3ms/step - loss: 4.0309 - accuracy: 0.4865\n",
      "Epoch 18/40\n",
      "49/49 [==============================] - 0s 6ms/step - loss: 3.8077 - accuracy: 0.4846\n",
      "Epoch 19/40\n",
      "49/49 [==============================] - 0s 3ms/step - loss: 3.3823 - accuracy: 0.4846\n",
      "Epoch 20/40\n",
      "49/49 [==============================] - 0s 3ms/step - loss: 1.7484 - accuracy: 0.4904\n",
      "Epoch 21/40\n",
      "49/49 [==============================] - 0s 3ms/step - loss: 1.0510 - accuracy: 0.4871\n",
      "Epoch 22/40\n",
      "49/49 [==============================] - 0s 3ms/step - loss: 0.9898 - accuracy: 0.4871\n",
      "Epoch 23/40\n",
      "49/49 [==============================] - 0s 3ms/step - loss: 0.9621 - accuracy: 0.4859\n",
      "Epoch 24/40\n",
      "49/49 [==============================] - 0s 2ms/step - loss: 0.9420 - accuracy: 0.4839\n",
      "Epoch 25/40\n",
      "49/49 [==============================] - 0s 3ms/step - loss: 0.9243 - accuracy: 0.4884\n",
      "Epoch 26/40\n",
      "49/49 [==============================] - 0s 3ms/step - loss: 0.9097 - accuracy: 0.4891\n",
      "Epoch 27/40\n",
      "49/49 [==============================] - 0s 3ms/step - loss: 0.8966 - accuracy: 0.4878\n",
      "Epoch 28/40\n",
      "49/49 [==============================] - 0s 3ms/step - loss: 0.8853 - accuracy: 0.4859\n",
      "Epoch 29/40\n",
      "49/49 [==============================] - 0s 3ms/step - loss: 0.8751 - accuracy: 0.4871\n",
      "Epoch 30/40\n",
      "49/49 [==============================] - 0s 2ms/step - loss: 0.8658 - accuracy: 0.4865\n",
      "Epoch 31/40\n",
      "49/49 [==============================] - 0s 3ms/step - loss: 0.8572 - accuracy: 0.4865\n",
      "Epoch 32/40\n",
      "49/49 [==============================] - 0s 2ms/step - loss: 0.8495 - accuracy: 0.4884\n",
      "Epoch 33/40\n",
      "49/49 [==============================] - 0s 3ms/step - loss: 0.8423 - accuracy: 0.4865\n",
      "Epoch 34/40\n",
      "49/49 [==============================] - 0s 3ms/step - loss: 0.8356 - accuracy: 0.4865\n",
      "Epoch 35/40\n",
      "49/49 [==============================] - 0s 3ms/step - loss: 0.8294 - accuracy: 0.4871\n",
      "Epoch 36/40\n",
      "49/49 [==============================] - 0s 3ms/step - loss: 0.8236 - accuracy: 0.4852\n",
      "Epoch 37/40\n",
      "49/49 [==============================] - 0s 3ms/step - loss: 0.8181 - accuracy: 0.4865\n",
      "Epoch 38/40\n",
      "49/49 [==============================] - 0s 2ms/step - loss: 0.8129 - accuracy: 0.4859\n",
      "Epoch 39/40\n",
      "49/49 [==============================] - 0s 3ms/step - loss: 0.8079 - accuracy: 0.4865\n",
      "Epoch 40/40\n",
      "49/49 [==============================] - 0s 3ms/step - loss: 0.8033 - accuracy: 0.4865\n"
     ]
    }
   ],
   "source": [
    "hist = model.fit(x_train_scaled, y_train, epochs=40, verbose=1)"
   ]
  },
  {
   "cell_type": "code",
   "execution_count": 94,
   "metadata": {},
   "outputs": [
    {
     "name": "stdout",
     "output_type": "stream",
     "text": [
      "21/21 [==============================] - 0s 772us/step\n",
      "49/49 [==============================] - 0s 923us/step\n",
      "Training accuracy: 0.5282776349614395\n",
      "Validation accuracy: 0.5217391304347826\n"
     ]
    }
   ],
   "source": [
    "threshold = 0\n",
    "y_val_pred = (model.predict(x_val_scaled) > threshold).astype(int)\n",
    "print(\"Training accuracy:\", accuracy_score(y_train, (model.predict(x_train_scaled) > threshold).astype(int)))\n",
    "print(\"Validation accuracy:\", accuracy_score(y_val, y_val_pred))"
   ]
  },
  {
   "cell_type": "code",
   "execution_count": null,
   "metadata": {},
   "outputs": [],
   "source": []
  }
 ],
 "metadata": {
  "kernelspec": {
   "display_name": "Python 3 (ipykernel)",
   "language": "python",
   "name": "python3"
  },
  "language_info": {
   "codemirror_mode": {
    "name": "ipython",
    "version": 3
   },
   "file_extension": ".py",
   "mimetype": "text/x-python",
   "name": "python",
   "nbconvert_exporter": "python",
   "pygments_lexer": "ipython3",
   "version": "3.10.13"
  }
 },
 "nbformat": 4,
 "nbformat_minor": 4
}
