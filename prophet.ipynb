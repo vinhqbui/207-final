{
 "cells": [
  {
   "cell_type": "code",
   "execution_count": 1,
   "metadata": {},
   "outputs": [],
   "source": [
    "import pandas as pd\n",
    "from prophet import Prophet\n",
    "\n",
    "from sklearn.metrics import accuracy_score"
   ]
  },
  {
   "cell_type": "code",
   "execution_count": 2,
   "metadata": {},
   "outputs": [],
   "source": [
    "def train_valid_test(data, target, split):\n",
    "    train, valid, test = split\n",
    "    n = data.shape[0]\n",
    "    train_end = int(train * n)\n",
    "    valid_end = int(n * (train + valid))\n",
    "    \n",
    "    x_train, y_train = data[:train_end], target[:train_end]\n",
    "    x_val, y_val = data[train_end:valid_end], target[train_end:valid_end]\n",
    "    x_test, y_test = data[valid_end:], target[valid_end:]\n",
    "\n",
    "    return x_train, y_train, x_val, y_val, x_test, y_test\n",
    "\n",
    "def preprocess_data(data):\n",
    "    lag = 7\n",
    "    result = data.copy()\n",
    "    result['ema'] = result['close'].ewm(span=lag).mean()\n",
    "    for i in range(1, lag+1):\n",
    "        result['lag_' + str(i)] = result['close'].shift(i)\n",
    "\n",
    "    result = result.iloc[lag:]\n",
    "    # Assuming df is your DataFrame and it has 'day' and 'month' columns\n",
    "    result['month_sin'] = np.sin(2 * np.pi * result['month']/12)\n",
    "    result['month_cos'] = np.cos(2 * np.pi * result['month']/12)\n",
    "    result['day_sin'] = np.sin(2 * np.pi * result['day']/31)\n",
    "    result['day_cos'] = np.cos(2 * np.pi * result['day']/31)\n",
    "    return result"
   ]
  },
  {
   "cell_type": "code",
   "execution_count": 3,
   "metadata": {},
   "outputs": [
    {
     "data": {
      "text/html": [
       "<div>\n",
       "<style scoped>\n",
       "    .dataframe tbody tr th:only-of-type {\n",
       "        vertical-align: middle;\n",
       "    }\n",
       "\n",
       "    .dataframe tbody tr th {\n",
       "        vertical-align: top;\n",
       "    }\n",
       "\n",
       "    .dataframe thead th {\n",
       "        text-align: right;\n",
       "    }\n",
       "</style>\n",
       "<table border=\"1\" class=\"dataframe\">\n",
       "  <thead>\n",
       "    <tr style=\"text-align: right;\">\n",
       "      <th></th>\n",
       "      <th>Unnamed: 0</th>\n",
       "      <th>Date</th>\n",
       "      <th>close</th>\n",
       "      <th>open</th>\n",
       "      <th>lowest</th>\n",
       "      <th>highest</th>\n",
       "      <th>total_vol</th>\n",
       "      <th>mean_vol</th>\n",
       "      <th>std_vol</th>\n",
       "      <th>news</th>\n",
       "      <th>month</th>\n",
       "      <th>day</th>\n",
       "      <th>is_up</th>\n",
       "    </tr>\n",
       "  </thead>\n",
       "  <tbody>\n",
       "    <tr>\n",
       "      <th>0</th>\n",
       "      <td>0</td>\n",
       "      <td>2015-01-02</td>\n",
       "      <td>24.490</td>\n",
       "      <td>24.925</td>\n",
       "      <td>24.026</td>\n",
       "      <td>24.992</td>\n",
       "      <td>188181988</td>\n",
       "      <td>482517.917949</td>\n",
       "      <td>453958.983288</td>\n",
       "      <td>[\"Is Xiaomi's first laptop a MacBook Air knock...</td>\n",
       "      <td>1</td>\n",
       "      <td>2</td>\n",
       "      <td>0</td>\n",
       "    </tr>\n",
       "    <tr>\n",
       "      <th>1</th>\n",
       "      <td>1</td>\n",
       "      <td>2015-01-05</td>\n",
       "      <td>23.807</td>\n",
       "      <td>24.192</td>\n",
       "      <td>23.592</td>\n",
       "      <td>24.366</td>\n",
       "      <td>200586492</td>\n",
       "      <td>514324.338462</td>\n",
       "      <td>426711.446836</td>\n",
       "      <td>[\"Is Xiaomi's first laptop a MacBook Air knock...</td>\n",
       "      <td>1</td>\n",
       "      <td>5</td>\n",
       "      <td>0</td>\n",
       "    </tr>\n",
       "    <tr>\n",
       "      <th>2</th>\n",
       "      <td>2</td>\n",
       "      <td>2015-01-06</td>\n",
       "      <td>23.802</td>\n",
       "      <td>23.842</td>\n",
       "      <td>23.417</td>\n",
       "      <td>24.092</td>\n",
       "      <td>237766160</td>\n",
       "      <td>609656.820513</td>\n",
       "      <td>452106.984355</td>\n",
       "      <td>[\"Is Xiaomi's first laptop a MacBook Air knock...</td>\n",
       "      <td>1</td>\n",
       "      <td>6</td>\n",
       "      <td>1</td>\n",
       "    </tr>\n",
       "    <tr>\n",
       "      <th>3</th>\n",
       "      <td>3</td>\n",
       "      <td>2015-01-07</td>\n",
       "      <td>24.143</td>\n",
       "      <td>24.017</td>\n",
       "      <td>23.879</td>\n",
       "      <td>24.265</td>\n",
       "      <td>137809632</td>\n",
       "      <td>353358.030769</td>\n",
       "      <td>315345.332594</td>\n",
       "      <td>Apple aims at bendable devices\\nA newly issued...</td>\n",
       "      <td>1</td>\n",
       "      <td>7</td>\n",
       "      <td>1</td>\n",
       "    </tr>\n",
       "    <tr>\n",
       "      <th>4</th>\n",
       "      <td>4</td>\n",
       "      <td>2015-01-08</td>\n",
       "      <td>25.066</td>\n",
       "      <td>24.391</td>\n",
       "      <td>24.328</td>\n",
       "      <td>25.151</td>\n",
       "      <td>201020076</td>\n",
       "      <td>515436.092308</td>\n",
       "      <td>344928.788130</td>\n",
       "      <td>Xiaomi's buying spree gives Apple, Samsung mor...</td>\n",
       "      <td>1</td>\n",
       "      <td>8</td>\n",
       "      <td>1</td>\n",
       "    </tr>\n",
       "  </tbody>\n",
       "</table>\n",
       "</div>"
      ],
      "text/plain": [
       "   Unnamed: 0        Date   close    open  lowest  highest  total_vol  \\\n",
       "0           0  2015-01-02  24.490  24.925  24.026   24.992  188181988   \n",
       "1           1  2015-01-05  23.807  24.192  23.592   24.366  200586492   \n",
       "2           2  2015-01-06  23.802  23.842  23.417   24.092  237766160   \n",
       "3           3  2015-01-07  24.143  24.017  23.879   24.265  137809632   \n",
       "4           4  2015-01-08  25.066  24.391  24.328   25.151  201020076   \n",
       "\n",
       "        mean_vol        std_vol  \\\n",
       "0  482517.917949  453958.983288   \n",
       "1  514324.338462  426711.446836   \n",
       "2  609656.820513  452106.984355   \n",
       "3  353358.030769  315345.332594   \n",
       "4  515436.092308  344928.788130   \n",
       "\n",
       "                                                news  month  day  is_up  \n",
       "0  [\"Is Xiaomi's first laptop a MacBook Air knock...      1    2      0  \n",
       "1  [\"Is Xiaomi's first laptop a MacBook Air knock...      1    5      0  \n",
       "2  [\"Is Xiaomi's first laptop a MacBook Air knock...      1    6      1  \n",
       "3  Apple aims at bendable devices\\nA newly issued...      1    7      1  \n",
       "4  Xiaomi's buying spree gives Apple, Samsung mor...      1    8      1  "
      ]
     },
     "execution_count": 3,
     "metadata": {},
     "output_type": "execute_result"
    }
   ],
   "source": [
    "data = pd.read_csv('apple_processed_data.csv')\n",
    "data.head()"
   ]
  },
  {
   "cell_type": "code",
   "execution_count": 4,
   "metadata": {},
   "outputs": [],
   "source": [
    "x_train, y_train, x_val, y_val, x_test, y_test = train_valid_test(data['Date'], data['close'], (0.6, 0.2, 0.2))"
   ]
  },
  {
   "cell_type": "code",
   "execution_count": 6,
   "metadata": {},
   "outputs": [
    {
     "name": "stderr",
     "output_type": "stream",
     "text": [
      "20:05:42 - cmdstanpy - INFO - Chain [1] start processing\n",
      "20:05:42 - cmdstanpy - INFO - Chain [1] done processing\n"
     ]
    },
    {
     "data": {
      "text/plain": [
       "<prophet.forecaster.Prophet at 0x1fa9e2349d0>"
      ]
     },
     "execution_count": 6,
     "metadata": {},
     "output_type": "execute_result"
    }
   ],
   "source": [
    "prophet_df = pd.DataFrame({\n",
    "    'ds': x_train, 'y': y_train\n",
    "})\n",
    "m = Prophet()\n",
    "m.add_seasonality(name='monthly', period=30.5, fourier_order=5)\n",
    "m.fit(prophet_df)"
   ]
  },
  {
   "cell_type": "code",
   "execution_count": 7,
   "metadata": {},
   "outputs": [
    {
     "data": {
      "text/plain": [
       "(3111, 1)"
      ]
     },
     "execution_count": 7,
     "metadata": {},
     "output_type": "execute_result"
    }
   ],
   "source": [
    "future = m.make_future_dataframe(periods=x_train.shape[0] + x_val.shape[0])\n",
    "future.shape"
   ]
  },
  {
   "cell_type": "code",
   "execution_count": 8,
   "metadata": {},
   "outputs": [
    {
     "data": {
      "text/html": [
       "<div>\n",
       "<style scoped>\n",
       "    .dataframe tbody tr th:only-of-type {\n",
       "        vertical-align: middle;\n",
       "    }\n",
       "\n",
       "    .dataframe tbody tr th {\n",
       "        vertical-align: top;\n",
       "    }\n",
       "\n",
       "    .dataframe thead th {\n",
       "        text-align: right;\n",
       "    }\n",
       "</style>\n",
       "<table border=\"1\" class=\"dataframe\">\n",
       "  <thead>\n",
       "    <tr style=\"text-align: right;\">\n",
       "      <th></th>\n",
       "      <th>ds</th>\n",
       "      <th>yhat</th>\n",
       "      <th>yhat_lower</th>\n",
       "      <th>yhat_upper</th>\n",
       "    </tr>\n",
       "  </thead>\n",
       "  <tbody>\n",
       "    <tr>\n",
       "      <th>3106</th>\n",
       "      <td>2025-02-27</td>\n",
       "      <td>209.995482</td>\n",
       "      <td>47.075255</td>\n",
       "      <td>363.589828</td>\n",
       "    </tr>\n",
       "    <tr>\n",
       "      <th>3107</th>\n",
       "      <td>2025-02-28</td>\n",
       "      <td>209.792539</td>\n",
       "      <td>45.998877</td>\n",
       "      <td>365.092268</td>\n",
       "    </tr>\n",
       "    <tr>\n",
       "      <th>3108</th>\n",
       "      <td>2025-03-01</td>\n",
       "      <td>208.512855</td>\n",
       "      <td>44.877579</td>\n",
       "      <td>361.199588</td>\n",
       "    </tr>\n",
       "    <tr>\n",
       "      <th>3109</th>\n",
       "      <td>2025-03-02</td>\n",
       "      <td>208.436921</td>\n",
       "      <td>43.183730</td>\n",
       "      <td>365.491829</td>\n",
       "    </tr>\n",
       "    <tr>\n",
       "      <th>3110</th>\n",
       "      <td>2025-03-03</td>\n",
       "      <td>209.554065</td>\n",
       "      <td>44.362866</td>\n",
       "      <td>362.949223</td>\n",
       "    </tr>\n",
       "  </tbody>\n",
       "</table>\n",
       "</div>"
      ],
      "text/plain": [
       "             ds        yhat  yhat_lower  yhat_upper\n",
       "3106 2025-02-27  209.995482   47.075255  363.589828\n",
       "3107 2025-02-28  209.792539   45.998877  365.092268\n",
       "3108 2025-03-01  208.512855   44.877579  361.199588\n",
       "3109 2025-03-02  208.436921   43.183730  365.491829\n",
       "3110 2025-03-03  209.554065   44.362866  362.949223"
      ]
     },
     "execution_count": 8,
     "metadata": {},
     "output_type": "execute_result"
    }
   ],
   "source": [
    "forecast = m.predict(future)\n",
    "forecast[['ds', 'yhat', 'yhat_lower', 'yhat_upper']].tail()"
   ]
  },
  {
   "cell_type": "code",
   "execution_count": 9,
   "metadata": {},
   "outputs": [
    {
     "data": {
      "image/png": "[encoded data removed]",
      "text/plain": [
       "<Figure size 1000x600 with 1 Axes>"
      ]
     },
     "metadata": {},
     "output_type": "display_data"
    }
   ],
   "source": [
    "fig1 = m.plot(forecast)"
   ]
  },
  {
   "cell_type": "code",
   "execution_count": 10,
   "metadata": {},
   "outputs": [
    {
     "data": {
      "text/plain": [
       "445"
      ]
     },
     "execution_count": 10,
     "metadata": {},
     "output_type": "execute_result"
    }
   ],
   "source": [
    "y_val_pred = forecast['yhat'][-y_val.shape[0]:]\n",
    "len(y_val_pred)"
   ]
  },
  {
   "cell_type": "code",
   "execution_count": 11,
   "metadata": {},
   "outputs": [],
   "source": [
    "validation_forecast = forecast[['ds', 'yhat', 'yhat_lower', 'yhat_upper']][x_train.shape[0] + 1:x_train.shape[0]+x_val.shape[0] + 1]"
   ]
  },
  {
   "cell_type": "code",
   "execution_count": 12,
   "metadata": {},
   "outputs": [
    {
     "data": {
      "text/html": [
       "<div>\n",
       "<style scoped>\n",
       "    .dataframe tbody tr th:only-of-type {\n",
       "        vertical-align: middle;\n",
       "    }\n",
       "\n",
       "    .dataframe tbody tr th {\n",
       "        vertical-align: top;\n",
       "    }\n",
       "\n",
       "    .dataframe thead th {\n",
       "        text-align: right;\n",
       "    }\n",
       "</style>\n",
       "<table border=\"1\" class=\"dataframe\">\n",
       "  <thead>\n",
       "    <tr style=\"text-align: right;\">\n",
       "      <th></th>\n",
       "      <th>ds</th>\n",
       "      <th>yhat</th>\n",
       "      <th>yhat_lower</th>\n",
       "      <th>yhat_upper</th>\n",
       "    </tr>\n",
       "  </thead>\n",
       "  <tbody>\n",
       "    <tr>\n",
       "      <th>1334</th>\n",
       "      <td>2020-04-22</td>\n",
       "      <td>73.667888</td>\n",
       "      <td>69.736230</td>\n",
       "      <td>77.354506</td>\n",
       "    </tr>\n",
       "    <tr>\n",
       "      <th>1335</th>\n",
       "      <td>2020-04-23</td>\n",
       "      <td>73.751061</td>\n",
       "      <td>70.130639</td>\n",
       "      <td>77.278461</td>\n",
       "    </tr>\n",
       "    <tr>\n",
       "      <th>1336</th>\n",
       "      <td>2020-04-24</td>\n",
       "      <td>73.740817</td>\n",
       "      <td>70.250559</td>\n",
       "      <td>77.624408</td>\n",
       "    </tr>\n",
       "    <tr>\n",
       "      <th>1337</th>\n",
       "      <td>2020-04-25</td>\n",
       "      <td>72.614516</td>\n",
       "      <td>69.131408</td>\n",
       "      <td>76.016674</td>\n",
       "    </tr>\n",
       "    <tr>\n",
       "      <th>1338</th>\n",
       "      <td>2020-04-26</td>\n",
       "      <td>72.587297</td>\n",
       "      <td>69.034257</td>\n",
       "      <td>75.998423</td>\n",
       "    </tr>\n",
       "    <tr>\n",
       "      <th>...</th>\n",
       "      <td>...</td>\n",
       "      <td>...</td>\n",
       "      <td>...</td>\n",
       "      <td>...</td>\n",
       "    </tr>\n",
       "    <tr>\n",
       "      <th>1774</th>\n",
       "      <td>2021-07-06</td>\n",
       "      <td>105.422646</td>\n",
       "      <td>86.169315</td>\n",
       "      <td>124.881583</td>\n",
       "    </tr>\n",
       "    <tr>\n",
       "      <th>1775</th>\n",
       "      <td>2021-07-07</td>\n",
       "      <td>105.565188</td>\n",
       "      <td>86.244327</td>\n",
       "      <td>124.735842</td>\n",
       "    </tr>\n",
       "    <tr>\n",
       "      <th>1776</th>\n",
       "      <td>2021-07-08</td>\n",
       "      <td>105.723039</td>\n",
       "      <td>85.647191</td>\n",
       "      <td>125.089077</td>\n",
       "    </tr>\n",
       "    <tr>\n",
       "      <th>1777</th>\n",
       "      <td>2021-07-09</td>\n",
       "      <td>105.805040</td>\n",
       "      <td>85.470609</td>\n",
       "      <td>124.780310</td>\n",
       "    </tr>\n",
       "    <tr>\n",
       "      <th>1778</th>\n",
       "      <td>2021-07-10</td>\n",
       "      <td>104.778847</td>\n",
       "      <td>85.258618</td>\n",
       "      <td>124.299186</td>\n",
       "    </tr>\n",
       "  </tbody>\n",
       "</table>\n",
       "<p>445 rows × 4 columns</p>\n",
       "</div>"
      ],
      "text/plain": [
       "             ds        yhat  yhat_lower  yhat_upper\n",
       "1334 2020-04-22   73.667888   69.736230   77.354506\n",
       "1335 2020-04-23   73.751061   70.130639   77.278461\n",
       "1336 2020-04-24   73.740817   70.250559   77.624408\n",
       "1337 2020-04-25   72.614516   69.131408   76.016674\n",
       "1338 2020-04-26   72.587297   69.034257   75.998423\n",
       "...         ...         ...         ...         ...\n",
       "1774 2021-07-06  105.422646   86.169315  124.881583\n",
       "1775 2021-07-07  105.565188   86.244327  124.735842\n",
       "1776 2021-07-08  105.723039   85.647191  125.089077\n",
       "1777 2021-07-09  105.805040   85.470609  124.780310\n",
       "1778 2021-07-10  104.778847   85.258618  124.299186\n",
       "\n",
       "[445 rows x 4 columns]"
      ]
     },
     "execution_count": 12,
     "metadata": {},
     "output_type": "execute_result"
    }
   ],
   "source": [
    "validation_forecast"
   ]
  },
  {
   "cell_type": "code",
   "execution_count": 13,
   "metadata": {},
   "outputs": [
    {
     "data": {
      "text/plain": [
       "1333    2020-04-21\n",
       "1334    2020-04-22\n",
       "1335    2020-04-23\n",
       "1336    2020-04-24\n",
       "1337    2020-04-27\n",
       "           ...    \n",
       "1773    2022-01-18\n",
       "1774    2022-01-19\n",
       "1775    2022-01-20\n",
       "1776    2022-01-21\n",
       "1777    2022-01-24\n",
       "Name: Date, Length: 445, dtype: object"
      ]
     },
     "execution_count": 13,
     "metadata": {},
     "output_type": "execute_result"
    }
   ],
   "source": [
    "x_val"
   ]
  },
  {
   "cell_type": "code",
   "execution_count": 14,
   "metadata": {},
   "outputs": [
    {
     "data": {
      "text/html": [
       "<div>\n",
       "<style scoped>\n",
       "    .dataframe tbody tr th:only-of-type {\n",
       "        vertical-align: middle;\n",
       "    }\n",
       "\n",
       "    .dataframe tbody tr th {\n",
       "        vertical-align: top;\n",
       "    }\n",
       "\n",
       "    .dataframe thead th {\n",
       "        text-align: right;\n",
       "    }\n",
       "</style>\n",
       "<table border=\"1\" class=\"dataframe\">\n",
       "  <thead>\n",
       "    <tr style=\"text-align: right;\">\n",
       "      <th></th>\n",
       "      <th>date</th>\n",
       "      <th>y</th>\n",
       "      <th>yhat</th>\n",
       "    </tr>\n",
       "  </thead>\n",
       "  <tbody>\n",
       "    <tr>\n",
       "      <th>1333</th>\n",
       "      <td>2020-04-21</td>\n",
       "      <td>65.604</td>\n",
       "      <td>NaN</td>\n",
       "    </tr>\n",
       "    <tr>\n",
       "      <th>1334</th>\n",
       "      <td>2020-04-22</td>\n",
       "      <td>67.496</td>\n",
       "      <td>73.667888</td>\n",
       "    </tr>\n",
       "    <tr>\n",
       "      <th>1335</th>\n",
       "      <td>2020-04-23</td>\n",
       "      <td>67.195</td>\n",
       "      <td>73.751061</td>\n",
       "    </tr>\n",
       "    <tr>\n",
       "      <th>1336</th>\n",
       "      <td>2020-04-24</td>\n",
       "      <td>69.171</td>\n",
       "      <td>73.740817</td>\n",
       "    </tr>\n",
       "    <tr>\n",
       "      <th>1337</th>\n",
       "      <td>2020-04-27</td>\n",
       "      <td>69.244</td>\n",
       "      <td>72.614516</td>\n",
       "    </tr>\n",
       "  </tbody>\n",
       "</table>\n",
       "</div>"
      ],
      "text/plain": [
       "            date       y       yhat\n",
       "1333  2020-04-21  65.604        NaN\n",
       "1334  2020-04-22  67.496  73.667888\n",
       "1335  2020-04-23  67.195  73.751061\n",
       "1336  2020-04-24  69.171  73.740817\n",
       "1337  2020-04-27  69.244  72.614516"
      ]
     },
     "execution_count": 14,
     "metadata": {},
     "output_type": "execute_result"
    }
   ],
   "source": [
    "val_df = pd.DataFrame({\n",
    "    'date': x_val,\n",
    "    'y': y_val,\n",
    "    'yhat': validation_forecast['yhat']\n",
    "})\n",
    "val_df.head()"
   ]
  },
  {
   "cell_type": "code",
   "execution_count": 15,
   "metadata": {},
   "outputs": [],
   "source": [
    "val_df['yhat'] = val_df['yhat'].shift(-1)\n"
   ]
  },
  {
   "cell_type": "code",
   "execution_count": 16,
   "metadata": {},
   "outputs": [
    {
     "data": {
      "text/html": [
       "<div>\n",
       "<style scoped>\n",
       "    .dataframe tbody tr th:only-of-type {\n",
       "        vertical-align: middle;\n",
       "    }\n",
       "\n",
       "    .dataframe tbody tr th {\n",
       "        vertical-align: top;\n",
       "    }\n",
       "\n",
       "    .dataframe thead th {\n",
       "        text-align: right;\n",
       "    }\n",
       "</style>\n",
       "<table border=\"1\" class=\"dataframe\">\n",
       "  <thead>\n",
       "    <tr style=\"text-align: right;\">\n",
       "      <th></th>\n",
       "      <th>date</th>\n",
       "      <th>y</th>\n",
       "      <th>yhat</th>\n",
       "    </tr>\n",
       "  </thead>\n",
       "  <tbody>\n",
       "    <tr>\n",
       "      <th>1774</th>\n",
       "      <td>2022-01-19</td>\n",
       "      <td>164.548</td>\n",
       "      <td>105.565188</td>\n",
       "    </tr>\n",
       "    <tr>\n",
       "      <th>1775</th>\n",
       "      <td>2022-01-20</td>\n",
       "      <td>162.875</td>\n",
       "      <td>105.723039</td>\n",
       "    </tr>\n",
       "    <tr>\n",
       "      <th>1776</th>\n",
       "      <td>2022-01-21</td>\n",
       "      <td>160.786</td>\n",
       "      <td>105.805040</td>\n",
       "    </tr>\n",
       "    <tr>\n",
       "      <th>1777</th>\n",
       "      <td>2022-01-24</td>\n",
       "      <td>160.568</td>\n",
       "      <td>104.778847</td>\n",
       "    </tr>\n",
       "    <tr>\n",
       "      <th>1778</th>\n",
       "      <td>NaN</td>\n",
       "      <td>NaN</td>\n",
       "      <td>NaN</td>\n",
       "    </tr>\n",
       "  </tbody>\n",
       "</table>\n",
       "</div>"
      ],
      "text/plain": [
       "            date        y        yhat\n",
       "1774  2022-01-19  164.548  105.565188\n",
       "1775  2022-01-20  162.875  105.723039\n",
       "1776  2022-01-21  160.786  105.805040\n",
       "1777  2022-01-24  160.568  104.778847\n",
       "1778         NaN      NaN         NaN"
      ]
     },
     "execution_count": 16,
     "metadata": {},
     "output_type": "execute_result"
    }
   ],
   "source": [
    "val_df.tail()"
   ]
  },
  {
   "cell_type": "code",
   "execution_count": 17,
   "metadata": {},
   "outputs": [],
   "source": [
    "val_clean_df = val_df[:-1]"
   ]
  },
  {
   "cell_type": "code",
   "execution_count": 18,
   "metadata": {},
   "outputs": [
    {
     "data": {
      "text/plain": [
       "1333    1\n",
       "1334    1\n",
       "1335    1\n",
       "1336    1\n",
       "1337    1\n",
       "       ..\n",
       "1773    0\n",
       "1774    0\n",
       "1775    0\n",
       "1776    0\n",
       "1777    0\n",
       "Length: 445, dtype: int32"
      ]
     },
     "execution_count": 18,
     "metadata": {},
     "output_type": "execute_result"
    }
   ],
   "source": [
    "y_val_pred = (val_clean_df['yhat'] > val_clean_df['y']).astype(int)\n",
    "y_val_pred"
   ]
  },
  {
   "cell_type": "code",
   "execution_count": 19,
   "metadata": {},
   "outputs": [
    {
     "data": {
      "text/plain": [
       "0.47415730337078654"
      ]
     },
     "execution_count": 19,
     "metadata": {},
     "output_type": "execute_result"
    }
   ],
   "source": [
    "y_val_bin = data.iloc[y_val.index]['is_up']\n",
    "accuracy_score(y_val_bin, y_val_pred)"
   ]
  },
  {
   "cell_type": "code",
   "execution_count": 20,
   "metadata": {},
   "outputs": [
    {
     "data": {
      "text/html": [
       "<div>\n",
       "<style scoped>\n",
       "    .dataframe tbody tr th:only-of-type {\n",
       "        vertical-align: middle;\n",
       "    }\n",
       "\n",
       "    .dataframe tbody tr th {\n",
       "        vertical-align: top;\n",
       "    }\n",
       "\n",
       "    .dataframe thead th {\n",
       "        text-align: right;\n",
       "    }\n",
       "</style>\n",
       "<table border=\"1\" class=\"dataframe\">\n",
       "  <thead>\n",
       "    <tr style=\"text-align: right;\">\n",
       "      <th></th>\n",
       "      <th>date</th>\n",
       "      <th>y</th>\n",
       "      <th>yhat</th>\n",
       "    </tr>\n",
       "  </thead>\n",
       "  <tbody>\n",
       "    <tr>\n",
       "      <th>1333</th>\n",
       "      <td>2020-04-21</td>\n",
       "      <td>65.604</td>\n",
       "      <td>73.667888</td>\n",
       "    </tr>\n",
       "    <tr>\n",
       "      <th>1334</th>\n",
       "      <td>2020-04-22</td>\n",
       "      <td>67.496</td>\n",
       "      <td>73.751061</td>\n",
       "    </tr>\n",
       "    <tr>\n",
       "      <th>1335</th>\n",
       "      <td>2020-04-23</td>\n",
       "      <td>67.195</td>\n",
       "      <td>73.740817</td>\n",
       "    </tr>\n",
       "    <tr>\n",
       "      <th>1336</th>\n",
       "      <td>2020-04-24</td>\n",
       "      <td>69.171</td>\n",
       "      <td>72.614516</td>\n",
       "    </tr>\n",
       "    <tr>\n",
       "      <th>1337</th>\n",
       "      <td>2020-04-27</td>\n",
       "      <td>69.244</td>\n",
       "      <td>72.587297</td>\n",
       "    </tr>\n",
       "    <tr>\n",
       "      <th>1338</th>\n",
       "      <td>2020-04-28</td>\n",
       "      <td>68.100</td>\n",
       "      <td>73.652859</td>\n",
       "    </tr>\n",
       "    <tr>\n",
       "      <th>1339</th>\n",
       "      <td>2020-04-29</td>\n",
       "      <td>70.363</td>\n",
       "      <td>73.802835</td>\n",
       "    </tr>\n",
       "    <tr>\n",
       "      <th>1340</th>\n",
       "      <td>2020-04-30</td>\n",
       "      <td>71.869</td>\n",
       "      <td>73.949806</td>\n",
       "    </tr>\n",
       "    <tr>\n",
       "      <th>1341</th>\n",
       "      <td>2020-05-01</td>\n",
       "      <td>70.664</td>\n",
       "      <td>74.141872</td>\n",
       "    </tr>\n",
       "    <tr>\n",
       "      <th>1342</th>\n",
       "      <td>2020-05-04</td>\n",
       "      <td>71.667</td>\n",
       "      <td>74.264510</td>\n",
       "    </tr>\n",
       "  </tbody>\n",
       "</table>\n",
       "</div>"
      ],
      "text/plain": [
       "            date       y       yhat\n",
       "1333  2020-04-21  65.604  73.667888\n",
       "1334  2020-04-22  67.496  73.751061\n",
       "1335  2020-04-23  67.195  73.740817\n",
       "1336  2020-04-24  69.171  72.614516\n",
       "1337  2020-04-27  69.244  72.587297\n",
       "1338  2020-04-28  68.100  73.652859\n",
       "1339  2020-04-29  70.363  73.802835\n",
       "1340  2020-04-30  71.869  73.949806\n",
       "1341  2020-05-01  70.664  74.141872\n",
       "1342  2020-05-04  71.667  74.264510"
      ]
     },
     "execution_count": 20,
     "metadata": {},
     "output_type": "execute_result"
    }
   ],
   "source": [
    "val_clean_df.head(10)"
   ]
  },
  {
   "cell_type": "code",
   "execution_count": null,
   "metadata": {},
   "outputs": [],
   "source": []
  }
 ],
 "metadata": {
  "kernelspec": {
   "display_name": "base",
   "language": "python",
   "name": "python3"
  },
  "language_info": {
   "codemirror_mode": {
    "name": "ipython",
    "version": 3
   },
   "file_extension": ".py",
   "mimetype": "text/x-python",
   "name": "python",
   "nbconvert_exporter": "python",
   "pygments_lexer": "ipython3",
   "version": "3.10.13"
  }
 },
 "nbformat": 4,
 "nbformat_minor": 2
}
